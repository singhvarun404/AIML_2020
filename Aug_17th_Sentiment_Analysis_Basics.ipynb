{
  "nbformat": 4,
  "nbformat_minor": 0,
  "metadata": {
    "colab": {
      "name": "Aug_17th_Sentiment_Analysis_Basics.ipynb",
      "provenance": [],
      "authorship_tag": "ABX9TyNpYsN+K2ObZd80couJFCxn",
      "include_colab_link": true
    },
    "kernelspec": {
      "name": "python3",
      "display_name": "Python 3"
    }
  },
  "cells": [
    {
      "cell_type": "markdown",
      "metadata": {
        "id": "view-in-github",
        "colab_type": "text"
      },
      "source": [
        "<a href=\"https://colab.research.google.com/github/singhvarun404/AIML_2020/blob/master/Aug_17th_Sentiment_Analysis_Basics.ipynb\" target=\"_parent\"><img src=\"https://colab.research.google.com/assets/colab-badge.svg\" alt=\"Open In Colab\"/></a>"
      ]
    },
    {
      "cell_type": "code",
      "metadata": {
        "id": "m7hvab19ZHbi",
        "colab_type": "code",
        "colab": {
          "base_uri": "https://localhost:8080/",
          "height": 53
        },
        "outputId": "2574ed43-49f7-4a4a-9dc7-738924247474"
      },
      "source": [
        "topic = \"Sentiment Analysis Basics\"\n",
        "date = 17\n",
        "print(\"Date: August {}\\nTopic: {}\".format(date,topic))"
      ],
      "execution_count": 1,
      "outputs": [
        {
          "output_type": "stream",
          "text": [
            "Date: August 17\n",
            "Topic: Sentiment Analysis Basics\n"
          ],
          "name": "stdout"
        }
      ]
    },
    {
      "cell_type": "markdown",
      "metadata": {
        "id": "gG_ZC5oqbmWm",
        "colab_type": "text"
      },
      "source": [
        "**Analysis of basic sentence**"
      ]
    },
    {
      "cell_type": "code",
      "metadata": {
        "id": "XOihOkY_a-PJ",
        "colab_type": "code",
        "colab": {
          "base_uri": "https://localhost:8080/",
          "height": 72
        },
        "outputId": "48485b8b-f978-468f-cc79-f1b3a6d1ae56"
      },
      "source": [
        "### NLTK (Natural Language Tool Kit) library is used.\n",
        "### Vader_Lexicon package in NLTK. Developed by FB for sentiment analysis.\n",
        "import nltk\n",
        "nltk.download('vader_lexicon')"
      ],
      "execution_count": 2,
      "outputs": [
        {
          "output_type": "stream",
          "text": [
            "[nltk_data] Downloading package vader_lexicon to /root/nltk_data...\n",
            "[nltk_data]   Package vader_lexicon is already up-to-date!\n"
          ],
          "name": "stdout"
        },
        {
          "output_type": "execute_result",
          "data": {
            "text/plain": [
              "True"
            ]
          },
          "metadata": {
            "tags": []
          },
          "execution_count": 2
        }
      ]
    },
    {
      "cell_type": "code",
      "metadata": {
        "id": "eA47_PZkcJgk",
        "colab_type": "code",
        "colab": {}
      },
      "source": [
        "from nltk.sentiment.vader import SentimentIntensityAnalyzer   ### Class that will be used for sentiment analysis"
      ],
      "execution_count": null,
      "outputs": []
    },
    {
      "cell_type": "code",
      "metadata": {
        "id": "XROmojYtcSBs",
        "colab_type": "code",
        "colab": {}
      },
      "source": [
        "SIA_obj = SentimentIntensityAnalyzer()"
      ],
      "execution_count": 4,
      "outputs": []
    },
    {
      "cell_type": "code",
      "metadata": {
        "id": "og8EAWuWcefx",
        "colab_type": "code",
        "colab": {
          "base_uri": "https://localhost:8080/",
          "height": 35
        },
        "outputId": "061b13bc-bf88-4541-e44a-45ffbec4a99e"
      },
      "source": [
        "SIA_obj.polarity_scores('Great')"
      ],
      "execution_count": 5,
      "outputs": [
        {
          "output_type": "execute_result",
          "data": {
            "text/plain": [
              "{'compound': 0.6249, 'neg': 0.0, 'neu': 0.0, 'pos': 1.0}"
            ]
          },
          "metadata": {
            "tags": []
          },
          "execution_count": 5
        }
      ]
    },
    {
      "cell_type": "code",
      "metadata": {
        "id": "IDEDiviEdehH",
        "colab_type": "code",
        "colab": {
          "base_uri": "https://localhost:8080/",
          "height": 35
        },
        "outputId": "81aafaef-e516-4eb4-fd54-dc785948b3ae"
      },
      "source": [
        "SIA_obj.polarity_scores('running')"
      ],
      "execution_count": 6,
      "outputs": [
        {
          "output_type": "execute_result",
          "data": {
            "text/plain": [
              "{'compound': 0.0, 'neg': 0.0, 'neu': 1.0, 'pos': 0.0}"
            ]
          },
          "metadata": {
            "tags": []
          },
          "execution_count": 6
        }
      ]
    },
    {
      "cell_type": "code",
      "metadata": {
        "id": "7au4J36Xd4y_",
        "colab_type": "code",
        "colab": {
          "base_uri": "https://localhost:8080/",
          "height": 35
        },
        "outputId": "24705f5d-94ff-4a42-cd4a-4a84beb79b8b"
      },
      "source": [
        "SIA_obj.polarity_scores('Best and Excellent')"
      ],
      "execution_count": 7,
      "outputs": [
        {
          "output_type": "execute_result",
          "data": {
            "text/plain": [
              "{'compound': 0.836, 'neg': 0.0, 'neu': 0.112, 'pos': 0.888}"
            ]
          },
          "metadata": {
            "tags": []
          },
          "execution_count": 7
        }
      ]
    },
    {
      "cell_type": "code",
      "metadata": {
        "id": "6tCcO7HqeVrF",
        "colab_type": "code",
        "colab": {
          "base_uri": "https://localhost:8080/",
          "height": 35
        },
        "outputId": "ed433e63-5a08-4c61-b705-312a29816fb9"
      },
      "source": [
        "SIA_obj.polarity_scores('Worst')"
      ],
      "execution_count": 8,
      "outputs": [
        {
          "output_type": "execute_result",
          "data": {
            "text/plain": [
              "{'compound': -0.6249, 'neg': 1.0, 'neu': 0.0, 'pos': 0.0}"
            ]
          },
          "metadata": {
            "tags": []
          },
          "execution_count": 8
        }
      ]
    },
    {
      "cell_type": "code",
      "metadata": {
        "id": "tzxDNScUeyEs",
        "colab_type": "code",
        "colab": {
          "base_uri": "https://localhost:8080/",
          "height": 35
        },
        "outputId": "08326dd2-16d7-4795-cbb7-f83ade49de01"
      },
      "source": [
        "SIA_obj.polarity_scores('Worst and Stopped working')"
      ],
      "execution_count": 9,
      "outputs": [
        {
          "output_type": "execute_result",
          "data": {
            "text/plain": [
              "{'compound': -0.7184, 'neg': 0.75, 'neu': 0.25, 'pos': 0.0}"
            ]
          },
          "metadata": {
            "tags": []
          },
          "execution_count": 9
        }
      ]
    },
    {
      "cell_type": "code",
      "metadata": {
        "id": "xu2V84tYe6TE",
        "colab_type": "code",
        "colab": {
          "base_uri": "https://localhost:8080/",
          "height": 35
        },
        "outputId": "769c3a58-284f-4c6c-d310-0b209f1310ea"
      },
      "source": [
        "SIA_obj.polarity_scores('waste but comedic')"
      ],
      "execution_count": 10,
      "outputs": [
        {
          "output_type": "execute_result",
          "data": {
            "text/plain": [
              "{'compound': 0.3919, 'neg': 0.295, 'neu': 0.155, 'pos': 0.55}"
            ]
          },
          "metadata": {
            "tags": []
          },
          "execution_count": 10
        }
      ]
    },
    {
      "cell_type": "code",
      "metadata": {
        "id": "k0oR59W4fqzb",
        "colab_type": "code",
        "colab": {
          "base_uri": "https://localhost:8080/",
          "height": 35
        },
        "outputId": "3610e857-7135-4b68-c242-1c1ce577fa27"
      },
      "source": [
        "SIA_obj.polarity_scores('This movie was waste of time and money but it had some comedic moments')  ### equivalent to the previous sentence except neutral part"
      ],
      "execution_count": 11,
      "outputs": [
        {
          "output_type": "execute_result",
          "data": {
            "text/plain": [
              "{'compound': 0.3919, 'neg': 0.109, 'neu': 0.688, 'pos': 0.203}"
            ]
          },
          "metadata": {
            "tags": []
          },
          "execution_count": 11
        }
      ]
    }
  ]
}