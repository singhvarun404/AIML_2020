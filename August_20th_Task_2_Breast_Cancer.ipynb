{
  "nbformat": 4,
  "nbformat_minor": 0,
  "metadata": {
    "colab": {
      "name": "August_20th_Task_2_Breast_Cancer.ipynb",
      "provenance": [],
      "authorship_tag": "ABX9TyOnxqLrlIug66F+p8IjelVF",
      "include_colab_link": true
    },
    "kernelspec": {
      "name": "python3",
      "display_name": "Python 3"
    }
  },
  "cells": [
    {
      "cell_type": "markdown",
      "metadata": {
        "id": "view-in-github",
        "colab_type": "text"
      },
      "source": [
        "<a href=\"https://colab.research.google.com/github/singhvarun404/AIML_2020/blob/master/August_20th_Task_2_Breast_Cancer.ipynb\" target=\"_parent\"><img src=\"https://colab.research.google.com/assets/colab-badge.svg\" alt=\"Open In Colab\"/></a>"
      ]
    },
    {
      "cell_type": "code",
      "metadata": {
        "id": "ioX_Rw9j1BYk",
        "colab_type": "code",
        "colab": {}
      },
      "source": [
        "import matplotlib.pyplot as plt\n",
        "import tensorflow.keras as tf\n",
        "import numpy as np\n",
        "import pandas as pd"
      ],
      "execution_count": 1,
      "outputs": []
    },
    {
      "cell_type": "code",
      "metadata": {
        "id": "UFzcGi7GHOIG",
        "colab_type": "code",
        "colab": {
          "base_uri": "https://localhost:8080/",
          "height": 744
        },
        "outputId": "11371755-2506-4b82-c404-c644d820746d"
      },
      "source": [
        "cancer_df = pd.read_csv('breast_cancer.csv')\n",
        "cancer_df.info()"
      ],
      "execution_count": 2,
      "outputs": [
        {
          "output_type": "stream",
          "text": [
            "<class 'pandas.core.frame.DataFrame'>\n",
            "RangeIndex: 569 entries, 0 to 568\n",
            "Data columns (total 33 columns):\n",
            " #   Column                   Non-Null Count  Dtype  \n",
            "---  ------                   --------------  -----  \n",
            " 0   id                       569 non-null    int64  \n",
            " 1   diagnosis                569 non-null    object \n",
            " 2   radius_mean              569 non-null    float64\n",
            " 3   texture_mean             569 non-null    float64\n",
            " 4   perimeter_mean           569 non-null    float64\n",
            " 5   area_mean                569 non-null    float64\n",
            " 6   smoothness_mean          569 non-null    float64\n",
            " 7   compactness_mean         569 non-null    float64\n",
            " 8   concavity_mean           569 non-null    float64\n",
            " 9   concave points_mean      569 non-null    float64\n",
            " 10  symmetry_mean            569 non-null    float64\n",
            " 11  fractal_dimension_mean   569 non-null    float64\n",
            " 12  radius_se                569 non-null    float64\n",
            " 13  texture_se               569 non-null    float64\n",
            " 14  perimeter_se             569 non-null    float64\n",
            " 15  area_se                  569 non-null    float64\n",
            " 16  smoothness_se            569 non-null    float64\n",
            " 17  compactness_se           569 non-null    float64\n",
            " 18  concavity_se             569 non-null    float64\n",
            " 19  concave points_se        569 non-null    float64\n",
            " 20  symmetry_se              569 non-null    float64\n",
            " 21  fractal_dimension_se     569 non-null    float64\n",
            " 22  radius_worst             569 non-null    float64\n",
            " 23  texture_worst            569 non-null    float64\n",
            " 24  perimeter_worst          569 non-null    float64\n",
            " 25  area_worst               569 non-null    float64\n",
            " 26  smoothness_worst         569 non-null    float64\n",
            " 27  compactness_worst        569 non-null    float64\n",
            " 28  concavity_worst          569 non-null    float64\n",
            " 29  concave points_worst     569 non-null    float64\n",
            " 30  symmetry_worst           569 non-null    float64\n",
            " 31  fractal_dimension_worst  569 non-null    float64\n",
            " 32  Unnamed: 32              0 non-null      float64\n",
            "dtypes: float64(31), int64(1), object(1)\n",
            "memory usage: 146.8+ KB\n"
          ],
          "name": "stdout"
        }
      ]
    },
    {
      "cell_type": "code",
      "metadata": {
        "id": "5MZNg1ZvrbKR",
        "colab_type": "code",
        "colab": {
          "base_uri": "https://localhost:8080/",
          "height": 72
        },
        "outputId": "ec912ed5-7a6c-4720-8a7c-72e2e91168fc"
      },
      "source": [
        "cancer_df['diagnosis'].value_counts()"
      ],
      "execution_count": 3,
      "outputs": [
        {
          "output_type": "execute_result",
          "data": {
            "text/plain": [
              "B    357\n",
              "M    212\n",
              "Name: diagnosis, dtype: int64"
            ]
          },
          "metadata": {
            "tags": []
          },
          "execution_count": 3
        }
      ]
    },
    {
      "cell_type": "code",
      "metadata": {
        "id": "UIybjd8v9DJ9",
        "colab_type": "code",
        "colab": {}
      },
      "source": [
        "### Data visualization\n",
        "###"
      ],
      "execution_count": 4,
      "outputs": []
    },
    {
      "cell_type": "code",
      "metadata": {
        "id": "H2NSBwqTHeyD",
        "colab_type": "code",
        "colab": {
          "base_uri": "https://localhost:8080/",
          "height": 35
        },
        "outputId": "54d55bb1-4240-45a3-89e9-50f35b566b57"
      },
      "source": [
        "x_feat = cancer_df.iloc[:,2:32].values\n",
        "x_feat.shape"
      ],
      "execution_count": 5,
      "outputs": [
        {
          "output_type": "execute_result",
          "data": {
            "text/plain": [
              "(569, 30)"
            ]
          },
          "metadata": {
            "tags": []
          },
          "execution_count": 5
        }
      ]
    },
    {
      "cell_type": "code",
      "metadata": {
        "id": "cjMpE5vWIbOs",
        "colab_type": "code",
        "colab": {
          "base_uri": "https://localhost:8080/",
          "height": 35
        },
        "outputId": "c08ae171-1883-4686-bf09-e8a65074a4fa"
      },
      "source": [
        "y_lab = cancer_df.iloc[:,1].values\n",
        "y_lab.shape"
      ],
      "execution_count": 6,
      "outputs": [
        {
          "output_type": "execute_result",
          "data": {
            "text/plain": [
              "(569,)"
            ]
          },
          "metadata": {
            "tags": []
          },
          "execution_count": 6
        }
      ]
    },
    {
      "cell_type": "code",
      "metadata": {
        "id": "Ifg2SQZsM_Os",
        "colab_type": "code",
        "colab": {}
      },
      "source": [
        "for i in range(len(y_lab)):\n",
        "  if y_lab[i] == \"B\":\n",
        "    y_lab[i] = 0\n",
        "  else:\n",
        "    y_lab[i] = 1"
      ],
      "execution_count": 7,
      "outputs": []
    },
    {
      "cell_type": "code",
      "metadata": {
        "id": "Z9zg-EpYQstr",
        "colab_type": "code",
        "colab": {
          "base_uri": "https://localhost:8080/",
          "height": 35
        },
        "outputId": "94054cdf-5e04-454f-f89b-f8661b8ec252"
      },
      "source": [
        "y_lab.dtype"
      ],
      "execution_count": 8,
      "outputs": [
        {
          "output_type": "execute_result",
          "data": {
            "text/plain": [
              "dtype('O')"
            ]
          },
          "metadata": {
            "tags": []
          },
          "execution_count": 8
        }
      ]
    },
    {
      "cell_type": "code",
      "metadata": {
        "id": "BIkiiVdKQvh4",
        "colab_type": "code",
        "colab": {}
      },
      "source": [
        "y_lab = y_lab.astype(np.float32)"
      ],
      "execution_count": 9,
      "outputs": []
    },
    {
      "cell_type": "code",
      "metadata": {
        "id": "ayhasN5cQ7BY",
        "colab_type": "code",
        "colab": {
          "base_uri": "https://localhost:8080/",
          "height": 35
        },
        "outputId": "cb5cbb9f-feeb-4361-dddc-1c684e480820"
      },
      "source": [
        "y_lab.dtype"
      ],
      "execution_count": 10,
      "outputs": [
        {
          "output_type": "execute_result",
          "data": {
            "text/plain": [
              "dtype('float32')"
            ]
          },
          "metadata": {
            "tags": []
          },
          "execution_count": 10
        }
      ]
    },
    {
      "cell_type": "code",
      "metadata": {
        "id": "fEhM1qqNF2ap",
        "colab_type": "code",
        "colab": {}
      },
      "source": [
        "### Feature Scaling\n",
        "from sklearn.preprocessing import StandardScaler\n",
        "sc = StandardScaler()\n",
        "x_feat = sc.fit_transform(x_feat)"
      ],
      "execution_count": 11,
      "outputs": []
    },
    {
      "cell_type": "code",
      "metadata": {
        "id": "_d1AkrskIe2J",
        "colab_type": "code",
        "colab": {}
      },
      "source": [
        "from sklearn.model_selection import train_test_split"
      ],
      "execution_count": 12,
      "outputs": []
    },
    {
      "cell_type": "code",
      "metadata": {
        "id": "9TLVXKCoJpCF",
        "colab_type": "code",
        "colab": {
          "base_uri": "https://localhost:8080/",
          "height": 35
        },
        "outputId": "b3f4b5a2-9e4a-4ee1-99ce-52520d0cf760"
      },
      "source": [
        "### Ensuring distribution of malignant and benign data is uniform among test and train set\n",
        "rs = 1\n",
        "while(1):\n",
        "  x_feat_train, x_feat_test, y_lab_train, y_lab_test = train_test_split(x_feat, y_lab, test_size = 0.2, random_state = rs)\n",
        "  no_of_M = 0\n",
        "  no_of_B = 0\n",
        "  for i in range(len(y_lab_test)):\n",
        "    if y_lab_test[i] == 0:\n",
        "      no_of_B += 1\n",
        "    else:\n",
        "      no_of_M += 1\n",
        "  ratio_BM = no_of_B/no_of_M\n",
        "  if ratio_BM <= 1.7 and ratio_BM >=1.6:\n",
        "    break\n",
        "  else:\n",
        "    rs += 1\n",
        "    continue\n",
        "rs"
      ],
      "execution_count": 13,
      "outputs": [
        {
          "output_type": "execute_result",
          "data": {
            "text/plain": [
              "22"
            ]
          },
          "metadata": {
            "tags": []
          },
          "execution_count": 13
        }
      ]
    },
    {
      "cell_type": "code",
      "metadata": {
        "id": "fPkuT8Ys3vsD",
        "colab_type": "code",
        "colab": {}
      },
      "source": [
        "### Feature Scaling\n",
        "#from sklearn.preprocessing import StandardScaler\n",
        "#sc = StandardScaler()\n",
        "#x_feat_train = sc.fit_transform(x_feat_train)\n",
        "#X_feat_test = sc.transform(x_feat_test)"
      ],
      "execution_count": 14,
      "outputs": []
    },
    {
      "cell_type": "code",
      "metadata": {
        "id": "G7vpzwlJJwl4",
        "colab_type": "code",
        "colab": {}
      },
      "source": [
        "### Creating the model and training\n",
        "from tensorflow.keras import regularizers\n",
        "model = tf.models.Sequential()\n",
        "\n",
        "model.add(tf.layers.Dense(30,activation = 'relu',kernel_regularizer=regularizers.l2(0.002),input_dim = 30))   \n",
        "model.add(tf.layers.Dense(60,activation = 'relu',kernel_regularizer=regularizers.l2(0.002))) \n",
        "model.add(tf.layers.Dense(1,activation = 'sigmoid')) \n",
        "\n",
        "optimiz = tf.optimizers.Adam(learning_rate=0.0005)\n",
        "\n",
        "model.compile(loss = 'binary_crossentropy', optimizer = optimiz, metrics = ['accuracy'])"
      ],
      "execution_count": 15,
      "outputs": []
    },
    {
      "cell_type": "code",
      "metadata": {
        "id": "OmA99ehaKvyf",
        "colab_type": "code",
        "colab": {
          "base_uri": "https://localhost:8080/",
          "height": 762
        },
        "outputId": "ff78f9cb-963f-46d4-9498-ccced6a21273"
      },
      "source": [
        "model.fit(x_feat_train,y_lab_train,batch_size = 5,epochs=20)"
      ],
      "execution_count": 16,
      "outputs": [
        {
          "output_type": "stream",
          "text": [
            "Epoch 1/20\n",
            "91/91 [==============================] - 0s 1ms/step - loss: 0.5520 - accuracy: 0.8571\n",
            "Epoch 2/20\n",
            "91/91 [==============================] - 0s 1ms/step - loss: 0.3188 - accuracy: 0.9538\n",
            "Epoch 3/20\n",
            "91/91 [==============================] - 0s 1ms/step - loss: 0.2515 - accuracy: 0.9648\n",
            "Epoch 4/20\n",
            "91/91 [==============================] - 0s 1ms/step - loss: 0.2206 - accuracy: 0.9670\n",
            "Epoch 5/20\n",
            "91/91 [==============================] - 0s 1ms/step - loss: 0.2003 - accuracy: 0.9780\n",
            "Epoch 6/20\n",
            "91/91 [==============================] - 0s 1ms/step - loss: 0.1849 - accuracy: 0.9868\n",
            "Epoch 7/20\n",
            "91/91 [==============================] - 0s 1ms/step - loss: 0.1728 - accuracy: 0.9890\n",
            "Epoch 8/20\n",
            "91/91 [==============================] - 0s 1ms/step - loss: 0.1632 - accuracy: 0.9912\n",
            "Epoch 9/20\n",
            "91/91 [==============================] - 0s 1ms/step - loss: 0.1543 - accuracy: 0.9912\n",
            "Epoch 10/20\n",
            "91/91 [==============================] - 0s 1ms/step - loss: 0.1469 - accuracy: 0.9912\n",
            "Epoch 11/20\n",
            "91/91 [==============================] - 0s 1ms/step - loss: 0.1406 - accuracy: 0.9912\n",
            "Epoch 12/20\n",
            "91/91 [==============================] - 0s 1ms/step - loss: 0.1342 - accuracy: 0.9912\n",
            "Epoch 13/20\n",
            "91/91 [==============================] - 0s 1ms/step - loss: 0.1291 - accuracy: 0.9912\n",
            "Epoch 14/20\n",
            "91/91 [==============================] - 0s 1ms/step - loss: 0.1233 - accuracy: 0.9890\n",
            "Epoch 15/20\n",
            "91/91 [==============================] - 0s 1ms/step - loss: 0.1187 - accuracy: 0.9912\n",
            "Epoch 16/20\n",
            "91/91 [==============================] - 0s 1ms/step - loss: 0.1142 - accuracy: 0.9890\n",
            "Epoch 17/20\n",
            "91/91 [==============================] - 0s 1ms/step - loss: 0.1094 - accuracy: 0.9890\n",
            "Epoch 18/20\n",
            "91/91 [==============================] - 0s 1ms/step - loss: 0.1061 - accuracy: 0.9912\n",
            "Epoch 19/20\n",
            "91/91 [==============================] - 0s 1ms/step - loss: 0.1019 - accuracy: 0.9912\n",
            "Epoch 20/20\n",
            "91/91 [==============================] - 0s 1ms/step - loss: 0.0983 - accuracy: 0.9912\n"
          ],
          "name": "stdout"
        },
        {
          "output_type": "execute_result",
          "data": {
            "text/plain": [
              "<tensorflow.python.keras.callbacks.History at 0x7f590f4d7518>"
            ]
          },
          "metadata": {
            "tags": []
          },
          "execution_count": 16
        }
      ]
    },
    {
      "cell_type": "code",
      "metadata": {
        "id": "YMgJAMaLLSwo",
        "colab_type": "code",
        "colab": {}
      },
      "source": [
        "### Testing\n",
        "y_pred = model.predict(x_feat_test)\n",
        "y_prede = []\n",
        "for i in range(len(y_pred)):\n",
        "  if y_pred[i] < 0.5:\n",
        "    y_prede.append(0.0)\n",
        "  else:\n",
        "    y_prede.append(1.0)\n",
        "y_pred_npa = np.array(y_prede)"
      ],
      "execution_count": 17,
      "outputs": []
    },
    {
      "cell_type": "code",
      "metadata": {
        "id": "JD8PgfKBoqPy",
        "colab_type": "code",
        "colab": {
          "base_uri": "https://localhost:8080/",
          "height": 35
        },
        "outputId": "f087b66e-7f22-4995-ac8d-984c6ffc5d43"
      },
      "source": [
        "y_pred_npa[10]"
      ],
      "execution_count": 18,
      "outputs": [
        {
          "output_type": "execute_result",
          "data": {
            "text/plain": [
              "0.0"
            ]
          },
          "metadata": {
            "tags": []
          },
          "execution_count": 18
        }
      ]
    },
    {
      "cell_type": "code",
      "metadata": {
        "id": "l0LejLphoAaq",
        "colab_type": "code",
        "colab": {
          "base_uri": "https://localhost:8080/",
          "height": 72
        },
        "outputId": "f81ca41f-513d-475b-fec0-5b4fbb29f8e7"
      },
      "source": [
        "from tensorflow.math import confusion_matrix\n",
        "conf = confusion_matrix(y_lab_test,y_pred_npa,num_classes=2)\n",
        "conf"
      ],
      "execution_count": 19,
      "outputs": [
        {
          "output_type": "execute_result",
          "data": {
            "text/plain": [
              "<tf.Tensor: shape=(2, 2), dtype=int32, numpy=\n",
              "array([[70,  1],\n",
              "       [ 3, 40]], dtype=int32)>"
            ]
          },
          "metadata": {
            "tags": []
          },
          "execution_count": 19
        }
      ]
    },
    {
      "cell_type": "code",
      "metadata": {
        "id": "VXwhNPs0pUoU",
        "colab_type": "code",
        "colab": {}
      },
      "source": [
        "from tensorflow.keras.metrics import binary_accuracy"
      ],
      "execution_count": 20,
      "outputs": []
    },
    {
      "cell_type": "code",
      "metadata": {
        "id": "eTaLA20ypjI4",
        "colab_type": "code",
        "colab": {
          "base_uri": "https://localhost:8080/",
          "height": 35
        },
        "outputId": "e94dfe53-c9bd-458e-9797-c30563039169"
      },
      "source": [
        "acc = binary_accuracy(y_lab_test,y_pred_npa)\n",
        "acc"
      ],
      "execution_count": 21,
      "outputs": [
        {
          "output_type": "execute_result",
          "data": {
            "text/plain": [
              "<tf.Tensor: shape=(), dtype=float32, numpy=0.9649123>"
            ]
          },
          "metadata": {
            "tags": []
          },
          "execution_count": 21
        }
      ]
    },
    {
      "cell_type": "code",
      "metadata": {
        "id": "gAQSvK3yp_jE",
        "colab_type": "code",
        "colab": {}
      },
      "source": [
        ""
      ],
      "execution_count": 21,
      "outputs": []
    }
  ]
}