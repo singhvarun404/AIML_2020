{
  "nbformat": 4,
  "nbformat_minor": 0,
  "metadata": {
    "colab": {
      "name": "Aug_10_Numpy.ipynb",
      "provenance": [],
      "collapsed_sections": [],
      "authorship_tag": "ABX9TyPaKEY1SOborHY/sRAbUjl7",
      "include_colab_link": true
    },
    "kernelspec": {
      "name": "python3",
      "display_name": "Python 3"
    }
  },
  "cells": [
    {
      "cell_type": "markdown",
      "metadata": {
        "id": "view-in-github",
        "colab_type": "text"
      },
      "source": [
        "<a href=\"https://colab.research.google.com/github/singhvarun404/AIML_2020/blob/master/Aug_10_Numpy.ipynb\" target=\"_parent\"><img src=\"https://colab.research.google.com/assets/colab-badge.svg\" alt=\"Open In Colab\"/></a>"
      ]
    },
    {
      "cell_type": "code",
      "metadata": {
        "id": "zlH2aMHGOQig",
        "colab_type": "code",
        "colab": {
          "base_uri": "https://localhost:8080/",
          "height": 53
        },
        "outputId": "b722c40c-b643-4f71-b485-9b4017a4d5c9"
      },
      "source": [
        "date = 10\n",
        "topic = \"numpy\"\n",
        "print(\"August: {} \\nTopic: {}\".format(date,topic))"
      ],
      "execution_count": 1,
      "outputs": [
        {
          "output_type": "stream",
          "text": [
            "August: 10 \n",
            "Topic: numpy\n"
          ],
          "name": "stdout"
        }
      ]
    },
    {
      "cell_type": "code",
      "metadata": {
        "id": "1w_1N89TtR0w",
        "colab_type": "code",
        "colab": {}
      },
      "source": [
        "import numpy as np"
      ],
      "execution_count": 2,
      "outputs": []
    },
    {
      "cell_type": "markdown",
      "metadata": {
        "id": "IAM_hwfjzZiW",
        "colab_type": "text"
      },
      "source": [
        "**Just depicting some numpy array below:**"
      ]
    },
    {
      "cell_type": "code",
      "metadata": {
        "id": "nmMGHZloukz_",
        "colab_type": "code",
        "colab": {
          "base_uri": "https://localhost:8080/",
          "height": 53
        },
        "outputId": "95768923-2527-4644-8a98-91d139083d91"
      },
      "source": [
        "one_d_array = np.array([1,2,3,4,5])\n",
        "print(one_d_array)\n",
        "type(one_d_array)"
      ],
      "execution_count": 3,
      "outputs": [
        {
          "output_type": "stream",
          "text": [
            "[1 2 3 4 5]\n"
          ],
          "name": "stdout"
        },
        {
          "output_type": "execute_result",
          "data": {
            "text/plain": [
              "numpy.ndarray"
            ]
          },
          "metadata": {
            "tags": []
          },
          "execution_count": 3
        }
      ]
    },
    {
      "cell_type": "code",
      "metadata": {
        "id": "9Y1XsY8su7Sg",
        "colab_type": "code",
        "colab": {
          "base_uri": "https://localhost:8080/",
          "height": 144
        },
        "outputId": "f64f80fc-2669-4e32-d2ea-26988e17f802"
      },
      "source": [
        "two_d_array = np.array([[1,3,5,7],[2,4,6,8]])\n",
        "print(\"Two dimensional array:\\n\", two_d_array)\n",
        "print(\"Array shape:\",two_d_array.shape)\n",
        "print(\"Array size:\",two_d_array.size)\n",
        "print(\"Array dimension\",two_d_array.ndim)\n",
        "print(\"No. of elements:\",len(two_d_array))"
      ],
      "execution_count": 4,
      "outputs": [
        {
          "output_type": "stream",
          "text": [
            "Two dimensional array:\n",
            " [[1 3 5 7]\n",
            " [2 4 6 8]]\n",
            "Array shape: (2, 4)\n",
            "Array size: 8\n",
            "Array dimension 2\n",
            "No. of elements: 2\n"
          ],
          "name": "stdout"
        }
      ]
    },
    {
      "cell_type": "code",
      "metadata": {
        "id": "N4VBcCobvcO8",
        "colab_type": "code",
        "colab": {
          "base_uri": "https://localhost:8080/",
          "height": 235
        },
        "outputId": "83f1fa84-baf2-4e15-bc2e-c9fe61270615"
      },
      "source": [
        "three_d_array = np.array([[[1,4,7,10],[2,5,8,11],[3,6,9,12]],[[2,8,14,20],[4,10,16,22],[6,12,18,24]]])\n",
        "print(\"Three dimensional array: \\n{}\".format(three_d_array))\n",
        "print(\"Array shape:\",three_d_array.shape)\n",
        "print(\"Array size:\",three_d_array.size)\n",
        "print(\"Array dimension:\",three_d_array.ndim)\n",
        "print(\"No. of elements:\",len(three_d_array))"
      ],
      "execution_count": 5,
      "outputs": [
        {
          "output_type": "stream",
          "text": [
            "Three dimensional array: \n",
            "[[[ 1  4  7 10]\n",
            "  [ 2  5  8 11]\n",
            "  [ 3  6  9 12]]\n",
            "\n",
            " [[ 2  8 14 20]\n",
            "  [ 4 10 16 22]\n",
            "  [ 6 12 18 24]]]\n",
            "Array shape: (2, 3, 4)\n",
            "Array size: 24\n",
            "Array dimension: 3\n",
            "No. of elements: 2\n"
          ],
          "name": "stdout"
        }
      ]
    },
    {
      "cell_type": "markdown",
      "metadata": {
        "id": "EQuvt03PzmV4",
        "colab_type": "text"
      },
      "source": [
        "**Accessing arrays using indexing:**"
      ]
    },
    {
      "cell_type": "code",
      "metadata": {
        "id": "Cqkwyys6wzDt",
        "colab_type": "code",
        "colab": {}
      },
      "source": [
        "temp_array = np.array([[1,2,3,4,5],\n",
        "                       [2,4,6,5,7],\n",
        "                       [5,6,8,3,2],\n",
        "                       [50,60,80,30,20],\n",
        "                       [5,60,8,30,2]])"
      ],
      "execution_count": 6,
      "outputs": []
    },
    {
      "cell_type": "code",
      "metadata": {
        "id": "lnVCkcbtz_KV",
        "colab_type": "code",
        "colab": {
          "base_uri": "https://localhost:8080/",
          "height": 35
        },
        "outputId": "061720c0-4e60-4ada-a4e1-fd6590124c0f"
      },
      "source": [
        "print(\"Third element: \",temp_array[3])"
      ],
      "execution_count": 7,
      "outputs": [
        {
          "output_type": "stream",
          "text": [
            "Third element:  [50 60 80 30 20]\n"
          ],
          "name": "stdout"
        }
      ]
    },
    {
      "cell_type": "code",
      "metadata": {
        "id": "CgtkpLqH0V2U",
        "colab_type": "code",
        "colab": {
          "base_uri": "https://localhost:8080/",
          "height": 126
        },
        "outputId": "a2a87cb5-5a8f-4307-8bdc-cc59adbb2a3e"
      },
      "source": [
        "print(\"Entire array\\n\", temp_array[:])"
      ],
      "execution_count": 8,
      "outputs": [
        {
          "output_type": "stream",
          "text": [
            "Entire array\n",
            " [[ 1  2  3  4  5]\n",
            " [ 2  4  6  5  7]\n",
            " [ 5  6  8  3  2]\n",
            " [50 60 80 30 20]\n",
            " [ 5 60  8 30  2]]\n"
          ],
          "name": "stdout"
        }
      ]
    },
    {
      "cell_type": "code",
      "metadata": {
        "id": "T6eQMOti0fUY",
        "colab_type": "code",
        "colab": {
          "base_uri": "https://localhost:8080/",
          "height": 35
        },
        "outputId": "21e40d90-8c86-42a4-c408-53463ae49937"
      },
      "source": [
        "print(\"Fourth column\", temp_array[:,3])"
      ],
      "execution_count": 9,
      "outputs": [
        {
          "output_type": "stream",
          "text": [
            "Fourth column [ 4  5  3 30 30]\n"
          ],
          "name": "stdout"
        }
      ]
    },
    {
      "cell_type": "code",
      "metadata": {
        "id": "4S5yEAUb07Is",
        "colab_type": "code",
        "colab": {
          "base_uri": "https://localhost:8080/",
          "height": 90
        },
        "outputId": "992e24f7-ba59-4eaf-d7c9-c7a182772f7a"
      },
      "source": [
        "print(temp_array.size)\n",
        "print(temp_array.mean())\n",
        "print(temp_array.sum())\n",
        "print(temp_array.sum()/temp_array.size)"
      ],
      "execution_count": 10,
      "outputs": [
        {
          "output_type": "stream",
          "text": [
            "25\n",
            "16.32\n",
            "408\n",
            "16.32\n"
          ],
          "name": "stdout"
        }
      ]
    },
    {
      "cell_type": "code",
      "metadata": {
        "id": "4t8hxFep2Kw6",
        "colab_type": "code",
        "colab": {
          "base_uri": "https://localhost:8080/",
          "height": 144
        },
        "outputId": "2d149daf-4733-4f36-d972-3b70ebee94bc"
      },
      "source": [
        "print(temp_array)\n",
        "print(\"Adding across vertical-axis:\",temp_array.sum(axis=0))\n",
        "print(\"Adding across horizontal-axis:\",temp_array.sum(axis=1))"
      ],
      "execution_count": 11,
      "outputs": [
        {
          "output_type": "stream",
          "text": [
            "[[ 1  2  3  4  5]\n",
            " [ 2  4  6  5  7]\n",
            " [ 5  6  8  3  2]\n",
            " [50 60 80 30 20]\n",
            " [ 5 60  8 30  2]]\n",
            "Adding across vertical-axis: [ 63 132 105  72  36]\n",
            "Adding across horizontal-axis: [ 15  24  24 240 105]\n"
          ],
          "name": "stdout"
        }
      ]
    },
    {
      "cell_type": "code",
      "metadata": {
        "id": "8OkhbxU32gfW",
        "colab_type": "code",
        "colab": {
          "base_uri": "https://localhost:8080/",
          "height": 144
        },
        "outputId": "bdaaf504-6708-4e22-ec23-644c34182073"
      },
      "source": [
        "print(\"Current array:\\n\", temp_array)\n",
        "print(\"Current shape of array:\", temp_array.shape)"
      ],
      "execution_count": 30,
      "outputs": [
        {
          "output_type": "stream",
          "text": [
            "Current array:\n",
            " [[ 1  2  3  4  5]\n",
            " [ 2  4  6  5  7]\n",
            " [ 5  6  8  3  2]\n",
            " [50 60 80 30 20]\n",
            " [ 5 60  8 30  2]]\n",
            "Current shape of array: (5, 5)\n"
          ],
          "name": "stdout"
        }
      ]
    },
    {
      "cell_type": "code",
      "metadata": {
        "id": "weyuYcLI-Rl4",
        "colab_type": "code",
        "colab": {
          "base_uri": "https://localhost:8080/",
          "height": 90
        },
        "outputId": "27f5b3df-4e14-4bab-f173-434c494e9f4e"
      },
      "source": [
        "temp_array = temp_array.reshape(1,25)\n",
        "print(\"Reshaped array:\\n\", temp_array)\n",
        "print(\"Shape of reshaped array:\", temp_array.shape)"
      ],
      "execution_count": 34,
      "outputs": [
        {
          "output_type": "stream",
          "text": [
            "Reshaped array:\n",
            " [[ 1  2  3  4  5  2  4  6  5  7  5  6  8  3  2 50 60 80 30 20  5 60  8 30\n",
            "   2]]\n",
            "Shape of reshaped array: (1, 25)\n"
          ],
          "name": "stdout"
        }
      ]
    },
    {
      "cell_type": "markdown",
      "metadata": {
        "id": "TE9cI_Y33bpf",
        "colab_type": "text"
      },
      "source": [
        "**Generating range in numpy:**"
      ]
    },
    {
      "cell_type": "code",
      "metadata": {
        "id": "UTcRO73T2s6g",
        "colab_type": "code",
        "colab": {
          "base_uri": "https://localhost:8080/",
          "height": 144
        },
        "outputId": "e74409ee-0651-4dca-b7fd-da7f551483f8"
      },
      "source": [
        "start = 2\n",
        "stop = 100\n",
        "total_num = 50\n",
        "t_range = np.linspace(start,stop,total_num)\n",
        "print(t_range)\n",
        "print(type(t_range))\n",
        "print(t_range.dtype)\n",
        "print(t_range.shape)"
      ],
      "execution_count": 13,
      "outputs": [
        {
          "output_type": "stream",
          "text": [
            "[  2.   4.   6.   8.  10.  12.  14.  16.  18.  20.  22.  24.  26.  28.\n",
            "  30.  32.  34.  36.  38.  40.  42.  44.  46.  48.  50.  52.  54.  56.\n",
            "  58.  60.  62.  64.  66.  68.  70.  72.  74.  76.  78.  80.  82.  84.\n",
            "  86.  88.  90.  92.  94.  96.  98. 100.]\n",
            "<class 'numpy.ndarray'>\n",
            "float64\n",
            "(50,)\n"
          ],
          "name": "stdout"
        }
      ]
    },
    {
      "cell_type": "code",
      "metadata": {
        "id": "ij0Eawwy30Kl",
        "colab_type": "code",
        "colab": {
          "base_uri": "https://localhost:8080/",
          "height": 253
        },
        "outputId": "e794a738-923c-41f3-da23-4ad78cec4bab"
      },
      "source": [
        "t2_range = np.arange(start,stop,2)\n",
        "print(t2_range)\n",
        "print(t2_range.dtype)\n",
        "print(t2_range.shape)\n",
        "t2_range = t2_range.reshape(7,7)\n",
        "print(t2_range)\n",
        "print(t2_range.shape)"
      ],
      "execution_count": 37,
      "outputs": [
        {
          "output_type": "stream",
          "text": [
            "[ 2  4  6  8 10 12 14 16 18 20 22 24 26 28 30 32 34 36 38 40 42 44 46 48\n",
            " 50 52 54 56 58 60 62 64 66 68 70 72 74 76 78 80 82 84 86 88 90 92 94 96\n",
            " 98]\n",
            "int64\n",
            "(49,)\n",
            "[[ 2  4  6  8 10 12 14]\n",
            " [16 18 20 22 24 26 28]\n",
            " [30 32 34 36 38 40 42]\n",
            " [44 46 48 50 52 54 56]\n",
            " [58 60 62 64 66 68 70]\n",
            " [72 74 76 78 80 82 84]\n",
            " [86 88 90 92 94 96 98]]\n",
            "(7, 7)\n"
          ],
          "name": "stdout"
        }
      ]
    },
    {
      "cell_type": "markdown",
      "metadata": {
        "id": "mgRfZ6ox8A-a",
        "colab_type": "text"
      },
      "source": [
        "**Generating randomness:**"
      ]
    },
    {
      "cell_type": "code",
      "metadata": {
        "id": "-rKIqmA54s8p",
        "colab_type": "code",
        "colab": {
          "base_uri": "https://localhost:8080/",
          "height": 53
        },
        "outputId": "751ef048-bb2d-4d88-dfa7-feac78d270fa"
      },
      "source": [
        "random_no = np.random.randint(100)\n",
        "print(random_no)\n",
        "random_no = np.random.randint(100)\n",
        "print(random_no)"
      ],
      "execution_count": 15,
      "outputs": [
        {
          "output_type": "stream",
          "text": [
            "35\n",
            "31\n"
          ],
          "name": "stdout"
        }
      ]
    },
    {
      "cell_type": "code",
      "metadata": {
        "id": "2NK32GIm5gnX",
        "colab_type": "code",
        "colab": {
          "base_uri": "https://localhost:8080/",
          "height": 126
        },
        "outputId": "3c274561-ea41-42b7-82ad-4d52e71e2b29"
      },
      "source": [
        "np.random.seed(0)  \n",
        "print(\"Random array: \\n\",np.random.randint(1,100,(5,5)))"
      ],
      "execution_count": 22,
      "outputs": [
        {
          "output_type": "stream",
          "text": [
            "Random array: \n",
            " [[45 48 65 68 68]\n",
            " [10 84 22 37 88]\n",
            " [71 89 89 13 59]\n",
            " [66 40 88 47 89]\n",
            " [82 38 26 78 73]]\n"
          ],
          "name": "stdout"
        }
      ]
    },
    {
      "cell_type": "code",
      "metadata": {
        "id": "wQkTK5HN519O",
        "colab_type": "code",
        "colab": {
          "base_uri": "https://localhost:8080/",
          "height": 235
        },
        "outputId": "fcda981d-c8ad-4b5d-9ef4-2fc0d2bfeb4f"
      },
      "source": [
        "np.random.seed(0)\n",
        "print(\"Same random array as same seed is used: \\n\",np.random.randint(1,100,(5,5)))\n",
        "np.random.seed(3)\n",
        "print(\"Different random array as seed is changed: \\n\",np.random.randint(1,100,(5,5)))"
      ],
      "execution_count": 21,
      "outputs": [
        {
          "output_type": "stream",
          "text": [
            "Same random array as same seed is used: \n",
            " [[45 48 65 68 68]\n",
            " [10 84 22 37 88]\n",
            " [71 89 89 13 59]\n",
            " [66 40 88 47 89]\n",
            " [82 38 26 78 73]]\n",
            "Different random array as seed is changed: \n",
            " [[25  4 57 73  1]\n",
            " [22 20 75 42 11]\n",
            " [22 39 97 21 45]\n",
            " [94 40 15 27 82]\n",
            " [91 23 67  3 64]]\n"
          ],
          "name": "stdout"
        }
      ]
    },
    {
      "cell_type": "code",
      "metadata": {
        "id": "8cR0tOxO7AAC",
        "colab_type": "code",
        "colab": {
          "base_uri": "https://localhost:8080/",
          "height": 35
        },
        "outputId": "5e7b9224-e013-442b-a942-6dcd4e618e2e"
      },
      "source": [
        "np.random.random(5)"
      ],
      "execution_count": 23,
      "outputs": [
        {
          "output_type": "execute_result",
          "data": {
            "text/plain": [
              "array([0.0871293 , 0.0202184 , 0.83261985, 0.77815675, 0.87001215])"
            ]
          },
          "metadata": {
            "tags": []
          },
          "execution_count": 23
        }
      ]
    },
    {
      "cell_type": "code",
      "metadata": {
        "id": "wTgoGEoY74ap",
        "colab_type": "code",
        "colab": {
          "base_uri": "https://localhost:8080/",
          "height": 108
        },
        "outputId": "7a0613bc-24b0-40df-bda4-7fa2e5dd39d3"
      },
      "source": [
        "np.random.random((5,5))"
      ],
      "execution_count": 24,
      "outputs": [
        {
          "output_type": "execute_result",
          "data": {
            "text/plain": [
              "array([[0.97861834, 0.79915856, 0.46147936, 0.78052918, 0.11827443],\n",
              "       [0.63992102, 0.14335329, 0.94466892, 0.52184832, 0.41466194],\n",
              "       [0.26455561, 0.77423369, 0.45615033, 0.56843395, 0.0187898 ],\n",
              "       [0.6176355 , 0.61209572, 0.616934  , 0.94374808, 0.6818203 ],\n",
              "       [0.3595079 , 0.43703195, 0.6976312 , 0.06022547, 0.66676672]])"
            ]
          },
          "metadata": {
            "tags": []
          },
          "execution_count": 24
        }
      ]
    },
    {
      "cell_type": "code",
      "metadata": {
        "id": "GyDgihPH767-",
        "colab_type": "code",
        "colab": {}
      },
      "source": [
        ""
      ],
      "execution_count": null,
      "outputs": []
    }
  ]
}