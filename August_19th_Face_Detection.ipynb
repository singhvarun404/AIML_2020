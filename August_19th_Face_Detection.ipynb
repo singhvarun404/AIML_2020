{
 "cells": [
  {
   "cell_type": "code",
   "execution_count": 1,
   "metadata": {},
   "outputs": [
    {
     "name": "stdout",
     "output_type": "stream",
     "text": [
      "Date: August 19\n",
      "Topic: Face Detection\n"
     ]
    }
   ],
   "source": [
    "date = 19\n",
    "topic = \"Face Detection\"\n",
    "print(\"Date: August {}\\nTopic: {}\".format(date,topic))"
   ]
  },
  {
   "cell_type": "code",
   "execution_count": 2,
   "metadata": {},
   "outputs": [],
   "source": [
    "import cv2"
   ]
  },
  {
   "cell_type": "code",
   "execution_count": 3,
   "metadata": {},
   "outputs": [],
   "source": [
    "img_path = r\"C:\\Users\\lordv\\Downloads\\ML workshop\\Day 8\\face.jpg\""
   ]
  },
  {
   "cell_type": "code",
   "execution_count": 4,
   "metadata": {},
   "outputs": [],
   "source": [
    "img = cv2.imread(img_path)"
   ]
  },
  {
   "cell_type": "code",
   "execution_count": 5,
   "metadata": {},
   "outputs": [
    {
     "data": {
      "text/plain": [
       "(999, 750, 3)"
      ]
     },
     "execution_count": 5,
     "metadata": {},
     "output_type": "execute_result"
    }
   ],
   "source": [
    "img.shape"
   ]
  },
  {
   "cell_type": "code",
   "execution_count": 6,
   "metadata": {},
   "outputs": [],
   "source": [
    "img = cv2.resize(img,(500,600))\n",
    "cv2.imshow(\"My Image\", img)\n",
    "cv2.waitKey(0)  ### It will hold the code till we press any key..\n",
    "cv2.destroyAllWindows()"
   ]
  },
  {
   "cell_type": "code",
   "execution_count": 7,
   "metadata": {},
   "outputs": [],
   "source": [
    "### Face Detection\n",
    "face_xml = r\"C:\\Users\\lordv\\Downloads\\ML workshop\\Day 8\\face.xml\"\n",
    "\n",
    "### Converting this xml file to haar cascade classifier\n",
    "face_cascade = cv2.CascadeClassifier(face_xml)\n",
    "\n",
    "### Detecting face in an image\n",
    "faces = face_cascade.detectMultiScale(img)\n",
    "\n",
    "for x,y,w,h in faces:\n",
    "    cv2.rectangle(img,(x,y),(x+w,y+h),(255,0,0),3)"
   ]
  },
  {
   "cell_type": "code",
   "execution_count": 8,
   "metadata": {},
   "outputs": [],
   "source": [
    "cv2.imshow(\"Face Detection\", img)\n",
    "cv2.waitKey(0)\n",
    "cv2.destroyAllWindows()"
   ]
  },
  {
   "cell_type": "code",
   "execution_count": 9,
   "metadata": {},
   "outputs": [],
   "source": [
    "### Eye Detection\n",
    "img_path = r\"C:\\Users\\lordv\\Downloads\\ML workshop\\Day 8\\face.jpg\"\n",
    "img = cv2.imread(img_path)\n",
    "img = cv2.resize(img,(500,600))\n",
    "\n",
    "### xml files path\n",
    "face_xml = r\"C:\\Users\\lordv\\Downloads\\ML workshop\\Day 8\\face.xml\"\n",
    "eye_xml = r\"C:\\Users\\lordv\\Downloads\\ML workshop\\Day 8\\eye.xml\"\n",
    "\n",
    "### Converting the xml files to haar cascade classifiers\n",
    "face_cascade = cv2.CascadeClassifier(face_xml)\n",
    "eye_cascade = cv2.CascadeClassifier(eye_xml)\n",
    "\n",
    "### Detecting faces in the image\n",
    "faces = face_cascade.detectMultiScale(img)\n",
    "\n",
    "### Detecting eyes in faces that were detected before\n",
    "for x,y,w,h in faces:\n",
    "    cv2.rectangle(img,(x,y),(x+w,y+h),(255,0,0),3)\n",
    "    single_face = img[y:y+h,x:x+w]\n",
    "    eyes = eye_cascade.detectMultiScale(single_face)\n",
    "    for ex,ey,ew,eh in eyes:\n",
    "        cv2.rectangle(single_face, (ex,ey), (ex+ew,ey+eh), (0,0,255), 2)\n",
    "\n",
    "cv2.imshow(\"Eye Detection\", img)\n",
    "cv2.waitKey(0)\n",
    "cv2.destroyAllWindows()    "
   ]
  },
  {
   "cell_type": "code",
   "execution_count": 10,
   "metadata": {},
   "outputs": [],
   "source": [
    "### Eye Detection with parameter(scaling factor)\n",
    "img_path = r\"C:\\Users\\lordv\\Downloads\\ML workshop\\Day 8\\face.jpg\"\n",
    "img = cv2.imread(img_path)\n",
    "img = cv2.resize(img,(500,600))\n",
    "\n",
    "### xml files path\n",
    "face_xml = r\"C:\\Users\\lordv\\Downloads\\ML workshop\\Day 8\\face.xml\"\n",
    "eye_xml = r\"C:\\Users\\lordv\\Downloads\\ML workshop\\Day 8\\eye.xml\"\n",
    "\n",
    "### Converting the xml files to haar cascade classifiers\n",
    "face_cascade = cv2.CascadeClassifier(face_xml)\n",
    "eye_cascade = cv2.CascadeClassifier(eye_xml)\n",
    "\n",
    "### Detecting faces in the image\n",
    "faces = face_cascade.detectMultiScale(img)\n",
    "\n",
    "### Detecting eyes in faces that were detected before\n",
    "for x,y,w,h in faces:\n",
    "    cv2.rectangle(img,(x,y),(x+w,y+h),(255,0,0),3)\n",
    "    single_face = img[y:y+h,x:x+w]\n",
    "    eyes = eye_cascade.detectMultiScale(single_face,1.305)  ### Setting factor scale to 1.2\n",
    "    for ex,ey,ew,eh in eyes:\n",
    "        cv2.rectangle(single_face, (ex,ey), (ex+ew,ey+eh), (0,0,255), 2)\n",
    "\n",
    "cv2.imshow(\"Eye Detection\", img)\n",
    "cv2.waitKey(0)\n",
    "cv2.destroyAllWindows()    "
   ]
  },
  {
   "cell_type": "code",
   "execution_count": 11,
   "metadata": {},
   "outputs": [],
   "source": [
    "### Smile Detection\n",
    "img_path = r\"C:\\Users\\lordv\\Downloads\\ML workshop\\Day 8\\face.jpg\"\n",
    "img = cv2.imread(img_path)\n",
    "img = cv2.resize(img,(500,600))\n",
    "\n",
    "### xml files path\n",
    "face_xml = r\"C:\\Users\\lordv\\Downloads\\ML workshop\\Day 8\\face.xml\"\n",
    "smile_xml = r\"C:\\Users\\lordv\\Downloads\\ML workshop\\Day 8\\smile.xml\"\n",
    "\n",
    "### Converting the xml files to haar cascade classifiers\n",
    "face_cascade = cv2.CascadeClassifier(face_xml)\n",
    "smile_cascade = cv2.CascadeClassifier(smile_xml)\n",
    "\n",
    "### Detecting faces in the image\n",
    "faces = face_cascade.detectMultiScale(img)\n",
    "\n",
    "### Detecting eyes in faces that were detected before\n",
    "for x,y,w,h in faces:\n",
    "    cv2.rectangle(img,(x,y),(x+w,y+h),(255,0,0),3)\n",
    "    single_face = img[y:y+h,x:x+w]\n",
    "    smiles = smile_cascade.detectMultiScale(single_face,1.2,18)  ### Setting factor scale to 1.2\n",
    "    for sx,sy,sw,sh in smiles:\n",
    "        cv2.rectangle(single_face, (sx,sy), (sx+sw,sy+sh), (0,0,255), 2)\n",
    "\n",
    "cv2.imshow(\"Eye Detection\", img)\n",
    "cv2.waitKey(0)\n",
    "cv2.destroyAllWindows() "
   ]
  },
  {
   "cell_type": "code",
   "execution_count": 13,
   "metadata": {},
   "outputs": [],
   "source": [
    "### WebCam\n",
    "\n",
    "import cv2\n",
    "cam = cv2.VideoCapture(0)  ### 0 : for default webcam\n",
    "while True:\n",
    "    ret,img = cam.read()\n",
    "    cv2.imshow(\"Webcam\",img)\n",
    "    if cv2.waitKey(1) == 13: ### 13 :ASCII code for enter; 27 is for escape\n",
    "        break\n",
    "cam.release()\n",
    "cv2.destroyAllWindows() "
   ]
  },
  {
   "cell_type": "code",
   "execution_count": 22,
   "metadata": {},
   "outputs": [],
   "source": [
    "### Face detection on a webcam\n",
    "import cv2\n",
    "face_xml = r\"C:\\Users\\lordv\\Downloads\\ML workshop\\Day 8\\face.xml\"\n",
    "face_cascade = cv2.CascadeClassifier(face_xml)\n",
    "cam = cv2.VideoCapture(0)\n",
    "while True:\n",
    "    ret,img = cam.read()\n",
    "    faces = face_cascade.detectMultiScale(img,1.1,5)\n",
    "    for x,y,w,h in faces:\n",
    "        cv2.rectangle(img,(x,y),(x+w,y+h),(255,0,0),3)\n",
    "        single_face = img[y:y+h,x:x+w]\n",
    "    cv2.imshow(\"Webcam\",img)\n",
    "    if cv2.waitKey(1) == 13:\n",
    "        cv2.imwrite(r\"C:\\Users\\lordv\\Downloads\\ML workshop\\Day 8\\dumbass.jpg\",img)\n",
    "        cv2.imwrite(r\"C:\\Users\\lordv\\Downloads\\ML workshop\\Day 8\\dumbass_alone.jpg\",single_face)\n",
    "        break\n",
    "cam.release()\n",
    "cv2.destroyAllWindows() "
   ]
  },
  {
   "cell_type": "code",
   "execution_count": 74,
   "metadata": {},
   "outputs": [],
   "source": [
    "### Smile detection on a webcam\n",
    "import cv2\n",
    "face_xml = r\"C:\\Users\\lordv\\Downloads\\ML workshop\\Day 8\\face.xml\"\n",
    "eye_xml = r\"C:\\Users\\lordv\\Downloads\\ML workshop\\Day 8\\eye.xml\"\n",
    "smile_xml = r\"C:\\Users\\lordv\\Downloads\\ML workshop\\Day 8\\smile.xml\"\n",
    "face_cascade = cv2.CascadeClassifier(face_xml)\n",
    "eye_cascade = cv2.CascadeClassifier(eye_xml)\n",
    "smile_cascade = cv2.CascadeClassifier(smile_xml)\n",
    "cam = cv2.VideoCapture(0)\n",
    "while True:\n",
    "    ret,img = cam.read()\n",
    "    faces = face_cascade.detectMultiScale(img,1.1,6)\n",
    "    for x,y,w,h in faces:\n",
    "        cv2.rectangle(img,(x,y),(x+w,y+h),(255,0,0),3)\n",
    "        single_face = img[y:y+h,x:x+w]\n",
    "        smiles = smile_cascade.detectMultiScale(single_face,1.4,15)  ### Setting factor scale to 1.2\n",
    "        for sx,sy,sw,sh in smiles:\n",
    "            cv2.rectangle(single_face, (sx,sy), (sx+sw,sy+sh), (0,0,255), 2)\n",
    "    cv2.imshow(\"Webcam\",img)\n",
    "    if cv2.waitKey(1) == 13:\n",
    "        break\n",
    "cam.release()\n",
    "cv2.destroyAllWindows() "
   ]
  },
  {
   "cell_type": "code",
   "execution_count": 73,
   "metadata": {},
   "outputs": [],
   "source": [
    "### Eye detection on a webcam\n",
    "import cv2\n",
    "face_xml = r\"C:\\Users\\lordv\\Downloads\\ML workshop\\Day 8\\face.xml\"\n",
    "eye_xml = r\"C:\\Users\\lordv\\Downloads\\ML workshop\\Day 8\\eye.xml\"\n",
    "smile_xml = r\"C:\\Users\\lordv\\Downloads\\ML workshop\\Day 8\\smile.xml\"\n",
    "face_cascade = cv2.CascadeClassifier(face_xml)\n",
    "eye_cascade = cv2.CascadeClassifier(eye_xml)\n",
    "smile_cascade = cv2.CascadeClassifier(smile_xml)\n",
    "cam = cv2.VideoCapture(0)\n",
    "while True:\n",
    "    ret,img = cam.read()\n",
    "    faces = face_cascade.detectMultiScale(img,1.1,6)\n",
    "    for x,y,w,h in faces:\n",
    "        cv2.rectangle(img,(x,y),(x+w,y+h),(255,0,0),3)\n",
    "        single_face = img[y:y+h,x:x+w]\n",
    "        eyes = eye_cascade.detectMultiScale(single_face)  ### Setting factor scale to 1.2\n",
    "        for ex,ey,ew,eh in eyes:\n",
    "            cv2.rectangle(single_face, (ex,ey), (ex+ew,ey+eh), (0,0,255), 2)\n",
    "    cv2.imshow(\"Webcam\",img)\n",
    "    if cv2.waitKey(1) == 13:\n",
    "        break\n",
    "cam.release()\n",
    "cv2.destroyAllWindows() "
   ]
  },
  {
   "cell_type": "code",
   "execution_count": 71,
   "metadata": {},
   "outputs": [],
   "source": [
    "### Face detection on a webcam and counting number of faces\n",
    "import cv2\n",
    "face_xml = r\"C:\\Users\\lordv\\Downloads\\ML workshop\\Day 8\\face.xml\"\n",
    "face_cascade = cv2.CascadeClassifier(face_xml)\n",
    "cam = cv2.VideoCapture(0)\n",
    "while True:\n",
    "    ret,img = cam.read()\n",
    "    faces = face_cascade.detectMultiScale(img, minNeighbors = 8)\n",
    "    no_of_faces = len(faces)\n",
    "    for x,y,w,h in faces:\n",
    "        cv2.rectangle(img,(x,y),(x+w,y+h),(255,0,0),3)\n",
    "        single_face = img[y:y+h,x:x+w]\n",
    "    cv2.rectangle(img,(300,0),(640,50),(230,230,230),-1)\n",
    "    cv2.putText( img, \"Number of faces: \"+ str(no_of_faces),(330,30),cv2.FONT_HERSHEY_SCRIPT_COMPLEX,1,(0,0,0),1)\n",
    "    cv2.imshow(\"Webcam\",img)\n",
    "    if cv2.waitKey(1) == 13:\n",
    "        cv2.imwrite(r\"C:\\Users\\lordv\\Downloads\\ML workshop\\Day 8\\dumbass.jpg\",img)\n",
    "        cv2.imwrite(r\"C:\\Users\\lordv\\Downloads\\ML workshop\\Day 8\\dumbass_alone.jpg\",single_face)\n",
    "        break\n",
    "cam.release()\n",
    "cv2.destroyAllWindows() "
   ]
  },
  {
   "cell_type": "code",
   "execution_count": 36,
   "metadata": {},
   "outputs": [],
   "source": [
    "### Detecting the object by color(Red here). Easier done in a hsv image\n",
    "\n",
    "import cv2\n",
    "import numpy as np\n",
    "cam = cv2.VideoCapture(0) \n",
    "while True:\n",
    "    ret,img = cam.read()\n",
    "    hsv = cv2.cvtColor(img,cv2.COLOR_BGR2HSV)\n",
    "    low = np.array([140,150,0])\n",
    "    high = np.array([180,255,255])\n",
    "    img_mask = cv2.inRange(hsv,low,high)\n",
    "    final_image = cv2.bitwise_and(img,img,mask = img_mask)\n",
    "    cv2.imshow(\"Webcam\",img)\n",
    "    cv2.imshow(\"HSV\",hsv)\n",
    "    cv2.imshow(\"HSV_masked\",img_mask)\n",
    "    cv2.imshow(\"Output\",final_image)\n",
    "    if cv2.waitKey(1) == 13: \n",
    "        break\n",
    "cam.release()\n",
    "cv2.destroyAllWindows() "
   ]
  },
  {
   "cell_type": "code",
   "execution_count": 38,
   "metadata": {},
   "outputs": [],
   "source": [
    "### Detecting the object by color(Green here). Easier done in a hsv image\n",
    "\n",
    "import cv2\n",
    "import numpy as np\n",
    "cam = cv2.VideoCapture(0) \n",
    "while True:\n",
    "    ret,img = cam.read()\n",
    "    hsv = cv2.cvtColor(img,cv2.COLOR_BGR2HSV)\n",
    "    low = np.array([40,50,50])\n",
    "    high = np.array([140,255,255])\n",
    "    img_mask = cv2.inRange(hsv,low,high)\n",
    "    final_image = cv2.bitwise_and(img,img,mask = img_mask)\n",
    "    cv2.imshow(\"Webcam\",img)\n",
    "    cv2.imshow(\"HSV\",hsv)\n",
    "    cv2.imshow(\"HSV_masked\",img_mask)\n",
    "    cv2.imshow(\"Output\",final_image)\n",
    "    if cv2.waitKey(1) == 13: \n",
    "        break\n",
    "cam.release()\n",
    "cv2.destroyAllWindows() "
   ]
  },
  {
   "cell_type": "code",
   "execution_count": 40,
   "metadata": {},
   "outputs": [],
   "source": [
    "### Detecting the object by color(Blue here). Easier done in a hsv image\n",
    "\n",
    "import cv2\n",
    "import numpy as np\n",
    "cam = cv2.VideoCapture(0) \n",
    "while True:\n",
    "    ret,img = cam.read()\n",
    "    hsv = cv2.cvtColor(img,cv2.COLOR_BGR2HSV)\n",
    "    low = np.array([100,50,50])\n",
    "    high = np.array([140,255,255])\n",
    "    img_mask = cv2.inRange(hsv,low,high)\n",
    "    final_image = cv2.bitwise_and(img,img,mask = img_mask)\n",
    "    cv2.imshow(\"Webcam\",img)\n",
    "    cv2.imshow(\"HSV\",hsv)\n",
    "    cv2.imshow(\"HSV_masked\",img_mask)\n",
    "    cv2.imshow(\"Output\",final_image)\n",
    "    if cv2.waitKey(1) == 13: \n",
    "        break\n",
    "cam.release()\n",
    "cv2.destroyAllWindows() "
   ]
  },
  {
   "cell_type": "code",
   "execution_count": null,
   "metadata": {},
   "outputs": [],
   "source": []
  }
 ],
 "metadata": {
  "kernelspec": {
   "display_name": "Python 3",
   "language": "python",
   "name": "python3"
  },
  "language_info": {
   "codemirror_mode": {
    "name": "ipython",
    "version": 3
   },
   "file_extension": ".py",
   "mimetype": "text/x-python",
   "name": "python",
   "nbconvert_exporter": "python",
   "pygments_lexer": "ipython3",
   "version": "3.8.5"
  }
 },
 "nbformat": 4,
 "nbformat_minor": 4
}
