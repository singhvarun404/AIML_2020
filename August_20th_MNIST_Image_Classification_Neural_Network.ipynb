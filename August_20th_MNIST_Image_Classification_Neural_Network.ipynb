{
  "nbformat": 4,
  "nbformat_minor": 0,
  "metadata": {
    "colab": {
      "name": "August_20th_MNIST_Image_Classification_Neural_Network.ipynb",
      "provenance": [],
      "authorship_tag": "ABX9TyNXoCbJc5u9cqYCSt7RPnsg",
      "include_colab_link": true
    },
    "kernelspec": {
      "name": "python3",
      "display_name": "Python 3"
    }
  },
  "cells": [
    {
      "cell_type": "markdown",
      "metadata": {
        "id": "view-in-github",
        "colab_type": "text"
      },
      "source": [
        "<a href=\"https://colab.research.google.com/github/singhvarun404/AIML_2020/blob/master/August_20th_MNIST_Image_Classification_Neural_Network.ipynb\" target=\"_parent\"><img src=\"https://colab.research.google.com/assets/colab-badge.svg\" alt=\"Open In Colab\"/></a>"
      ]
    },
    {
      "cell_type": "code",
      "metadata": {
        "id": "ZKsNrIwG5W2o",
        "colab_type": "code",
        "colab": {
          "base_uri": "https://localhost:8080/",
          "height": 53
        },
        "outputId": "9aaee8ee-53bf-490b-ee45-bb5c96750e10"
      },
      "source": [
        "date = 20\n",
        "topic = \"Image Classification using Neural Network\"\n",
        "print(\"Date: August {}\\nTopic: {}\".format(date,topic))"
      ],
      "execution_count": 2,
      "outputs": [
        {
          "output_type": "stream",
          "text": [
            "Date: August 20\n",
            "Topic: Image Classification using Neural Network\n"
          ],
          "name": "stdout"
        }
      ]
    },
    {
      "cell_type": "code",
      "metadata": {
        "id": "zzn39M7MOf-O",
        "colab_type": "code",
        "colab": {}
      },
      "source": [
        "import matplotlib.pyplot as plt\n",
        "import tensorflow.keras as tf\n",
        "import numpy as np"
      ],
      "execution_count": 3,
      "outputs": []
    },
    {
      "cell_type": "code",
      "metadata": {
        "id": "n3kqfep7Tw1D",
        "colab_type": "code",
        "colab": {
          "base_uri": "https://localhost:8080/",
          "height": 53
        },
        "outputId": "57142484-5ec2-4041-8c77-b5efc3b841b5"
      },
      "source": [
        "mnist = tf.datasets.mnist\n",
        "(x_train,y_train),(x_test,y_test) = mnist.load_data() "
      ],
      "execution_count": 4,
      "outputs": [
        {
          "output_type": "stream",
          "text": [
            "Downloading data from https://storage.googleapis.com/tensorflow/tf-keras-datasets/mnist.npz\n",
            "11493376/11490434 [==============================] - 0s 0us/step\n"
          ],
          "name": "stdout"
        }
      ]
    },
    {
      "cell_type": "code",
      "metadata": {
        "id": "lVCJWNTDUAj3",
        "colab_type": "code",
        "colab": {
          "base_uri": "https://localhost:8080/",
          "height": 35
        },
        "outputId": "0584cb65-9c81-43f2-de03-4a3cd55fcb21"
      },
      "source": [
        "x_train.shape"
      ],
      "execution_count": 5,
      "outputs": [
        {
          "output_type": "execute_result",
          "data": {
            "text/plain": [
              "(60000, 28, 28)"
            ]
          },
          "metadata": {
            "tags": []
          },
          "execution_count": 5
        }
      ]
    },
    {
      "cell_type": "code",
      "metadata": {
        "id": "wwCZ1O7wUdaN",
        "colab_type": "code",
        "colab": {
          "base_uri": "https://localhost:8080/",
          "height": 35
        },
        "outputId": "8f0f81db-a578-4cff-b10d-42834e99a31f"
      },
      "source": [
        "y_train[10]"
      ],
      "execution_count": 6,
      "outputs": [
        {
          "output_type": "execute_result",
          "data": {
            "text/plain": [
              "3"
            ]
          },
          "metadata": {
            "tags": []
          },
          "execution_count": 6
        }
      ]
    },
    {
      "cell_type": "code",
      "metadata": {
        "id": "94USp4EjUqbc",
        "colab_type": "code",
        "colab": {
          "base_uri": "https://localhost:8080/",
          "height": 265
        },
        "outputId": "a4523952-6cfc-4cc7-82e2-c3253304883f"
      },
      "source": [
        "plt.imshow(x_train[10],cmap='gray')\n",
        "plt.show()"
      ],
      "execution_count": 7,
      "outputs": [
        {
          "output_type": "display_data",
          "data": {
            "image/png": "[encoded data removed]",
            "text/plain": [
              "<Figure size 432x288 with 1 Axes>"
            ]
          },
          "metadata": {
            "tags": [],
            "needs_background": "light"
          }
        }
      ]
    },
    {
      "cell_type": "markdown",
      "metadata": {
        "id": "ss6da84DVka3",
        "colab_type": "text"
      },
      "source": [
        "**Creating a Neural Network**"
      ]
    },
    {
      "cell_type": "code",
      "metadata": {
        "id": "_r73PNmeU9hh",
        "colab_type": "code",
        "colab": {}
      },
      "source": [
        "### Creating the model\n",
        "model = tf.models.Sequential()\n",
        "\n",
        "### Adding layers to nn\n",
        "model.add(tf.layers.Flatten())   ###--->Input layer\n",
        "model.add(tf.layers.Dense(784,activation = 'relu'))  ###--->Hidden layer\n",
        "model.add(tf.layers.Dense(10,activation = 'softmax')) ###--->Output layer"
      ],
      "execution_count": 8,
      "outputs": []
    },
    {
      "cell_type": "code",
      "metadata": {
        "id": "a2fJuaERXR5Z",
        "colab_type": "code",
        "colab": {}
      },
      "source": [
        "### Compile the model\n",
        "model.compile(loss = 'sparse_categorical_crossentropy', optimizer = 'adam', metrics = ['accuracy'])\n"
      ],
      "execution_count": 9,
      "outputs": []
    },
    {
      "cell_type": "markdown",
      "metadata": {
        "id": "p9XdX8y8YvB7",
        "colab_type": "text"
      },
      "source": [
        "**Training the NN**"
      ]
    },
    {
      "cell_type": "code",
      "metadata": {
        "id": "u0vyHD3LYAFh",
        "colab_type": "code",
        "colab": {}
      },
      "source": [
        "### Scaling the data(Normalization)\n",
        "x_train = x_train/255\n",
        "x_test = x_test/255"
      ],
      "execution_count": 10,
      "outputs": []
    },
    {
      "cell_type": "code",
      "metadata": {
        "id": "LismS20cYedt",
        "colab_type": "code",
        "colab": {
          "base_uri": "https://localhost:8080/",
          "height": 580
        },
        "outputId": "075621a6-456f-41f6-a70c-479235217396"
      },
      "source": [
        "### Training the model\n",
        "model.fit(x_train,y_train,epochs=15)   ### epochs: no. of iterations"
      ],
      "execution_count": 11,
      "outputs": [
        {
          "output_type": "stream",
          "text": [
            "Epoch 1/15\n",
            "1875/1875 [==============================] - 10s 5ms/step - loss: 0.1898 - accuracy: 0.9440\n",
            "Epoch 2/15\n",
            "1875/1875 [==============================] - 10s 5ms/step - loss: 0.0769 - accuracy: 0.9764\n",
            "Epoch 3/15\n",
            "1875/1875 [==============================] - 10s 5ms/step - loss: 0.0501 - accuracy: 0.9840\n",
            "Epoch 4/15\n",
            "1875/1875 [==============================] - 10s 5ms/step - loss: 0.0341 - accuracy: 0.9892\n",
            "Epoch 5/15\n",
            "1875/1875 [==============================] - 9s 5ms/step - loss: 0.0263 - accuracy: 0.9915\n",
            "Epoch 6/15\n",
            "1875/1875 [==============================] - 10s 5ms/step - loss: 0.0216 - accuracy: 0.9927\n",
            "Epoch 7/15\n",
            "1875/1875 [==============================] - 10s 5ms/step - loss: 0.0155 - accuracy: 0.9949\n",
            "Epoch 8/15\n",
            "1875/1875 [==============================] - 10s 5ms/step - loss: 0.0137 - accuracy: 0.9954\n",
            "Epoch 9/15\n",
            "1875/1875 [==============================] - 10s 5ms/step - loss: 0.0137 - accuracy: 0.9954\n",
            "Epoch 10/15\n",
            "1875/1875 [==============================] - 10s 5ms/step - loss: 0.0105 - accuracy: 0.9965\n",
            "Epoch 11/15\n",
            "1875/1875 [==============================] - 10s 5ms/step - loss: 0.0102 - accuracy: 0.9966\n",
            "Epoch 12/15\n",
            "1875/1875 [==============================] - 10s 5ms/step - loss: 0.0104 - accuracy: 0.9965\n",
            "Epoch 13/15\n",
            "1875/1875 [==============================] - 10s 5ms/step - loss: 0.0082 - accuracy: 0.9973\n",
            "Epoch 14/15\n",
            "1875/1875 [==============================] - 10s 5ms/step - loss: 0.0095 - accuracy: 0.9970\n",
            "Epoch 15/15\n",
            "1875/1875 [==============================] - 10s 5ms/step - loss: 0.0076 - accuracy: 0.9975\n"
          ],
          "name": "stdout"
        },
        {
          "output_type": "execute_result",
          "data": {
            "text/plain": [
              "<tensorflow.python.keras.callbacks.History at 0x7f8c6f14cfd0>"
            ]
          },
          "metadata": {
            "tags": []
          },
          "execution_count": 11
        }
      ]
    },
    {
      "cell_type": "markdown",
      "metadata": {
        "id": "M4_OCSWaZmGE",
        "colab_type": "text"
      },
      "source": [
        "**Testing and Evaluating**"
      ]
    },
    {
      "cell_type": "code",
      "metadata": {
        "id": "tHF010zgY1as",
        "colab_type": "code",
        "colab": {
          "base_uri": "https://localhost:8080/",
          "height": 72
        },
        "outputId": "97279027-56a9-444d-ed06-cf470fbf1eb0"
      },
      "source": [
        "y_pred = model.predict(x_test)  ### Predicting on test set\n",
        "y_pred[20]"
      ],
      "execution_count": 12,
      "outputs": [
        {
          "output_type": "execute_result",
          "data": {
            "text/plain": [
              "array([3.1777288e-13, 2.1618480e-11, 1.9303165e-15, 6.3780087e-10,\n",
              "       6.2133043e-10, 4.0383615e-08, 3.1864104e-19, 1.5748959e-05,\n",
              "       1.1169706e-11, 9.9998426e-01], dtype=float32)"
            ]
          },
          "metadata": {
            "tags": []
          },
          "execution_count": 12
        }
      ]
    },
    {
      "cell_type": "code",
      "metadata": {
        "id": "sh39wBkfaKhe",
        "colab_type": "code",
        "colab": {
          "base_uri": "https://localhost:8080/",
          "height": 35
        },
        "outputId": "ff9de3be-f972-4be9-a9d9-f7debd4b26cb"
      },
      "source": [
        "y_test[20]"
      ],
      "execution_count": 13,
      "outputs": [
        {
          "output_type": "execute_result",
          "data": {
            "text/plain": [
              "9"
            ]
          },
          "metadata": {
            "tags": []
          },
          "execution_count": 13
        }
      ]
    },
    {
      "cell_type": "code",
      "metadata": {
        "id": "o8kJTEaraQz0",
        "colab_type": "code",
        "colab": {
          "base_uri": "https://localhost:8080/",
          "height": 35
        },
        "outputId": "66026d76-aa36-44f5-fddc-8d9c3c6107b7"
      },
      "source": [
        "np.argmax(y_pred[20])"
      ],
      "execution_count": 14,
      "outputs": [
        {
          "output_type": "execute_result",
          "data": {
            "text/plain": [
              "9"
            ]
          },
          "metadata": {
            "tags": []
          },
          "execution_count": 14
        }
      ]
    },
    {
      "cell_type": "code",
      "metadata": {
        "id": "FaPo-yeoZI-9",
        "colab_type": "code",
        "colab": {}
      },
      "source": [
        "from tensorflow.math import confusion_matrix\n",
        "from tensorflow.keras.metrics import categorical_accuracy"
      ],
      "execution_count": 22,
      "outputs": []
    },
    {
      "cell_type": "code",
      "metadata": {
        "id": "jkSMcMvrde9J",
        "colab_type": "code",
        "colab": {}
      },
      "source": [
        "y_pred_cl = []\n",
        "for i in y_pred:\n",
        "  y_pred_cl.append(np.argmax(i))\n",
        "y_pred_class = np.array(y_pred_cl)"
      ],
      "execution_count": 23,
      "outputs": []
    },
    {
      "cell_type": "code",
      "metadata": {
        "id": "-BANIocpZbdL",
        "colab_type": "code",
        "colab": {
          "base_uri": "https://localhost:8080/",
          "height": 235
        },
        "outputId": "076e4a01-8d95-4369-9c22-571ffe063e31"
      },
      "source": [
        "conf = confusion_matrix(y_test,y_pred_class,num_classes=10)\n",
        "conf"
      ],
      "execution_count": 24,
      "outputs": [
        {
          "output_type": "execute_result",
          "data": {
            "text/plain": [
              "<tf.Tensor: shape=(10, 10), dtype=int32, numpy=\n",
              "array([[ 970,    1,    3,    1,    1,    2,    1,    1,    0,    0],\n",
              "       [   2, 1123,    3,    0,    0,    0,    2,    0,    5,    0],\n",
              "       [   2,    3, 1021,    4,    1,    0,    0,    1,    0,    0],\n",
              "       [   0,    0,    4, 1001,    0,    2,    0,    2,    1,    0],\n",
              "       [   2,    0,    5,    0,  953,    1,    4,    1,    1,   15],\n",
              "       [   2,    0,    0,    9,    0,  874,    4,    0,    1,    2],\n",
              "       [   4,    2,    1,    1,    1,    2,  946,    0,    1,    0],\n",
              "       [   3,    1,   11,    2,    0,    0,    0, 1000,    3,    8],\n",
              "       [   4,    0,   12,   13,    3,    5,    2,    3,  926,    6],\n",
              "       [   2,    2,    0,    4,    2,    5,    1,    0,    0,  993]],\n",
              "      dtype=int32)>"
            ]
          },
          "metadata": {
            "tags": []
          },
          "execution_count": 24
        }
      ]
    },
    {
      "cell_type": "code",
      "metadata": {
        "id": "HGT8s9kldlld",
        "colab_type": "code",
        "colab": {
          "base_uri": "https://localhost:8080/",
          "height": 35
        },
        "outputId": "74991a71-7845-47a5-cab5-4531fa5394c0"
      },
      "source": [
        "acc = tf.metrics.Accuracy()\n",
        "acc.update_state(y_test,y_pred_class)\n",
        "acc.result().numpy()"
      ],
      "execution_count": 32,
      "outputs": [
        {
          "output_type": "execute_result",
          "data": {
            "text/plain": [
              "0.9807"
            ]
          },
          "metadata": {
            "tags": []
          },
          "execution_count": 32
        }
      ]
    }
  ]
}