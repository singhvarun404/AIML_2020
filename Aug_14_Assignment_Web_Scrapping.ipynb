{
  "nbformat": 4,
  "nbformat_minor": 0,
  "metadata": {
    "colab": {
      "name": "Aug_14_Assignment_Web_Scrapping.ipynb",
      "provenance": [],
      "authorship_tag": "ABX9TyPGiGHa6oiDslwmlzt3/A2h",
      "include_colab_link": true
    },
    "kernelspec": {
      "name": "python3",
      "display_name": "Python 3"
    }
  },
  "cells": [
    {
      "cell_type": "markdown",
      "metadata": {
        "id": "view-in-github",
        "colab_type": "text"
      },
      "source": [
        "<a href=\"https://colab.research.google.com/github/singhvarun404/AIML_2020/blob/master/Aug_14_Assignment_Web_Scrapping.ipynb\" target=\"_parent\"><img src=\"https://colab.research.google.com/assets/colab-badge.svg\" alt=\"Open In Colab\"/></a>"
      ]
    },
    {
      "cell_type": "code",
      "metadata": {
        "id": "E1deVulhjJn0",
        "colab_type": "code",
        "colab": {
          "base_uri": "https://localhost:8080/",
          "height": 53
        },
        "outputId": "4bf6e504-625b-4f97-9052-1a97c3389741"
      },
      "source": [
        "Date = 14\n",
        "Topic = \"Web Scrapping-Assignment\"\n",
        "print(\"Date: August {} \\nTopic: {}\".format(Date,Topic))"
      ],
      "execution_count": 1,
      "outputs": [
        {
          "output_type": "stream",
          "text": [
            "Date: August 14 \n",
            "Topic: Web Scrapping-Assignment\n"
          ],
          "name": "stdout"
        }
      ]
    },
    {
      "cell_type": "code",
      "metadata": {
        "id": "CnWHx_TTjR3D",
        "colab_type": "code",
        "colab": {}
      },
      "source": [
        "import requests\n",
        "from bs4 import BeautifulSoup"
      ],
      "execution_count": 2,
      "outputs": []
    },
    {
      "cell_type": "code",
      "metadata": {
        "id": "UIpOLvJ2jYzl",
        "colab_type": "code",
        "colab": {}
      },
      "source": [
        "url_np = \"https://www.flipkart.com/sennheiser-hd-206-wired-headset-without-mic/product-reviews/itm8d299b65da12f?pid=ACCF2MWP6BZ5MHDM&lid=LSTACCF2MWP6BZ5MHDM948ZEM&marketplace=FLIPKART\""
      ],
      "execution_count": 3,
      "outputs": []
    },
    {
      "cell_type": "code",
      "metadata": {
        "id": "5ij5XdIRjnq8",
        "colab_type": "code",
        "colab": {}
      },
      "source": [
        "web_page = requests.get(url_np)\n",
        "soup = BeautifulSoup(web_page.content,'html.parser')"
      ],
      "execution_count": 4,
      "outputs": []
    },
    {
      "cell_type": "code",
      "metadata": {
        "id": "zRKufkrgkC6X",
        "colab_type": "code",
        "colab": {}
      },
      "source": [
        "s_no_of_pages = soup.select('div._3KSYCY span')[0]\n",
        "no_of_pages = int(s_no_of_pages.get_text().split()[-1])"
      ],
      "execution_count": 5,
      "outputs": []
    },
    {
      "cell_type": "code",
      "metadata": {
        "id": "EIGn4QwSk6x1",
        "colab_type": "code",
        "colab": {}
      },
      "source": [
        "r_names = []\n",
        "r_ratings = []\n",
        "r_dates = []\n",
        "r_titles = []\n",
        "r_contents = []\n",
        "for i in range(1,no_of_pages+1):\n",
        "  url = url_np + \"&page={}\".format(i)\n",
        "  web_page = requests.get(url)\n",
        "  if (web_page.status_code == 200):\n",
        "    soup = BeautifulSoup(web_page.content,'html.parser')\n",
        "    r_p_names = soup.select('p._3sxSiS')\n",
        "    r_p_ratings = soup.select('div.E_uFuv')\n",
        "    r_p_dates = soup.select('p._3LYOAd')[1::2]\n",
        "    r_p_titles = soup.select('p._2xg6Ul')\n",
        "    r_p_contents = soup.select('div.qwjRop div div')\n",
        "\n",
        "    ###print(len(r_p_names),len(r_p_names),len(r_p_dates),len(r_p_titles),len(r_p_contents))\n",
        "    for j in range(0,len(r_p_names)):\n",
        "      r_names.append(r_p_names[j].get_text())\n",
        "      r_ratings.append(r_p_ratings[j].get_text())\n",
        "      r_dates.append(r_p_dates[j].get_text())\n",
        "      r_titles.append(r_p_titles[j].get_text())\n",
        "      r_contents.append(r_p_contents[j].get_text())\n",
        "  else:\n",
        "    print(\"Page not loaded\")\n",
        "    continue"
      ],
      "execution_count": 6,
      "outputs": []
    },
    {
      "cell_type": "code",
      "metadata": {
        "id": "CbclXF44luIz",
        "colab_type": "code",
        "colab": {}
      },
      "source": [
        "import pandas as pd\n",
        "rev_df = pd.DataFrame()"
      ],
      "execution_count": 7,
      "outputs": []
    },
    {
      "cell_type": "code",
      "metadata": {
        "id": "v1g15YyjrWOq",
        "colab_type": "code",
        "colab": {}
      },
      "source": [
        "rev_df[\"Customer Name\"] = r_names \n",
        "rev_df[\"Date\"] = r_dates\n",
        "rev_df[\"Review Title\"] = r_titles\n",
        "rev_df[\"Rating\"] = r_ratings\n",
        "rev_df[\"Review\"] = r_contents "
      ],
      "execution_count": 8,
      "outputs": []
    },
    {
      "cell_type": "code",
      "metadata": {
        "id": "-t6KqyUavvaZ",
        "colab_type": "code",
        "colab": {
          "base_uri": "https://localhost:8080/",
          "height": 206
        },
        "outputId": "1d323193-e1b4-454b-e43e-331d3e81ee82"
      },
      "source": [
        "rev_df.head()"
      ],
      "execution_count": 9,
      "outputs": [
        {
          "output_type": "execute_result",
          "data": {
            "text/html": [
              "<div>\n",
              "<style scoped>\n",
              "    .dataframe tbody tr th:only-of-type {\n",
              "        vertical-align: middle;\n",
              "    }\n",
              "\n",
              "    .dataframe tbody tr th {\n",
              "        vertical-align: top;\n",
              "    }\n",
              "\n",
              "    .dataframe thead th {\n",
              "        text-align: right;\n",
              "    }\n",
              "</style>\n",
              "<table border=\"1\" class=\"dataframe\">\n",
              "  <thead>\n",
              "    <tr style=\"text-align: right;\">\n",
              "      <th></th>\n",
              "      <th>Customer Name</th>\n",
              "      <th>Date</th>\n",
              "      <th>Review Title</th>\n",
              "      <th>Rating</th>\n",
              "      <th>Review</th>\n",
              "    </tr>\n",
              "  </thead>\n",
              "  <tbody>\n",
              "    <tr>\n",
              "      <th>0</th>\n",
              "      <td>Arka Mitra</td>\n",
              "      <td>Mar, 2018</td>\n",
              "      <td>Wonderful</td>\n",
              "      <td>5</td>\n",
              "      <td>If anyone loves melody, this headphone is perf...</td>\n",
              "    </tr>\n",
              "    <tr>\n",
              "      <th>1</th>\n",
              "      <td>Mominul Islam</td>\n",
              "      <td>5months ago</td>\n",
              "      <td>Just wow!</td>\n",
              "      <td>5</td>\n",
              "      <td>You are going to really appreciate this headph...</td>\n",
              "    </tr>\n",
              "    <tr>\n",
              "      <th>2</th>\n",
              "      <td>Diana maduyz</td>\n",
              "      <td>Apr, 2019</td>\n",
              "      <td>Highly recommended</td>\n",
              "      <td>5</td>\n",
              "      <td>it's very good head phone to this budget...ver...</td>\n",
              "    </tr>\n",
              "    <tr>\n",
              "      <th>3</th>\n",
              "      <td>Hitesh Bhalodia</td>\n",
              "      <td>Jul, 2018</td>\n",
              "      <td>Excellent</td>\n",
              "      <td>5</td>\n",
              "      <td>very good sound quality.. also good quality lo...</td>\n",
              "    </tr>\n",
              "    <tr>\n",
              "      <th>4</th>\n",
              "      <td>Immanuel</td>\n",
              "      <td>26days ago</td>\n",
              "      <td>Wonderful</td>\n",
              "      <td>5</td>\n",
              "      <td>Best Monitoring Headphone For Begginer Music P...</td>\n",
              "    </tr>\n",
              "  </tbody>\n",
              "</table>\n",
              "</div>"
            ],
            "text/plain": [
              "     Customer Name  ...                                             Review\n",
              "0       Arka Mitra  ...  If anyone loves melody, this headphone is perf...\n",
              "1    Mominul Islam  ...  You are going to really appreciate this headph...\n",
              "2     Diana maduyz  ...  it's very good head phone to this budget...ver...\n",
              "3  Hitesh Bhalodia  ...  very good sound quality.. also good quality lo...\n",
              "4         Immanuel  ...  Best Monitoring Headphone For Begginer Music P...\n",
              "\n",
              "[5 rows x 5 columns]"
            ]
          },
          "metadata": {
            "tags": []
          },
          "execution_count": 9
        }
      ]
    },
    {
      "cell_type": "code",
      "metadata": {
        "id": "Fh15K5oBvxGa",
        "colab_type": "code",
        "colab": {}
      },
      "source": [
        "rev_df.to_csv('Flipkart_Reviews.csv')"
      ],
      "execution_count": 10,
      "outputs": []
    },
    {
      "cell_type": "code",
      "metadata": {
        "id": "rNKZlg3zv4gP",
        "colab_type": "code",
        "colab": {}
      },
      "source": [
        ""
      ],
      "execution_count": 10,
      "outputs": []
    }
  ]
}