{
  "nbformat": 4,
  "nbformat_minor": 0,
  "metadata": {
    "colab": {
      "name": "Aug_12_Linear_Regression_Salary_Prediction.ipynb",
      "provenance": [],
      "collapsed_sections": [],
      "authorship_tag": "ABX9TyNUgzKIAKe9XfiwZ/cwElsX",
      "include_colab_link": true
    },
    "kernelspec": {
      "name": "python3",
      "display_name": "Python 3"
    }
  },
  "cells": [
    {
      "cell_type": "markdown",
      "metadata": {
        "id": "view-in-github",
        "colab_type": "text"
      },
      "source": [
        "<a href=\"https://colab.research.google.com/github/singhvarun404/AIML_2020/blob/master/Aug_12_Linear_Regression_Salary_Prediction.ipynb\" target=\"_parent\"><img src=\"https://colab.research.google.com/assets/colab-badge.svg\" alt=\"Open In Colab\"/></a>"
      ]
    },
    {
      "cell_type": "code",
      "metadata": {
        "id": "NWJyn8k4qKRv",
        "colab_type": "code",
        "colab": {
          "base_uri": "https://localhost:8080/",
          "height": 53
        },
        "outputId": "cf2466c7-72c2-45fc-e81a-9b311c4a1e97"
      },
      "source": [
        "date = 12\n",
        "topic = \"Linear Regression\"\n",
        "print(\"August: {} \\nTopic: {}\".format(date,topic))"
      ],
      "execution_count": 1,
      "outputs": [
        {
          "output_type": "stream",
          "text": [
            "August: 12 \n",
            "Topic: Linear Regression\n"
          ],
          "name": "stdout"
        }
      ]
    },
    {
      "cell_type": "code",
      "metadata": {
        "id": "vJ0rbdfky_mU",
        "colab_type": "code",
        "colab": {}
      },
      "source": [
        "import pandas as pd\n",
        "import matplotlib.pyplot as plt"
      ],
      "execution_count": 3,
      "outputs": []
    },
    {
      "cell_type": "markdown",
      "metadata": {
        "id": "Zfqh_Hl_32si",
        "colab_type": "text"
      },
      "source": [
        "**Loading and reshaping the data**"
      ]
    },
    {
      "cell_type": "code",
      "metadata": {
        "id": "DBSQSjl5zD8M",
        "colab_type": "code",
        "colab": {
          "base_uri": "https://localhost:8080/",
          "height": 206
        },
        "outputId": "a746a683-b1d9-4420-f22e-e50888f0ae8d"
      },
      "source": [
        "sal_df = pd.read_csv(\"Salary_Data.csv\")\n",
        "sal_df.head()"
      ],
      "execution_count": 4,
      "outputs": [
        {
          "output_type": "execute_result",
          "data": {
            "text/html": [
              "<div>\n",
              "<style scoped>\n",
              "    .dataframe tbody tr th:only-of-type {\n",
              "        vertical-align: middle;\n",
              "    }\n",
              "\n",
              "    .dataframe tbody tr th {\n",
              "        vertical-align: top;\n",
              "    }\n",
              "\n",
              "    .dataframe thead th {\n",
              "        text-align: right;\n",
              "    }\n",
              "</style>\n",
              "<table border=\"1\" class=\"dataframe\">\n",
              "  <thead>\n",
              "    <tr style=\"text-align: right;\">\n",
              "      <th></th>\n",
              "      <th>YearsExperience</th>\n",
              "      <th>Salary</th>\n",
              "    </tr>\n",
              "  </thead>\n",
              "  <tbody>\n",
              "    <tr>\n",
              "      <th>0</th>\n",
              "      <td>1.1</td>\n",
              "      <td>39343.0</td>\n",
              "    </tr>\n",
              "    <tr>\n",
              "      <th>1</th>\n",
              "      <td>1.3</td>\n",
              "      <td>46205.0</td>\n",
              "    </tr>\n",
              "    <tr>\n",
              "      <th>2</th>\n",
              "      <td>1.5</td>\n",
              "      <td>37731.0</td>\n",
              "    </tr>\n",
              "    <tr>\n",
              "      <th>3</th>\n",
              "      <td>2.0</td>\n",
              "      <td>43525.0</td>\n",
              "    </tr>\n",
              "    <tr>\n",
              "      <th>4</th>\n",
              "      <td>2.2</td>\n",
              "      <td>39891.0</td>\n",
              "    </tr>\n",
              "  </tbody>\n",
              "</table>\n",
              "</div>"
            ],
            "text/plain": [
              "   YearsExperience   Salary\n",
              "0              1.1  39343.0\n",
              "1              1.3  46205.0\n",
              "2              1.5  37731.0\n",
              "3              2.0  43525.0\n",
              "4              2.2  39891.0"
            ]
          },
          "metadata": {
            "tags": []
          },
          "execution_count": 4
        }
      ]
    },
    {
      "cell_type": "code",
      "metadata": {
        "id": "wLhcFsKz0So1",
        "colab_type": "code",
        "colab": {
          "base_uri": "https://localhost:8080/",
          "height": 72
        },
        "outputId": "eab5e666-d7e6-4388-9141-519fd8b71116"
      },
      "source": [
        "x_feat = sal_df['YearsExperience'].values\n",
        "x_feat"
      ],
      "execution_count": 10,
      "outputs": [
        {
          "output_type": "execute_result",
          "data": {
            "text/plain": [
              "array([ 1.1,  1.3,  1.5,  2. ,  2.2,  2.9,  3. ,  3.2,  3.2,  3.7,  3.9,\n",
              "        4. ,  4. ,  4.1,  4.5,  4.9,  5.1,  5.3,  5.9,  6. ,  6.8,  7.1,\n",
              "        7.9,  8.2,  8.7,  9. ,  9.5,  9.6, 10.3, 10.5])"
            ]
          },
          "metadata": {
            "tags": []
          },
          "execution_count": 10
        }
      ]
    },
    {
      "cell_type": "code",
      "metadata": {
        "id": "kVzNVcdl1wzZ",
        "colab_type": "code",
        "colab": {
          "base_uri": "https://localhost:8080/",
          "height": 108
        },
        "outputId": "cb77df99-4938-4b69-fae5-c2e23c302aa2"
      },
      "source": [
        "y_tar = sal_df['Salary'].values\n",
        "y_tar"
      ],
      "execution_count": 11,
      "outputs": [
        {
          "output_type": "execute_result",
          "data": {
            "text/plain": [
              "array([ 39343.,  46205.,  37731.,  43525.,  39891.,  56642.,  60150.,\n",
              "        54445.,  64445.,  57189.,  63218.,  55794.,  56957.,  57081.,\n",
              "        61111.,  67938.,  66029.,  83088.,  81363.,  93940.,  91738.,\n",
              "        98273., 101302., 113812., 109431., 105582., 116969., 112635.,\n",
              "       122391., 121872.])"
            ]
          },
          "metadata": {
            "tags": []
          },
          "execution_count": 11
        }
      ]
    },
    {
      "cell_type": "code",
      "metadata": {
        "id": "-kzIAaBM2Mxb",
        "colab_type": "code",
        "colab": {
          "base_uri": "https://localhost:8080/",
          "height": 35
        },
        "outputId": "39f0d466-5cc3-40bf-aa59-5f80739205fd"
      },
      "source": [
        "x_feat.shape ### shape should be (no. of samples, no. of features)"
      ],
      "execution_count": 12,
      "outputs": [
        {
          "output_type": "execute_result",
          "data": {
            "text/plain": [
              "(30,)"
            ]
          },
          "metadata": {
            "tags": []
          },
          "execution_count": 12
        }
      ]
    },
    {
      "cell_type": "code",
      "metadata": {
        "id": "I4DvJQvX3B4V",
        "colab_type": "code",
        "colab": {
          "base_uri": "https://localhost:8080/",
          "height": 35
        },
        "outputId": "3e53d725-c128-47ff-feec-c13baba1ff82"
      },
      "source": [
        "x_feat = x_feat.reshape(len(x_feat),1)\n",
        "y_tar = y_tar.reshape(len(y_tar),1)\n",
        "x_feat.shape"
      ],
      "execution_count": 14,
      "outputs": [
        {
          "output_type": "execute_result",
          "data": {
            "text/plain": [
              "(30, 1)"
            ]
          },
          "metadata": {
            "tags": []
          },
          "execution_count": 14
        }
      ]
    },
    {
      "cell_type": "markdown",
      "metadata": {
        "id": "olqajBjL3xKU",
        "colab_type": "text"
      },
      "source": [
        "**Splitting the data into training and testing**"
      ]
    },
    {
      "cell_type": "code",
      "metadata": {
        "id": "q9ehxdjr3oPq",
        "colab_type": "code",
        "colab": {}
      },
      "source": [
        "from sklearn.model_selection import train_test_split"
      ],
      "execution_count": 15,
      "outputs": []
    },
    {
      "cell_type": "code",
      "metadata": {
        "id": "SQRhMY6c4b8v",
        "colab_type": "code",
        "colab": {}
      },
      "source": [
        "###random splitting\n",
        "x_feat_train, x_feat_test, y_tar_train, y_tar_test = train_test_split(x_feat,y_tar,test_size=0.20)"
      ],
      "execution_count": 16,
      "outputs": []
    },
    {
      "cell_type": "markdown",
      "metadata": {
        "id": "1sZdkdYG5wNs",
        "colab_type": "text"
      },
      "source": [
        "**Building and Training the model**"
      ]
    },
    {
      "cell_type": "code",
      "metadata": {
        "id": "rgtl4znG4z68",
        "colab_type": "code",
        "colab": {}
      },
      "source": [
        "from sklearn.linear_model import LinearRegression\n",
        "model = LinearRegression()  ###Building an object"
      ],
      "execution_count": 17,
      "outputs": []
    },
    {
      "cell_type": "code",
      "metadata": {
        "id": "4IFih3Mb6FTd",
        "colab_type": "code",
        "colab": {
          "base_uri": "https://localhost:8080/",
          "height": 35
        },
        "outputId": "820563ac-a820-4809-ea8a-52ff5d55b2c8"
      },
      "source": [
        "model.fit(x_feat_train,y_tar_train) ###Training the model"
      ],
      "execution_count": 18,
      "outputs": [
        {
          "output_type": "execute_result",
          "data": {
            "text/plain": [
              "LinearRegression(copy_X=True, fit_intercept=True, n_jobs=None, normalize=False)"
            ]
          },
          "metadata": {
            "tags": []
          },
          "execution_count": 18
        }
      ]
    },
    {
      "cell_type": "markdown",
      "metadata": {
        "id": "tUkc2vra6WLF",
        "colab_type": "text"
      },
      "source": [
        "**Predicting, Plotting and Evaluating**"
      ]
    },
    {
      "cell_type": "code",
      "metadata": {
        "id": "YRQuilR46Klv",
        "colab_type": "code",
        "colab": {
          "base_uri": "https://localhost:8080/",
          "height": 126
        },
        "outputId": "a6a49a5d-ec49-4219-bc9e-1559f9997666"
      },
      "source": [
        "y_pred = model.predict(x_feat_test)\n",
        "y_pred"
      ],
      "execution_count": 20,
      "outputs": [
        {
          "output_type": "execute_result",
          "data": {
            "text/plain": [
              "array([[ 39303.48783749],\n",
              "       [ 53558.93346292],\n",
              "       [115332.5311731 ],\n",
              "       [ 81119.46167208],\n",
              "       [110580.71596463],\n",
              "       [ 82069.82471377]])"
            ]
          },
          "metadata": {
            "tags": []
          },
          "execution_count": 20
        }
      ]
    },
    {
      "cell_type": "code",
      "metadata": {
        "id": "1lJdA9LV7B45",
        "colab_type": "code",
        "colab": {
          "base_uri": "https://localhost:8080/",
          "height": 126
        },
        "outputId": "541bd4cc-fd72-4b8c-fc91-34985f1ebdd7"
      },
      "source": [
        "y_tar_test"
      ],
      "execution_count": 21,
      "outputs": [
        {
          "output_type": "execute_result",
          "data": {
            "text/plain": [
              "array([[ 37731.],\n",
              "       [ 60150.],\n",
              "       [116969.],\n",
              "       [ 81363.],\n",
              "       [105582.],\n",
              "       [ 93940.]])"
            ]
          },
          "metadata": {
            "tags": []
          },
          "execution_count": 21
        }
      ]
    },
    {
      "cell_type": "code",
      "metadata": {
        "id": "XiKDHjiS7Lyt",
        "colab_type": "code",
        "colab": {
          "base_uri": "https://localhost:8080/",
          "height": 265
        },
        "outputId": "5a222ecd-01d2-4d40-9935-a641790eb35c"
      },
      "source": [
        "###Plotting line of regression(Training samples)\n",
        "plt.scatter(x_feat_train,y_tar_train,color = \"green\", label = \"Actual Points\")\n",
        "plt.scatter(x_feat_train,model.predict(x_feat_train),color = \"blue\", label = \"Predicted points\")\n",
        "plt.plot(x_feat_train,model.predict(x_feat_train),color = \"red\", label = \"Line of Regression\")\n",
        "plt.legend(loc=2)\n",
        "plt.show()"
      ],
      "execution_count": 26,
      "outputs": [
        {
          "output_type": "display_data",
          "data": {
            "image/png": "[encoded data removed]",
            "text/plain": [
              "<Figure size 432x288 with 1 Axes>"
            ]
          },
          "metadata": {
            "tags": [],
            "needs_background": "light"
          }
        }
      ]
    },
    {
      "cell_type": "code",
      "metadata": {
        "id": "0DuKzlcQ8s4I",
        "colab_type": "code",
        "colab": {
          "base_uri": "https://localhost:8080/",
          "height": 267
        },
        "outputId": "ee537d81-bb8d-4afc-a360-53955af6ccbb"
      },
      "source": [
        "###Plotting line of regression(Testing samples)\n",
        "plt.scatter(x_feat_test,y_tar_test,color = \"green\", label = \"Actual Points\")\n",
        "plt.scatter(x_feat_test,y_pred,color = \"blue\", label = \"Predicted points\")\n",
        "plt.plot(x_feat_test,y_pred,color = \"red\", label = \"Line of Regression\")\n",
        "plt.legend(loc=2)\n",
        "plt.show()"
      ],
      "execution_count": 27,
      "outputs": [
        {
          "output_type": "display_data",
          "data": {
            "image/png": "[encoded data removed]",
            "text/plain": [
              "<Figure size 432x288 with 1 Axes>"
            ]
          },
          "metadata": {
            "tags": [],
            "needs_background": "light"
          }
        }
      ]
    },
    {
      "cell_type": "code",
      "metadata": {
        "id": "kM6WBbA3-auY",
        "colab_type": "code",
        "colab": {
          "base_uri": "https://localhost:8080/",
          "height": 35
        },
        "outputId": "d20e7d2c-45b7-4b42-b45e-53582202902a"
      },
      "source": [
        "### Accuracy Metric\n",
        "from sklearn.metrics import r2_score\n",
        "r2_sal = r2_score(y_tar_test,y_pred)\n",
        "r2_sal"
      ],
      "execution_count": 28,
      "outputs": [
        {
          "output_type": "execute_result",
          "data": {
            "text/plain": [
              "0.9507568030854814"
            ]
          },
          "metadata": {
            "tags": []
          },
          "execution_count": 28
        }
      ]
    },
    {
      "cell_type": "code",
      "metadata": {
        "id": "6omh7dOdDemP",
        "colab_type": "code",
        "colab": {
          "base_uri": "https://localhost:8080/",
          "height": 35
        },
        "outputId": "85dd058c-0d26-497e-aeed-0837739afc3c"
      },
      "source": [
        "### Equation of line\n",
        "m = model.coef_\n",
        "c = model.intercept_\n",
        "print(m,c)"
      ],
      "execution_count": 29,
      "outputs": [
        {
          "output_type": "stream",
          "text": [
            "[[9503.63041695]] [25048.04221207]\n"
          ],
          "name": "stdout"
        }
      ]
    },
    {
      "cell_type": "markdown",
      "metadata": {
        "id": "f_aI4X2FFpVA",
        "colab_type": "text"
      },
      "source": [
        "**Predicting new sample**"
      ]
    },
    {
      "cell_type": "code",
      "metadata": {
        "id": "iH5OhKDrEw4W",
        "colab_type": "code",
        "colab": {
          "base_uri": "https://localhost:8080/",
          "height": 35
        },
        "outputId": "6991f4cc-7934-4eff-e9cc-e490fc379281"
      },
      "source": [
        "y = m * 15 + c\n",
        "y"
      ],
      "execution_count": 30,
      "outputs": [
        {
          "output_type": "execute_result",
          "data": {
            "text/plain": [
              "array([[167602.49846633]])"
            ]
          },
          "metadata": {
            "tags": []
          },
          "execution_count": 30
        }
      ]
    },
    {
      "cell_type": "code",
      "metadata": {
        "id": "B4wwNgsgFxmP",
        "colab_type": "code",
        "colab": {
          "base_uri": "https://localhost:8080/",
          "height": 35
        },
        "outputId": "f6df9e72-8174-48d6-8ac7-fc07740e6ee2"
      },
      "source": [
        "model.predict([[15]])"
      ],
      "execution_count": 32,
      "outputs": [
        {
          "output_type": "execute_result",
          "data": {
            "text/plain": [
              "array([[167602.49846633]])"
            ]
          },
          "metadata": {
            "tags": []
          },
          "execution_count": 32
        }
      ]
    },
    {
      "cell_type": "markdown",
      "metadata": {
        "id": "ur-T72GCGwPw",
        "colab_type": "text"
      },
      "source": [
        "**Saving the model**"
      ]
    },
    {
      "cell_type": "code",
      "metadata": {
        "id": "5lI3ajy2Fz6F",
        "colab_type": "code",
        "colab": {
          "base_uri": "https://localhost:8080/",
          "height": 92
        },
        "outputId": "9230caf2-b6e2-4649-d928-c676c84936ca"
      },
      "source": [
        "from sklearn.externals import joblib\n",
        "joblib.dump(model, 'lrmodel.pkl')"
      ],
      "execution_count": 33,
      "outputs": [
        {
          "output_type": "stream",
          "text": [
            "/usr/local/lib/python3.6/dist-packages/sklearn/externals/joblib/__init__.py:15: FutureWarning: sklearn.externals.joblib is deprecated in 0.21 and will be removed in 0.23. Please import this functionality directly from joblib, which can be installed with: pip install joblib. If this warning is raised when loading pickled models, you may need to re-serialize those models with scikit-learn 0.21+.\n",
            "  warnings.warn(msg, category=FutureWarning)\n"
          ],
          "name": "stderr"
        },
        {
          "output_type": "execute_result",
          "data": {
            "text/plain": [
              "['lrmodel.pkl']"
            ]
          },
          "metadata": {
            "tags": []
          },
          "execution_count": 33
        }
      ]
    },
    {
      "cell_type": "markdown",
      "metadata": {
        "id": "wJdQbHULHcVo",
        "colab_type": "text"
      },
      "source": [
        "**Loading the saved model**"
      ]
    },
    {
      "cell_type": "code",
      "metadata": {
        "id": "BcLrZVhpHELt",
        "colab_type": "code",
        "colab": {}
      },
      "source": [
        "lrmodel = joblib.load(\"lrmodel.pkl\")"
      ],
      "execution_count": 34,
      "outputs": []
    },
    {
      "cell_type": "code",
      "metadata": {
        "id": "zS_2uhijIM9p",
        "colab_type": "code",
        "colab": {
          "base_uri": "https://localhost:8080/",
          "height": 35
        },
        "outputId": "3736de37-a3a8-4707-8564-fc9f489e2eb5"
      },
      "source": [
        "lrmodel.predict([[15]])"
      ],
      "execution_count": 36,
      "outputs": [
        {
          "output_type": "execute_result",
          "data": {
            "text/plain": [
              "array([[167602.49846633]])"
            ]
          },
          "metadata": {
            "tags": []
          },
          "execution_count": 36
        }
      ]
    },
    {
      "cell_type": "markdown",
      "metadata": {
        "id": "zEQ-UjsFIxPP",
        "colab_type": "text"
      },
      "source": [
        "**Function for Salary prediction**"
      ]
    },
    {
      "cell_type": "code",
      "metadata": {
        "id": "pvlO-mqLIP0D",
        "colab_type": "code",
        "colab": {}
      },
      "source": [
        "import numpy as np\n",
        "def Salary_Prediction():\n",
        "  expears = int(input(\"Enter the experience in years: \"))\n",
        "  salary = lrmodel.predict([[expears]])\n",
        "  salary = np.round(salary)\n",
        "  return \"Salary of the employee : \" + str(salary[0][0])"
      ],
      "execution_count": 46,
      "outputs": []
    },
    {
      "cell_type": "code",
      "metadata": {
        "id": "drQOoUB7JY47",
        "colab_type": "code",
        "colab": {
          "base_uri": "https://localhost:8080/",
          "height": 54
        },
        "outputId": "d3ff40eb-7d66-461f-8857-d027adf84843"
      },
      "source": [
        "Salary_Prediction()"
      ],
      "execution_count": 47,
      "outputs": [
        {
          "output_type": "stream",
          "text": [
            "Enter the experience in years: 30\n"
          ],
          "name": "stdout"
        },
        {
          "output_type": "execute_result",
          "data": {
            "application/vnd.google.colaboratory.intrinsic+json": {
              "type": "string"
            },
            "text/plain": [
              "'Salary of the employee : 310157.0'"
            ]
          },
          "metadata": {
            "tags": []
          },
          "execution_count": 47
        }
      ]
    },
    {
      "cell_type": "code",
      "metadata": {
        "id": "Ll7DAqUXJbMm",
        "colab_type": "code",
        "colab": {}
      },
      "source": [
        ""
      ],
      "execution_count": null,
      "outputs": []
    }
  ]
}