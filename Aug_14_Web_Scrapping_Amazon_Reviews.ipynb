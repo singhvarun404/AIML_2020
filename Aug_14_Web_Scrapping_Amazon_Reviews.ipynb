{
  "nbformat": 4,
  "nbformat_minor": 0,
  "metadata": {
    "colab": {
      "name": "Aug_14_Web_Scrapping_Amazon_Reviews.ipynb",
      "provenance": [],
      "authorship_tag": "ABX9TyMkLVYHK1pB0Gva7cqs0Ym/",
      "include_colab_link": true
    },
    "kernelspec": {
      "name": "python3",
      "display_name": "Python 3"
    }
  },
  "cells": [
    {
      "cell_type": "markdown",
      "metadata": {
        "id": "view-in-github",
        "colab_type": "text"
      },
      "source": [
        "<a href=\"https://colab.research.google.com/github/singhvarun404/AIML_2020/blob/master/Aug_14_Web_Scrapping_Amazon_Reviews.ipynb\" target=\"_parent\"><img src=\"https://colab.research.google.com/assets/colab-badge.svg\" alt=\"Open In Colab\"/></a>"
      ]
    },
    {
      "cell_type": "code",
      "metadata": {
        "id": "kkVHulVAXZfb",
        "colab_type": "code",
        "colab": {
          "base_uri": "https://localhost:8080/",
          "height": 53
        },
        "outputId": "409cefe9-503a-475f-9e77-dcfe5a0d199f"
      },
      "source": [
        "Date = 14\n",
        "Topic = \"Web Scrapping-Amazing Product Review\"\n",
        "print(\"Date: August {} \\nTopic: {}\".format(Date,Topic))"
      ],
      "execution_count": 1,
      "outputs": [
        {
          "output_type": "stream",
          "text": [
            "Date: August 14 \n",
            "Topic: Web Scrapping-Amazing Product Review\n"
          ],
          "name": "stdout"
        }
      ]
    },
    {
      "cell_type": "code",
      "metadata": {
        "id": "S6qx2truXy4W",
        "colab_type": "code",
        "colab": {}
      },
      "source": [
        "import requests\n",
        "from bs4 import BeautifulSoup"
      ],
      "execution_count": 2,
      "outputs": []
    },
    {
      "cell_type": "code",
      "metadata": {
        "id": "RbxdrVx4YVKQ",
        "colab_type": "code",
        "colab": {}
      },
      "source": [
        "url = \"https://www.amazon.in/Test-Exclusive-544/product-reviews/B077PWK5BY/ref=cm_cr_dp_d_show_all_btm?ie=UTF8&reviewerType=all_reviews\""
      ],
      "execution_count": 3,
      "outputs": []
    },
    {
      "cell_type": "code",
      "metadata": {
        "id": "ON31F3IpYWpX",
        "colab_type": "code",
        "colab": {
          "base_uri": "https://localhost:8080/",
          "height": 35
        },
        "outputId": "b46dd6bb-6eae-4e7c-f06a-fa937b336ea1"
      },
      "source": [
        "web_page = requests.get(url)\n",
        "web_page"
      ],
      "execution_count": 5,
      "outputs": [
        {
          "output_type": "execute_result",
          "data": {
            "text/plain": [
              "<Response [200]>"
            ]
          },
          "metadata": {
            "tags": []
          },
          "execution_count": 5
        }
      ]
    },
    {
      "cell_type": "code",
      "metadata": {
        "id": "viS4aFWJYb--",
        "colab_type": "code",
        "colab": {}
      },
      "source": [
        "soup = BeautifulSoup(web_page.content,'html.parser')"
      ],
      "execution_count": 7,
      "outputs": []
    },
    {
      "cell_type": "code",
      "metadata": {
        "id": "w8OlVVhlYqE-",
        "colab_type": "code",
        "colab": {
          "base_uri": "https://localhost:8080/",
          "height": 199
        },
        "outputId": "1339f5e2-094d-499d-98dc-20bf31361d4d"
      },
      "source": [
        "r_names = soup.select('span.a-profile-name')[2:]\n",
        "r_names"
      ],
      "execution_count": 23,
      "outputs": [
        {
          "output_type": "execute_result",
          "data": {
            "text/plain": [
              "[<span class=\"a-profile-name\">Kishore Kumar</span>,\n",
              " <span class=\"a-profile-name\">NA</span>,\n",
              " <span class=\"a-profile-name\">tarun Singh</span>,\n",
              " <span class=\"a-profile-name\">Arindam Singh</span>,\n",
              " <span class=\"a-profile-name\">Aman Singh</span>,\n",
              " <span class=\"a-profile-name\">MEENAKSHI Goswami</span>,\n",
              " <span class=\"a-profile-name\">Dhanush KT</span>,\n",
              " <span class=\"a-profile-name\">Divakar</span>,\n",
              " <span class=\"a-profile-name\">Robin Sahni</span>,\n",
              " <span class=\"a-profile-name\">Panindra koripalli</span>]"
            ]
          },
          "metadata": {
            "tags": []
          },
          "execution_count": 23
        }
      ]
    },
    {
      "cell_type": "code",
      "metadata": {
        "id": "LMWsZulBaOH1",
        "colab_type": "code",
        "colab": {}
      },
      "source": [
        "r_titles = soup.select('a.review-title span')\n",
        "r_titles"
      ],
      "execution_count": null,
      "outputs": []
    },
    {
      "cell_type": "code",
      "metadata": {
        "id": "RbQLMh-eb-j7",
        "colab_type": "code",
        "colab": {}
      },
      "source": [
        "r_dates = soup.select('span.review-date')[2:]\n",
        "r_dates"
      ],
      "execution_count": null,
      "outputs": []
    },
    {
      "cell_type": "code",
      "metadata": {
        "id": "GHPq439icBBT",
        "colab_type": "code",
        "colab": {}
      },
      "source": [
        "r_ratings = soup.select('span.a-icon-alt')[3:]\n",
        "r_ratings"
      ],
      "execution_count": null,
      "outputs": []
    },
    {
      "cell_type": "code",
      "metadata": {
        "id": "50PDqvJOc_DV",
        "colab_type": "code",
        "colab": {}
      },
      "source": [
        "r_contents = soup.select('span.review-text-content span')\n",
        "r_contents"
      ],
      "execution_count": null,
      "outputs": []
    },
    {
      "cell_type": "code",
      "metadata": {
        "id": "qlVXm2U7dtJg",
        "colab_type": "code",
        "colab": {}
      },
      "source": [
        "c_name = []\n",
        "r_date = []\n",
        "r_title = []\n",
        "r_rating = []\n",
        "r_content = []\n",
        "for i in range(0,len(r_names)):\n",
        "  c_name.append(r_names[i].get_text())\n",
        "  r_date.append(r_dates[i].get_text())\n",
        "  r_title.append(r_titles[i].get_text())\n",
        "  r_rating.append(r_ratings[i].get_text())\n",
        "  r_content.append(r_contents[i].get_text().replace(\"\\n\",\"\"))\n"
      ],
      "execution_count": 45,
      "outputs": []
    },
    {
      "cell_type": "code",
      "metadata": {
        "id": "VBuhjCYQe3Kg",
        "colab_type": "code",
        "colab": {}
      },
      "source": [
        "import pandas as pd\n",
        "rev_df = pd.DataFrame()"
      ],
      "execution_count": null,
      "outputs": []
    },
    {
      "cell_type": "code",
      "metadata": {
        "id": "bJF004uegECP",
        "colab_type": "code",
        "colab": {}
      },
      "source": [
        "rev_df[\"Customer Name\"] = c_name\n",
        "rev_df[\"Date\"] = r_date\n",
        "rev_df[\"Review Title\"] = r_title\n",
        "rev_df[\"Rating\"] = r_rating\n",
        "rev_df[\"Review\"] = r_content "
      ],
      "execution_count": 47,
      "outputs": []
    },
    {
      "cell_type": "code",
      "metadata": {
        "id": "frj1C3dVhAuh",
        "colab_type": "code",
        "colab": {}
      },
      "source": [
        "rev_df.head()"
      ],
      "execution_count": null,
      "outputs": []
    },
    {
      "cell_type": "code",
      "metadata": {
        "id": "TL-DHv1uhCM3",
        "colab_type": "code",
        "colab": {}
      },
      "source": [
        "rev_df.to_csv('Amazon_Reviews.csv')"
      ],
      "execution_count": 49,
      "outputs": []
    },
    {
      "cell_type": "code",
      "metadata": {
        "id": "xyaXJvArhfgV",
        "colab_type": "code",
        "colab": {}
      },
      "source": [
        ""
      ],
      "execution_count": null,
      "outputs": []
    }
  ]
}