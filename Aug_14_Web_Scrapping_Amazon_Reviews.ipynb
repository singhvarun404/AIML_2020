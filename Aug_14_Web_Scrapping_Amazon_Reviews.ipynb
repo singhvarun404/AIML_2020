{
  "nbformat": 4,
  "nbformat_minor": 0,
  "metadata": {
    "colab": {
      "name": "Aug_14_Web_Scrapping_Amazon_Reviews.ipynb",
      "provenance": [],
      "authorship_tag": "ABX9TyMkLVYHK1pB0Gva7cqs0Ym/",
      "include_colab_link": true
    },
    "kernelspec": {
      "name": "python3",
      "display_name": "Python 3"
    }
  },
  "cells": [
    {
      "cell_type": "markdown",
      "metadata": {
        "id": "view-in-github",
        "colab_type": "text"
      },
      "source": [
        "<a href=\"https://colab.research.google.com/github/singhvarun404/AIML_2020/blob/master/Aug_14_Web_Scrapping_Amazon_Reviews.ipynb\" target=\"_parent\"><img src=\"https://colab.research.google.com/assets/colab-badge.svg\" alt=\"Open In Colab\"/></a>"
      ]
    },
    {
      "cell_type": "code",
      "metadata": {
        "id": "kkVHulVAXZfb",
        "colab_type": "code",
        "colab": {
          "base_uri": "https://localhost:8080/",
          "height": 53
        },
        "outputId": "668c9f57-1d70-450c-e508-2e61422c8237"
      },
      "source": [
        "Date = 14\n",
        "Topic = \"Web Scrapping-Amazing Product Review\"\n",
        "print(\"Date: August {} \\nTopic: {}\".format(Date,Topic))"
      ],
      "execution_count": 1,
      "outputs": [
        {
          "output_type": "stream",
          "text": [
            "Date: August 14 \n",
            "Topic: Web Scrapping-Amazing Product Review\n"
          ],
          "name": "stdout"
        }
      ]
    },
    {
      "cell_type": "code",
      "metadata": {
        "id": "S6qx2truXy4W",
        "colab_type": "code",
        "colab": {}
      },
      "source": [
        "import requests\n",
        "from bs4 import BeautifulSoup"
      ],
      "execution_count": 2,
      "outputs": []
    },
    {
      "cell_type": "code",
      "metadata": {
        "id": "RbxdrVx4YVKQ",
        "colab_type": "code",
        "colab": {}
      },
      "source": [
        "url = \"https://www.amazon.in/Test-Exclusive-544/product-reviews/B077PWK5BY/ref=cm_cr_dp_d_show_all_btm?ie=UTF8&reviewerType=all_reviews\""
      ],
      "execution_count": 3,
      "outputs": []
    },
    {
      "cell_type": "code",
      "metadata": {
        "id": "ON31F3IpYWpX",
        "colab_type": "code",
        "colab": {
          "base_uri": "https://localhost:8080/",
          "height": 35
        },
        "outputId": "afe343a7-a185-497e-8146-6ce372e1084e"
      },
      "source": [
        "web_page = requests.get(url)\n",
        "web_page"
      ],
      "execution_count": 4,
      "outputs": [
        {
          "output_type": "execute_result",
          "data": {
            "text/plain": [
              "<Response [200]>"
            ]
          },
          "metadata": {
            "tags": []
          },
          "execution_count": 4
        }
      ]
    },
    {
      "cell_type": "code",
      "metadata": {
        "id": "viS4aFWJYb--",
        "colab_type": "code",
        "colab": {}
      },
      "source": [
        "soup = BeautifulSoup(web_page.content,'html.parser')"
      ],
      "execution_count": 5,
      "outputs": []
    },
    {
      "cell_type": "code",
      "metadata": {
        "id": "w8OlVVhlYqE-",
        "colab_type": "code",
        "colab": {
          "base_uri": "https://localhost:8080/",
          "height": 199
        },
        "outputId": "a7523d1d-7205-442d-b5f6-c51745bd3711"
      },
      "source": [
        "r_names = soup.select('span.a-profile-name')[2:]\n",
        "r_names"
      ],
      "execution_count": 6,
      "outputs": [
        {
          "output_type": "execute_result",
          "data": {
            "text/plain": [
              "[<span class=\"a-profile-name\">Kishore Kumar</span>,\n",
              " <span class=\"a-profile-name\">NA</span>,\n",
              " <span class=\"a-profile-name\">tarun Singh</span>,\n",
              " <span class=\"a-profile-name\">Arindam Singh</span>,\n",
              " <span class=\"a-profile-name\">Aman Singh</span>,\n",
              " <span class=\"a-profile-name\">MEENAKSHI Goswami</span>,\n",
              " <span class=\"a-profile-name\">Dhanush KT</span>,\n",
              " <span class=\"a-profile-name\">Divakar</span>,\n",
              " <span class=\"a-profile-name\">Robin Sahni</span>,\n",
              " <span class=\"a-profile-name\">Panindra koripalli</span>]"
            ]
          },
          "metadata": {
            "tags": []
          },
          "execution_count": 6
        }
      ]
    },
    {
      "cell_type": "code",
      "metadata": {
        "id": "LMWsZulBaOH1",
        "colab_type": "code",
        "colab": {
          "base_uri": "https://localhost:8080/",
          "height": 199
        },
        "outputId": "d979b9ce-dc44-426c-821a-5dccee3fa2e8"
      },
      "source": [
        "r_titles = soup.select('a.review-title span')\n",
        "r_titles"
      ],
      "execution_count": 7,
      "outputs": [
        {
          "output_type": "execute_result",
          "data": {
            "text/plain": [
              "[<span>Be cautious</span>,\n",
              " <span>Display Issue</span>,\n",
              " <span>Phone heats a lot</span>,\n",
              " <span>A great feature rich phone but has Display issues.</span>,\n",
              " <span>Dont buy it.Display is not upto the mark</span>,\n",
              " <span>Superb</span>,\n",
              " <span>Having display issues</span>,\n",
              " <span>First Review of 256GB Variant India. No display issues. Works fine.</span>,\n",
              " <span>Screen issues,Heating issues,Bad front camera</span>,\n",
              " <span>Major know issue</span>]"
            ]
          },
          "metadata": {
            "tags": []
          },
          "execution_count": 7
        }
      ]
    },
    {
      "cell_type": "code",
      "metadata": {
        "id": "RbQLMh-eb-j7",
        "colab_type": "code",
        "colab": {
          "base_uri": "https://localhost:8080/",
          "height": 199
        },
        "outputId": "14996a3f-7011-46d0-814d-ba32a3efecce"
      },
      "source": [
        "r_dates = soup.select('span.review-date')[2:]\n",
        "r_dates"
      ],
      "execution_count": 8,
      "outputs": [
        {
          "output_type": "execute_result",
          "data": {
            "text/plain": [
              "[<span class=\"a-size-base a-color-secondary review-date\" data-hook=\"review-date\">Reviewed in India on 19 June 2020</span>,\n",
              " <span class=\"a-size-base a-color-secondary review-date\" data-hook=\"review-date\">Reviewed in India on 18 June 2020</span>,\n",
              " <span class=\"a-size-base a-color-secondary review-date\" data-hook=\"review-date\">Reviewed in India on 19 June 2020</span>,\n",
              " <span class=\"a-size-base a-color-secondary review-date\" data-hook=\"review-date\">Reviewed in India on 1 July 2020</span>,\n",
              " <span class=\"a-size-base a-color-secondary review-date\" data-hook=\"review-date\">Reviewed in India on 2 July 2020</span>,\n",
              " <span class=\"a-size-base a-color-secondary review-date\" data-hook=\"review-date\">Reviewed in India on 16 June 2020</span>,\n",
              " <span class=\"a-size-base a-color-secondary review-date\" data-hook=\"review-date\">Reviewed in India on 29 June 2020</span>,\n",
              " <span class=\"a-size-base a-color-secondary review-date\" data-hook=\"review-date\">Reviewed in India on 17 June 2020</span>,\n",
              " <span class=\"a-size-base a-color-secondary review-date\" data-hook=\"review-date\">Reviewed in India on 26 June 2020</span>,\n",
              " <span class=\"a-size-base a-color-secondary review-date\" data-hook=\"review-date\">Reviewed in India on 27 June 2020</span>]"
            ]
          },
          "metadata": {
            "tags": []
          },
          "execution_count": 8
        }
      ]
    },
    {
      "cell_type": "code",
      "metadata": {
        "id": "GHPq439icBBT",
        "colab_type": "code",
        "colab": {
          "base_uri": "https://localhost:8080/",
          "height": 199
        },
        "outputId": "07079b38-70ca-40a8-b6dc-d3ba4bec89d6"
      },
      "source": [
        "r_ratings = soup.select('span.a-icon-alt')[3:]\n",
        "r_ratings"
      ],
      "execution_count": 9,
      "outputs": [
        {
          "output_type": "execute_result",
          "data": {
            "text/plain": [
              "[<span class=\"a-icon-alt\">2.0 out of 5 stars</span>,\n",
              " <span class=\"a-icon-alt\">1.0 out of 5 stars</span>,\n",
              " <span class=\"a-icon-alt\">3.0 out of 5 stars</span>,\n",
              " <span class=\"a-icon-alt\">3.0 out of 5 stars</span>,\n",
              " <span class=\"a-icon-alt\">1.0 out of 5 stars</span>,\n",
              " <span class=\"a-icon-alt\">5.0 out of 5 stars</span>,\n",
              " <span class=\"a-icon-alt\">1.0 out of 5 stars</span>,\n",
              " <span class=\"a-icon-alt\">3.0 out of 5 stars</span>,\n",
              " <span class=\"a-icon-alt\">1.0 out of 5 stars</span>,\n",
              " <span class=\"a-icon-alt\">1.0 out of 5 stars</span>]"
            ]
          },
          "metadata": {
            "tags": []
          },
          "execution_count": 9
        }
      ]
    },
    {
      "cell_type": "code",
      "metadata": {
        "id": "50PDqvJOc_DV",
        "colab_type": "code",
        "colab": {
          "base_uri": "https://localhost:8080/",
          "height": 419
        },
        "outputId": "9b1e657a-8106-4071-9056-fd4b6c5ec42e"
      },
      "source": [
        "r_contents = soup.select('span.review-text-content span')\n",
        "r_contents"
      ],
      "execution_count": 10,
      "outputs": [
        {
          "output_type": "execute_result",
          "data": {
            "text/plain": [
              "[<span>\n",
              "   The phone has a dark band on the status bar. As clearly seen in the photo. OnePlus 8 pro has some serious issues with its display. To reproduce the issue, you have to sit in a dark room with the lowest brightness possible in your device.\n",
              " </span>, <span>\n",
              "   I am facing display issues in low brightness\n",
              " </span>, <span>\n",
              "   i am using this phone just a day..but there are  two main problem i notice so far...one is in video black depth is more and the second one is adapive light censor is worst part.in low light it's horrible.it can't match half of the samsung note,or s mobile.battery back is good far better than samsung and processor is absolutely powerful.playing pubg isn't that great experience it's lag many time.pls oneplus fixed lowlight display problem..\n",
              " </span>, <span>\n",
              "   I bought this 12GB+256GB Glacial Green variant and physically it looks stunning. The design is top-notch. The punch hole camera does not spoil the overall screen experience as some people have said. Very sleek and premium looking design-wise. The battery life does not last really long when you use it on 120 Hz QHD+, although it's quite manageable and can get through the day with mid usage easily. Coming to gaming, I'm a hardcore gamer and can game continuously for 3-4 hours, and let me tell you this phone can run through it with ease. I've played PUBG quite a lot on this device and have not noticed any major frame drops at HDR graphics and Extreme frame rates, let alone Smooth graphics. It runs PUBG really smoothly. Stable frames at all times. I would suggest it for competitive PUBG and other games too. The 120 Hz Amoled screen is breathtaking. Buttery smooth at all times. Certainly the best display on a phone. I have found the cameras to be decent enough. Nothing too fancy, nor a let down. Videos are very stable though. This has come close to the iPhone cameras as a video shooter. This might even offer better stabilization than the iPhone videos. The colour filter camera is disabled out of the box. Speakers are fairly loud and clear. A very good surround experience. You'll find a Dolby sample video in your gallery. Play it on the phone speakers and see for yourself.<br/><br/>Here comes the bad part about it. The phone that I had received, I used it for about 2 weeks and discovered it had this image retention issue. The afterimage of anything displayed for a period of time on the phone for a long time is displayed on the screen even after the original image is pulled off. This could be seen while watching Youtube videos in non-fill screen mode or videos that have any kind of frame visible or even games like PUBG where static elements of game like the map's frame or your controls would be visible on certain background colours even after you have turned the game off. I had reset the phone and not seen any kind of improvement. I checked on the community and many people have experienced this issue as well. The hole-punch band issue is there but it was very vague and DC dimming could fix it. Also, my screen had no green tints. The image retention issue could easily turn into permanent screen burns really soon. So, I have returned my product for now and plan to buy the same phone again.<br/><br/>Hope you people find this review useful. Not a very organized review but that's what I have experienced.\n",
              " </span>, <span>\n",
              "   I bought the phone during the first sale on 15June.I was very excited for the phone due to all the hype on the social media and what not.It was amazing at first,blazing fast speed,120hz refresh rate and the display was gorgeous to look at,but after around 9th day,my display was having issues and after 11 days,half the screen would show a weird purple tint while watching youtube in dark mode and using chrome and apps with similar black color.My whole experience was ruined,so much that i sold the phone at ₹3000 loss.I'm 99% sure,no matter where you buy the phone,it would have some display issues in one way or another which is very disappointing.I urge you to stay away from this phone as the screen is not calibrated like it should've been.Totally not worth your hard earned money.\n",
              " </span>, <span>\n",
              "   Superb phone but little long and curves should be more.<br/>Camera and speakers quality are very good<br/>Sleek phone and color are very beautiful.<br/>Sound quality is excellent and crisp sound like u listening in head phone. u can recognize each sound in background and in surrounding without using any headphone.<br/>Picture quality is also excellent clear hd quality, colors are very bright.<br/>Camera is 48 mega and and after enlarging the image pixel not blurred.<br/>Camera quality is also awesome,slow motion,ultra wide,manvi and selfie all great.\n",
              " </span>, <span>\n",
              "   When i was testing my device for any display issues i kind of felt white colors are a bit too warm which looked like it had some tint effect to it in my unit, so i went into display settings and changed the calibration to advanced and selected AMOLED wide gamut with a cool color tone. it seemed to be good and then after a while, i started noticing image retention issue which was visible in light gray background. so i tested it keeping full brightness and opening chrome incognito mode and i could see home screen icons visible there (as shown in picture).<br/>i called in for replacement but unfortunately, i can only get a refund due to low stock of op8pro<br/>disappointed a lot in the quality of oneplus devices for which we pay 60k.\n",
              " </span>, <span>\n",
              "   There are issues with the display. The update didn't fix it.<br/><br/>You cannot turn down the brightness very low.<br/><br/>Slight heating when downloading 20+ things together.....Yes it's a good phone.<br/><br/>Overall premium build quality and high speed.<br/><br/>I have used the iPhone and s20 in past. I prefer this. If you are thinking to buy. Go ahead.\n",
              " </span>, <span>\n",
              "   My oneplus 8 pro has this screen uniformity issues in low brightness.You can see red tint in lower part of screen in first 2 images and crushes in colour in third image that is even at normal brightness.There are lot of other issues. Phone always stay warm unless you sit in AC room.It heats a lot even during normal usage.During charging its heat a lot .Front camera of this phone is Just pathetic.In whatsapp video call is worse. Slight background light fades away all the details.Even with default camera app,the front camera is bad. Back camera is decent.First time i am disappointed with OnePlus.I think reviews are just hype.\n",
              " </span>, <span>\n",
              "   Mobile display received defective, display good on features only but the greenish blurry background while night time confirms definitely the diffective display supplied by increasing the brightness to minimum.i previously used OnePlus 7pro and never seen this issues.if the minimum brightness continues as same as now eyes will go blind night time.<br/><br/>My concern and suggestion for you to go for other models if you loves this mobile display.<br/>Don't waste money for this defective product because OnePlus company also knows this issues.\n",
              " </span>]"
            ]
          },
          "metadata": {
            "tags": []
          },
          "execution_count": 10
        }
      ]
    },
    {
      "cell_type": "code",
      "metadata": {
        "id": "qlVXm2U7dtJg",
        "colab_type": "code",
        "colab": {}
      },
      "source": [
        "c_name = []\n",
        "r_date = []\n",
        "r_title = []\n",
        "r_rating = []\n",
        "r_content = []\n",
        "for i in range(0,len(r_names)):\n",
        "  c_name.append(r_names[i].get_text())\n",
        "  r_date.append(r_dates[i].get_text())\n",
        "  r_title.append(r_titles[i].get_text())\n",
        "  r_rating.append(r_ratings[i].get_text())\n",
        "  r_content.append(r_contents[i].get_text().replace(\"\\n\",\"\"))\n"
      ],
      "execution_count": 11,
      "outputs": []
    },
    {
      "cell_type": "code",
      "metadata": {
        "id": "VBuhjCYQe3Kg",
        "colab_type": "code",
        "colab": {}
      },
      "source": [
        "import pandas as pd\n",
        "rev_df = pd.DataFrame()"
      ],
      "execution_count": 12,
      "outputs": []
    },
    {
      "cell_type": "code",
      "metadata": {
        "id": "bJF004uegECP",
        "colab_type": "code",
        "colab": {}
      },
      "source": [
        "rev_df[\"Customer Name\"] = c_name\n",
        "rev_df[\"Date\"] = r_date\n",
        "rev_df[\"Review Title\"] = r_title\n",
        "rev_df[\"Rating\"] = r_rating\n",
        "rev_df[\"Review\"] = r_content "
      ],
      "execution_count": 13,
      "outputs": []
    },
    {
      "cell_type": "code",
      "metadata": {
        "id": "frj1C3dVhAuh",
        "colab_type": "code",
        "colab": {
          "base_uri": "https://localhost:8080/",
          "height": 206
        },
        "outputId": "1cd9f6c6-5c2c-4712-b50b-97797d6d2fcb"
      },
      "source": [
        "rev_df.head()"
      ],
      "execution_count": 14,
      "outputs": [
        {
          "output_type": "execute_result",
          "data": {
            "text/html": [
              "<div>\n",
              "<style scoped>\n",
              "    .dataframe tbody tr th:only-of-type {\n",
              "        vertical-align: middle;\n",
              "    }\n",
              "\n",
              "    .dataframe tbody tr th {\n",
              "        vertical-align: top;\n",
              "    }\n",
              "\n",
              "    .dataframe thead th {\n",
              "        text-align: right;\n",
              "    }\n",
              "</style>\n",
              "<table border=\"1\" class=\"dataframe\">\n",
              "  <thead>\n",
              "    <tr style=\"text-align: right;\">\n",
              "      <th></th>\n",
              "      <th>Customer Name</th>\n",
              "      <th>Date</th>\n",
              "      <th>Review Title</th>\n",
              "      <th>Rating</th>\n",
              "      <th>Review</th>\n",
              "    </tr>\n",
              "  </thead>\n",
              "  <tbody>\n",
              "    <tr>\n",
              "      <th>0</th>\n",
              "      <td>Kishore Kumar</td>\n",
              "      <td>Reviewed in India on 19 June 2020</td>\n",
              "      <td>Be cautious</td>\n",
              "      <td>2.0 out of 5 stars</td>\n",
              "      <td>The phone has a dark band on the status bar....</td>\n",
              "    </tr>\n",
              "    <tr>\n",
              "      <th>1</th>\n",
              "      <td>NA</td>\n",
              "      <td>Reviewed in India on 18 June 2020</td>\n",
              "      <td>Display Issue</td>\n",
              "      <td>1.0 out of 5 stars</td>\n",
              "      <td>I am facing display issues in low brightness</td>\n",
              "    </tr>\n",
              "    <tr>\n",
              "      <th>2</th>\n",
              "      <td>tarun Singh</td>\n",
              "      <td>Reviewed in India on 19 June 2020</td>\n",
              "      <td>Phone heats a lot</td>\n",
              "      <td>3.0 out of 5 stars</td>\n",
              "      <td>i am using this phone just a day..but there ...</td>\n",
              "    </tr>\n",
              "    <tr>\n",
              "      <th>3</th>\n",
              "      <td>Arindam Singh</td>\n",
              "      <td>Reviewed in India on 1 July 2020</td>\n",
              "      <td>A great feature rich phone but has Display iss...</td>\n",
              "      <td>3.0 out of 5 stars</td>\n",
              "      <td>I bought this 12GB+256GB Glacial Green varia...</td>\n",
              "    </tr>\n",
              "    <tr>\n",
              "      <th>4</th>\n",
              "      <td>Aman Singh</td>\n",
              "      <td>Reviewed in India on 2 July 2020</td>\n",
              "      <td>Dont buy it.Display is not upto the mark</td>\n",
              "      <td>1.0 out of 5 stars</td>\n",
              "      <td>I bought the phone during the first sale on ...</td>\n",
              "    </tr>\n",
              "  </tbody>\n",
              "</table>\n",
              "</div>"
            ],
            "text/plain": [
              "   Customer Name  ...                                             Review\n",
              "0  Kishore Kumar  ...    The phone has a dark band on the status bar....\n",
              "1             NA  ...       I am facing display issues in low brightness\n",
              "2    tarun Singh  ...    i am using this phone just a day..but there ...\n",
              "3  Arindam Singh  ...    I bought this 12GB+256GB Glacial Green varia...\n",
              "4     Aman Singh  ...    I bought the phone during the first sale on ...\n",
              "\n",
              "[5 rows x 5 columns]"
            ]
          },
          "metadata": {
            "tags": []
          },
          "execution_count": 14
        }
      ]
    },
    {
      "cell_type": "code",
      "metadata": {
        "id": "TL-DHv1uhCM3",
        "colab_type": "code",
        "colab": {}
      },
      "source": [
        "rev_df.to_csv('Amazon_Reviews.csv')"
      ],
      "execution_count": 15,
      "outputs": []
    },
    {
      "cell_type": "code",
      "metadata": {
        "id": "xyaXJvArhfgV",
        "colab_type": "code",
        "colab": {}
      },
      "source": [
        ""
      ],
      "execution_count": 15,
      "outputs": []
    }
  ]
}