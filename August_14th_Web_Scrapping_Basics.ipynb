{
  "nbformat": 4,
  "nbformat_minor": 0,
  "metadata": {
    "colab": {
      "name": "August_14th_Web_Scrapping_Basics.ipynb",
      "provenance": [],
      "authorship_tag": "ABX9TyOrxGADAPTThrDECGhiKlcm",
      "include_colab_link": true
    },
    "kernelspec": {
      "name": "python3",
      "display_name": "Python 3"
    }
  },
  "cells": [
    {
      "cell_type": "markdown",
      "metadata": {
        "id": "view-in-github",
        "colab_type": "text"
      },
      "source": [
        "<a href=\"https://colab.research.google.com/github/singhvarun404/AIML_2020/blob/master/August_14th_Web_Scrapping_Basics.ipynb\" target=\"_parent\"><img src=\"https://colab.research.google.com/assets/colab-badge.svg\" alt=\"Open In Colab\"/></a>"
      ]
    },
    {
      "cell_type": "code",
      "metadata": {
        "id": "rbHXomZX6ewF",
        "colab_type": "code",
        "colab": {
          "base_uri": "https://localhost:8080/",
          "height": 53
        },
        "outputId": "a764159a-26e3-4d6c-cdb3-bb0b47e4fb5c"
      },
      "source": [
        "Date = 14\n",
        "Topic = \"Web Scrapping\"\n",
        "print(\"Date: August {} \\nTopic: {}\".format(Date,Topic))"
      ],
      "execution_count": 4,
      "outputs": [
        {
          "output_type": "stream",
          "text": [
            "Date: August 14 \n",
            "Topic: Web Scrapping\n"
          ],
          "name": "stdout"
        }
      ]
    },
    {
      "cell_type": "code",
      "metadata": {
        "id": "jBuOnglC6uvI",
        "colab_type": "code",
        "colab": {}
      },
      "source": [
        "from bs4 import BeautifulSoup\n",
        "import requests"
      ],
      "execution_count": 6,
      "outputs": []
    },
    {
      "cell_type": "markdown",
      "metadata": {
        "id": "kEpEfFiXALe-",
        "colab_type": "text"
      },
      "source": [
        "**Moving tag by tag manually**"
      ]
    },
    {
      "cell_type": "code",
      "metadata": {
        "id": "wWE1Ne6HCR3R",
        "colab_type": "code",
        "colab": {}
      },
      "source": [
        "url = \"http://15.206.143.222/webscrap/demo1.html\""
      ],
      "execution_count": 7,
      "outputs": []
    },
    {
      "cell_type": "code",
      "metadata": {
        "id": "7reeFEtpCz1J",
        "colab_type": "code",
        "colab": {
          "base_uri": "https://localhost:8080/",
          "height": 35
        },
        "outputId": "17c3b417-0fd5-48ef-ba12-0f83bc557cc4"
      },
      "source": [
        "web_page = requests.get(url)\n",
        "web_page"
      ],
      "execution_count": 9,
      "outputs": [
        {
          "output_type": "execute_result",
          "data": {
            "text/plain": [
              "<Response [200]>"
            ]
          },
          "metadata": {
            "tags": []
          },
          "execution_count": 9
        }
      ]
    },
    {
      "cell_type": "code",
      "metadata": {
        "id": "MBaFp7qJC_Jl",
        "colab_type": "code",
        "colab": {
          "base_uri": "https://localhost:8080/",
          "height": 35
        },
        "outputId": "5ebf9c45-78a9-43c4-e3c6-fe7cab1ce6d2"
      },
      "source": [
        "web_page.content"
      ],
      "execution_count": 10,
      "outputs": [
        {
          "output_type": "execute_result",
          "data": {
            "text/plain": [
              "b'<!DOCTYPE html>\\n<html>\\n<head>Head Of The Page</head>\\n<body>\\n<p>Simple Paragraph</p>\\n</body>\\n</html>'"
            ]
          },
          "metadata": {
            "tags": []
          },
          "execution_count": 10
        }
      ]
    },
    {
      "cell_type": "code",
      "metadata": {
        "id": "zNnQt8zdDJCb",
        "colab_type": "code",
        "colab": {
          "base_uri": "https://localhost:8080/",
          "height": 162
        },
        "outputId": "26125d0f-72ae-4128-ea70-ba3edda55468"
      },
      "source": [
        "soup = BeautifulSoup(web_page.content,'html.parser')\n",
        "print(soup)"
      ],
      "execution_count": 12,
      "outputs": [
        {
          "output_type": "stream",
          "text": [
            "<!DOCTYPE html>\n",
            "\n",
            "<html>\n",
            "<head>Head Of The Page</head>\n",
            "<body>\n",
            "<p>Simple Paragraph</p>\n",
            "</body>\n",
            "</html>\n"
          ],
          "name": "stdout"
        }
      ]
    },
    {
      "cell_type": "code",
      "metadata": {
        "id": "wHqkWv4fEgXz",
        "colab_type": "code",
        "colab": {
          "base_uri": "https://localhost:8080/",
          "height": 217
        },
        "outputId": "0efe515f-c91c-4e20-8e3c-86da2f892be9"
      },
      "source": [
        "print(soup.prettify())"
      ],
      "execution_count": 13,
      "outputs": [
        {
          "output_type": "stream",
          "text": [
            "<!DOCTYPE html>\n",
            "<html>\n",
            " <head>\n",
            "  Head Of The Page\n",
            " </head>\n",
            " <body>\n",
            "  <p>\n",
            "   Simple Paragraph\n",
            "  </p>\n",
            " </body>\n",
            "</html>\n"
          ],
          "name": "stdout"
        }
      ]
    },
    {
      "cell_type": "code",
      "metadata": {
        "id": "7l237bCaE_QA",
        "colab_type": "code",
        "colab": {
          "base_uri": "https://localhost:8080/",
          "height": 126
        },
        "outputId": "4ec3211c-8f90-479a-d643-e660ad83de74"
      },
      "source": [
        "html = list(soup.children)[2]\n",
        "html"
      ],
      "execution_count": 16,
      "outputs": [
        {
          "output_type": "execute_result",
          "data": {
            "text/plain": [
              "<html>\n",
              "<head>Head Of The Page</head>\n",
              "<body>\n",
              "<p>Simple Paragraph</p>\n",
              "</body>\n",
              "</html>"
            ]
          },
          "metadata": {
            "tags": []
          },
          "execution_count": 16
        }
      ]
    },
    {
      "cell_type": "code",
      "metadata": {
        "id": "FZurzQpRF4Om",
        "colab_type": "code",
        "colab": {
          "base_uri": "https://localhost:8080/",
          "height": 72
        },
        "outputId": "a396372a-34cd-4341-a11b-3797142132ee"
      },
      "source": [
        "body = list(html.children)[3]\n",
        "body"
      ],
      "execution_count": 18,
      "outputs": [
        {
          "output_type": "execute_result",
          "data": {
            "text/plain": [
              "<body>\n",
              "<p>Simple Paragraph</p>\n",
              "</body>"
            ]
          },
          "metadata": {
            "tags": []
          },
          "execution_count": 18
        }
      ]
    },
    {
      "cell_type": "code",
      "metadata": {
        "id": "1S0px6ZTGixs",
        "colab_type": "code",
        "colab": {
          "base_uri": "https://localhost:8080/",
          "height": 35
        },
        "outputId": "b7aba435-1a8c-41c6-cf8a-62aec54acd1a"
      },
      "source": [
        "para = list(body.children)[1]\n",
        "para"
      ],
      "execution_count": 20,
      "outputs": [
        {
          "output_type": "execute_result",
          "data": {
            "text/plain": [
              "<p>Simple Paragraph</p>"
            ]
          },
          "metadata": {
            "tags": []
          },
          "execution_count": 20
        }
      ]
    },
    {
      "cell_type": "code",
      "metadata": {
        "id": "PgAQq8PRGux5",
        "colab_type": "code",
        "colab": {
          "base_uri": "https://localhost:8080/",
          "height": 36
        },
        "outputId": "b65a5543-2533-471b-8027-d4438ecce1bf"
      },
      "source": [
        "data = para.get_text() ### Getting text from tag\n",
        "data"
      ],
      "execution_count": 22,
      "outputs": [
        {
          "output_type": "execute_result",
          "data": {
            "application/vnd.google.colaboratory.intrinsic+json": {
              "type": "string"
            },
            "text/plain": [
              "'Simple Paragraph'"
            ]
          },
          "metadata": {
            "tags": []
          },
          "execution_count": 22
        }
      ]
    },
    {
      "cell_type": "markdown",
      "metadata": {
        "id": "zTQsc1zGIUrh",
        "colab_type": "text"
      },
      "source": [
        "**Directly searching the tag**"
      ]
    },
    {
      "cell_type": "code",
      "metadata": {
        "id": "0aUT6FMmHEH6",
        "colab_type": "code",
        "colab": {
          "base_uri": "https://localhost:8080/",
          "height": 35
        },
        "outputId": "b804fded-67ee-42f4-94b2-103dc2369880"
      },
      "source": [
        "url = \"http://15.206.143.222/webscrap/demo2.html\"\n",
        "web_page = requests.get(url)\n",
        "web_page"
      ],
      "execution_count": 29,
      "outputs": [
        {
          "output_type": "execute_result",
          "data": {
            "text/plain": [
              "<Response [200]>"
            ]
          },
          "metadata": {
            "tags": []
          },
          "execution_count": 29
        }
      ]
    },
    {
      "cell_type": "code",
      "metadata": {
        "id": "ciuhGnsYIs7t",
        "colab_type": "code",
        "colab": {
          "base_uri": "https://localhost:8080/",
          "height": 326
        },
        "outputId": "c944408a-3599-422b-95ae-37027c64af0f"
      },
      "source": [
        "soup = BeautifulSoup(web_page.content,'html.parser')\n",
        "print(soup.prettify())"
      ],
      "execution_count": 30,
      "outputs": [
        {
          "output_type": "stream",
          "text": [
            "<!DOCTYPE html>\n",
            "<html>\n",
            " <head>\n",
            "  Head Of The Page\n",
            " </head>\n",
            " <body>\n",
            "  <p>\n",
            "   First Paragraph\n",
            "  </p>\n",
            "  <p>\n",
            "   Second Paragraph\n",
            "  </p>\n",
            "  <p>\n",
            "   Third Paragraph\n",
            "  </p>\n",
            " </body>\n",
            "</html>\n"
          ],
          "name": "stdout"
        }
      ]
    },
    {
      "cell_type": "code",
      "metadata": {
        "id": "cJ9rLP_3I7oV",
        "colab_type": "code",
        "colab": {
          "base_uri": "https://localhost:8080/",
          "height": 35
        },
        "outputId": "00ca96f8-c4d6-4b36-c2eb-2302cbb05ac1"
      },
      "source": [
        "soup.find('p')  ### The first <p> tag of the page"
      ],
      "execution_count": 31,
      "outputs": [
        {
          "output_type": "execute_result",
          "data": {
            "text/plain": [
              "<p>First Paragraph</p>"
            ]
          },
          "metadata": {
            "tags": []
          },
          "execution_count": 31
        }
      ]
    },
    {
      "cell_type": "code",
      "metadata": {
        "id": "c1ohi3SyJPpa",
        "colab_type": "code",
        "colab": {}
      },
      "source": [
        "data = soup.find_all('p')  ### Find all the <p> tags of the page"
      ],
      "execution_count": 36,
      "outputs": []
    },
    {
      "cell_type": "code",
      "metadata": {
        "id": "ur-cZ1xdJXea",
        "colab_type": "code",
        "colab": {
          "base_uri": "https://localhost:8080/",
          "height": 72
        },
        "outputId": "12f4db8b-6c3c-4608-d1e2-9c22a0251037"
      },
      "source": [
        "for i in data:\n",
        "  print(i.get_text())"
      ],
      "execution_count": 37,
      "outputs": [
        {
          "output_type": "stream",
          "text": [
            "First Paragraph\n",
            "Second Paragraph\n",
            "Third Paragraph\n"
          ],
          "name": "stdout"
        }
      ]
    },
    {
      "cell_type": "code",
      "metadata": {
        "id": "NGlmSwJuJ5s4",
        "colab_type": "code",
        "colab": {
          "base_uri": "https://localhost:8080/",
          "height": 35
        },
        "outputId": "ebbc040e-3357-4cae-a69c-d9a978100bbb"
      },
      "source": [
        "soup.find_all('head')"
      ],
      "execution_count": 38,
      "outputs": [
        {
          "output_type": "execute_result",
          "data": {
            "text/plain": [
              "[<head>Head Of The Page</head>]"
            ]
          },
          "metadata": {
            "tags": []
          },
          "execution_count": 38
        }
      ]
    },
    {
      "cell_type": "code",
      "metadata": {
        "id": "rW3Yb0lsKaCe",
        "colab_type": "code",
        "colab": {
          "base_uri": "https://localhost:8080/",
          "height": 36
        },
        "outputId": "6346fed7-7dc1-40d8-861e-cee7c092d36f"
      },
      "source": [
        "soup.find_all('head')[0].get_text()"
      ],
      "execution_count": 39,
      "outputs": [
        {
          "output_type": "execute_result",
          "data": {
            "application/vnd.google.colaboratory.intrinsic+json": {
              "type": "string"
            },
            "text/plain": [
              "'Head Of The Page'"
            ]
          },
          "metadata": {
            "tags": []
          },
          "execution_count": 39
        }
      ]
    },
    {
      "cell_type": "markdown",
      "metadata": {
        "id": "bZQWgS5gKiUG",
        "colab_type": "text"
      },
      "source": [
        "**Searching the data by class and id**"
      ]
    },
    {
      "cell_type": "code",
      "metadata": {
        "id": "jgGiC29OKagi",
        "colab_type": "code",
        "colab": {
          "base_uri": "https://localhost:8080/",
          "height": 35
        },
        "outputId": "e8d42e1e-8075-439b-a177-86b12e6a65b3"
      },
      "source": [
        "url = \"http://15.206.143.222/webscrap/demo3.html\"\n",
        "web_page = requests.get(url)\n",
        "web_page"
      ],
      "execution_count": 40,
      "outputs": [
        {
          "output_type": "execute_result",
          "data": {
            "text/plain": [
              "<Response [200]>"
            ]
          },
          "metadata": {
            "tags": []
          },
          "execution_count": 40
        }
      ]
    },
    {
      "cell_type": "code",
      "metadata": {
        "id": "1eenGXYJN3Ci",
        "colab_type": "code",
        "colab": {
          "base_uri": "https://localhost:8080/",
          "height": 671
        },
        "outputId": "883a1161-fd53-4e4b-8337-c90763c6e1a4"
      },
      "source": [
        "soup = BeautifulSoup(web_page.content,'html.parser')\n",
        "print(soup.prettify())"
      ],
      "execution_count": 41,
      "outputs": [
        {
          "output_type": "stream",
          "text": [
            "<html>\n",
            " <head>\n",
            "  <title>\n",
            "   A simple page\n",
            "  </title>\n",
            " </head>\n",
            " <body>\n",
            "  <div>\n",
            "   <p class=\"inner-text first-item\" id=\"first\">\n",
            "    First paragraph.\n",
            "   </p>\n",
            "   <p class=\"inner-text\">\n",
            "    Second paragraph.\n",
            "   </p>\n",
            "  </div>\n",
            "  <p class=\"outer-text first-item\" id=\"second\">\n",
            "   <b>\n",
            "    First outer paragraph.\n",
            "   </b>\n",
            "  </p>\n",
            "  <p class=\"outer-text\">\n",
            "   <b>\n",
            "    Second outer paragraph.\n",
            "   </b>\n",
            "  </p>\n",
            "  <a href=\"http://www.google.com\" id=\"link1\">\n",
            "   Google\n",
            "  </a>\n",
            "  <a href=\"http://www.facebook.com\" id=\"link2\">\n",
            "   Facebook\n",
            "  </a>\n",
            "  <a href=\"http://www.instagram.com\" id=\"link3\">\n",
            "   Instagram\n",
            "  </a>\n",
            " </body>\n",
            "</html>\n"
          ],
          "name": "stdout"
        }
      ]
    },
    {
      "cell_type": "code",
      "metadata": {
        "id": "nkARfaJfN6rJ",
        "colab_type": "code",
        "colab": {
          "base_uri": "https://localhost:8080/",
          "height": 108
        },
        "outputId": "811ace90-624e-45fe-f2d3-6f0574cdc283"
      },
      "source": [
        "soup.find_all('p', class_='inner-text')  ### Search by class"
      ],
      "execution_count": 43,
      "outputs": [
        {
          "output_type": "execute_result",
          "data": {
            "text/plain": [
              "[<p class=\"inner-text first-item\" id=\"first\">\n",
              " First paragraph.\n",
              " </p>, <p class=\"inner-text\">\n",
              " Second paragraph.\n",
              " </p>]"
            ]
          },
          "metadata": {
            "tags": []
          },
          "execution_count": 43
        }
      ]
    },
    {
      "cell_type": "code",
      "metadata": {
        "id": "fjcx4SyMOiD7",
        "colab_type": "code",
        "colab": {
          "base_uri": "https://localhost:8080/",
          "height": 72
        },
        "outputId": "acecc18b-0ae5-44dc-e776-52ace2859b25"
      },
      "source": [
        "soup.find_all('p', class_='inner-text first-item')  ### Search by class"
      ],
      "execution_count": 44,
      "outputs": [
        {
          "output_type": "execute_result",
          "data": {
            "text/plain": [
              "[<p class=\"inner-text first-item\" id=\"first\">\n",
              " First paragraph.\n",
              " </p>]"
            ]
          },
          "metadata": {
            "tags": []
          },
          "execution_count": 44
        }
      ]
    },
    {
      "cell_type": "code",
      "metadata": {
        "id": "L_OuIerkOwah",
        "colab_type": "code",
        "colab": {
          "base_uri": "https://localhost:8080/",
          "height": 72
        },
        "outputId": "1ca84034-4fbf-4a86-994a-7adb8e977471"
      },
      "source": [
        "soup.find_all('p', id='first' )  ### Search by id"
      ],
      "execution_count": 45,
      "outputs": [
        {
          "output_type": "execute_result",
          "data": {
            "text/plain": [
              "[<p class=\"inner-text first-item\" id=\"first\">\n",
              " First paragraph.\n",
              " </p>]"
            ]
          },
          "metadata": {
            "tags": []
          },
          "execution_count": 45
        }
      ]
    },
    {
      "cell_type": "code",
      "metadata": {
        "id": "lYqMqJnXO5QL",
        "colab_type": "code",
        "colab": {
          "base_uri": "https://localhost:8080/",
          "height": 35
        },
        "outputId": "868a28ec-a753-44db-a465-b6f99e17e66b"
      },
      "source": [
        "data = soup.find_all('a',id='link1')\n",
        "data"
      ],
      "execution_count": 46,
      "outputs": [
        {
          "output_type": "execute_result",
          "data": {
            "text/plain": [
              "[<a href=\"http://www.google.com\" id=\"link1\">Google</a>]"
            ]
          },
          "metadata": {
            "tags": []
          },
          "execution_count": 46
        }
      ]
    },
    {
      "cell_type": "code",
      "metadata": {
        "id": "LuCjSNiGPy1M",
        "colab_type": "code",
        "colab": {
          "base_uri": "https://localhost:8080/",
          "height": 36
        },
        "outputId": "8fb16548-5c5f-4852-e572-81a85d0b7cb0"
      },
      "source": [
        "data[0].get('id')"
      ],
      "execution_count": 48,
      "outputs": [
        {
          "output_type": "execute_result",
          "data": {
            "application/vnd.google.colaboratory.intrinsic+json": {
              "type": "string"
            },
            "text/plain": [
              "'link1'"
            ]
          },
          "metadata": {
            "tags": []
          },
          "execution_count": 48
        }
      ]
    },
    {
      "cell_type": "code",
      "metadata": {
        "id": "KeZKc6cuP3QN",
        "colab_type": "code",
        "colab": {
          "base_uri": "https://localhost:8080/",
          "height": 36
        },
        "outputId": "8f84f93a-98dd-4b6f-d53c-5a6c05b37859"
      },
      "source": [
        "data[0].get('href')"
      ],
      "execution_count": 49,
      "outputs": [
        {
          "output_type": "execute_result",
          "data": {
            "application/vnd.google.colaboratory.intrinsic+json": {
              "type": "string"
            },
            "text/plain": [
              "'http://www.google.com'"
            ]
          },
          "metadata": {
            "tags": []
          },
          "execution_count": 49
        }
      ]
    },
    {
      "cell_type": "code",
      "metadata": {
        "id": "00FUprU-P8Yh",
        "colab_type": "code",
        "colab": {
          "base_uri": "https://localhost:8080/",
          "height": 253
        },
        "outputId": "8466c70b-9e8b-4033-d6fb-f879decaefb1"
      },
      "source": [
        "soup.select('p')"
      ],
      "execution_count": 50,
      "outputs": [
        {
          "output_type": "execute_result",
          "data": {
            "text/plain": [
              "[<p class=\"inner-text first-item\" id=\"first\">\n",
              " First paragraph.\n",
              " </p>, <p class=\"inner-text\">\n",
              " Second paragraph.\n",
              " </p>, <p class=\"outer-text first-item\" id=\"second\">\n",
              " <b>\n",
              " First outer paragraph.\n",
              " </b>\n",
              " </p>, <p class=\"outer-text\">\n",
              " <b>\n",
              " Second outer paragraph.\n",
              " </b>\n",
              " </p>]"
            ]
          },
          "metadata": {
            "tags": []
          },
          "execution_count": 50
        }
      ]
    },
    {
      "cell_type": "code",
      "metadata": {
        "id": "RjfJgCAKQ9WP",
        "colab_type": "code",
        "colab": {
          "base_uri": "https://localhost:8080/",
          "height": 108
        },
        "outputId": "032ff736-1001-4c45-9d44-7d51932c3f0d"
      },
      "source": [
        "soup.select('p.inner-text') ### Cannot search two classes at a time"
      ],
      "execution_count": 52,
      "outputs": [
        {
          "output_type": "execute_result",
          "data": {
            "text/plain": [
              "[<p class=\"inner-text first-item\" id=\"first\">\n",
              " First paragraph.\n",
              " </p>, <p class=\"inner-text\">\n",
              " Second paragraph.\n",
              " </p>]"
            ]
          },
          "metadata": {
            "tags": []
          },
          "execution_count": 52
        }
      ]
    },
    {
      "cell_type": "code",
      "metadata": {
        "id": "XfAsMDxtRD9S",
        "colab_type": "code",
        "colab": {
          "base_uri": "https://localhost:8080/",
          "height": 72
        },
        "outputId": "bb1905b5-9fd9-4c46-dd07-2ab1c85d1fd8"
      },
      "source": [
        "soup.select('p#first')"
      ],
      "execution_count": 53,
      "outputs": [
        {
          "output_type": "execute_result",
          "data": {
            "text/plain": [
              "[<p class=\"inner-text first-item\" id=\"first\">\n",
              " First paragraph.\n",
              " </p>]"
            ]
          },
          "metadata": {
            "tags": []
          },
          "execution_count": 53
        }
      ]
    },
    {
      "cell_type": "code",
      "metadata": {
        "id": "XpyQ6qMESOB6",
        "colab_type": "code",
        "colab": {
          "base_uri": "https://localhost:8080/",
          "height": 108
        },
        "outputId": "b1a0ac93-0c35-4639-88cb-8f6828963790"
      },
      "source": [
        "soup.select('p#second')"
      ],
      "execution_count": 55,
      "outputs": [
        {
          "output_type": "execute_result",
          "data": {
            "text/plain": [
              "[<p class=\"outer-text first-item\" id=\"second\">\n",
              " <b>\n",
              " First outer paragraph.\n",
              " </b>\n",
              " </p>]"
            ]
          },
          "metadata": {
            "tags": []
          },
          "execution_count": 55
        }
      ]
    },
    {
      "cell_type": "code",
      "metadata": {
        "id": "HZ0JFwKqRMHM",
        "colab_type": "code",
        "colab": {
          "base_uri": "https://localhost:8080/",
          "height": 72
        },
        "outputId": "95a19170-67b7-4f73-ea23-905de0e94790"
      },
      "source": [
        "soup.select('p#second b')    ### By using select, tag inside a tag can be searched"
      ],
      "execution_count": 54,
      "outputs": [
        {
          "output_type": "execute_result",
          "data": {
            "text/plain": [
              "[<b>\n",
              " First outer paragraph.\n",
              " </b>]"
            ]
          },
          "metadata": {
            "tags": []
          },
          "execution_count": 54
        }
      ]
    },
    {
      "cell_type": "code",
      "metadata": {
        "id": "DzTu4RG4SGHZ",
        "colab_type": "code",
        "colab": {
          "base_uri": "https://localhost:8080/",
          "height": 36
        },
        "outputId": "734f5d75-c2c6-40d5-eef9-638791eefd9f"
      },
      "source": [
        "soup.select('p#second b')[0].get_text().replace('\\n',\"\")"
      ],
      "execution_count": 56,
      "outputs": [
        {
          "output_type": "execute_result",
          "data": {
            "application/vnd.google.colaboratory.intrinsic+json": {
              "type": "string"
            },
            "text/plain": [
              "'First outer paragraph.'"
            ]
          },
          "metadata": {
            "tags": []
          },
          "execution_count": 56
        }
      ]
    },
    {
      "cell_type": "code",
      "metadata": {
        "id": "T7_HXCH0TFgG",
        "colab_type": "code",
        "colab": {}
      },
      "source": [
        ""
      ],
      "execution_count": null,
      "outputs": []
    }
  ]
}