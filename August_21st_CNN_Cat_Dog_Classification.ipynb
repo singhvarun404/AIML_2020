{
  "nbformat": 4,
  "nbformat_minor": 0,
  "metadata": {
    "colab": {
      "name": "August_21st_CNN_Cat_Dog_Classification.ipynb",
      "provenance": [],
      "authorship_tag": "ABX9TyODAAE+fKNTykuRkrJ+gjAC",
      "include_colab_link": true
    },
    "kernelspec": {
      "name": "python3",
      "display_name": "Python 3"
    },
    "accelerator": "GPU"
  },
  "cells": [
    {
      "cell_type": "markdown",
      "metadata": {
        "id": "view-in-github",
        "colab_type": "text"
      },
      "source": [
        "<a href=\"https://colab.research.google.com/github/singhvarun404/AIML_2020/blob/master/August_21st_CNN_Cat_Dog_Classification.ipynb\" target=\"_parent\"><img src=\"https://colab.research.google.com/assets/colab-badge.svg\" alt=\"Open In Colab\"/></a>"
      ]
    },
    {
      "cell_type": "code",
      "metadata": {
        "id": "7Ork-R1gG2o6",
        "colab_type": "code",
        "colab": {
          "base_uri": "https://localhost:8080/",
          "height": 53
        },
        "outputId": "4ea972f1-504b-410a-df0e-efd4a0eebd15"
      },
      "source": [
        "date = 21\n",
        "topic = \"CNN Cat and Dog Classification\"\n",
        "print(\"Date: August {}\\nTopic: {}\".format(date,topic))"
      ],
      "execution_count": 1,
      "outputs": [
        {
          "output_type": "stream",
          "text": [
            "Date: August 21\n",
            "Topic: CNN Cat and Dog Classification\n"
          ],
          "name": "stdout"
        }
      ]
    },
    {
      "cell_type": "code",
      "metadata": {
        "id": "1WCO0XNxHTFk",
        "colab_type": "code",
        "colab": {
          "base_uri": "https://localhost:8080/",
          "height": 128
        },
        "outputId": "f8382d21-3f26-4a80-c261-c56c946615d1"
      },
      "source": [
        "### Getting access to google drive data into google colab\n",
        "from google.colab import drive\n",
        "drive.mount('/content/drive')"
      ],
      "execution_count": 2,
      "outputs": [
        {
          "output_type": "stream",
          "text": [
            "Go to this URL in a browser: https://accounts.google.com/o/oauth2/auth?client_id=947318989803-6bn6qk8qdgf4n4g3pfee6491hc0brc4i.apps.googleusercontent.com&redirect_uri=urn%3aietf%3awg%3aoauth%3a2.0%3aoob&scope=email%20https%3a%2f%2fwww.googleapis.com%2fauth%2fdocs.test%20https%3a%2f%2fwww.googleapis.com%2fauth%2fdrive%20https%3a%2f%2fwww.googleapis.com%2fauth%2fdrive.photos.readonly%20https%3a%2f%2fwww.googleapis.com%2fauth%2fpeopleapi.readonly&response_type=code\n",
            "\n",
            "Enter your authorization code:\n",
            "··········\n",
            "Mounted at /content/drive\n"
          ],
          "name": "stdout"
        }
      ]
    },
    {
      "cell_type": "code",
      "metadata": {
        "id": "erswuiFkLF4g",
        "colab_type": "code",
        "colab": {
          "base_uri": "https://localhost:8080/",
          "height": 35
        },
        "outputId": "f34c8c02-52e7-4ed0-ec26-8b05784d9060"
      },
      "source": [
        "### For extracting the zip file\n",
        "from zipfile import ZipFile\n",
        "file_name = \"/content/drive/My Drive/dataset_new.zip\"\n",
        "with ZipFile(file_name,'r') as zip:\n",
        "  zip.extractall()\n",
        "  print('Finished unzipping')"
      ],
      "execution_count": 3,
      "outputs": [
        {
          "output_type": "stream",
          "text": [
            "Finished unzipping\n"
          ],
          "name": "stdout"
        }
      ]
    },
    {
      "cell_type": "code",
      "metadata": {
        "id": "6uSE_effMQXj",
        "colab_type": "code",
        "colab": {}
      },
      "source": [
        "### Importing the libraries\n",
        "from tensorflow.keras.models import Sequential\n",
        "from tensorflow.keras.layers import Conv2D\n",
        "from tensorflow.keras.layers import MaxPooling2D\n",
        "from tensorflow.keras.layers import Flatten\n",
        "from tensorflow.keras.layers import Dense"
      ],
      "execution_count": 4,
      "outputs": []
    },
    {
      "cell_type": "markdown",
      "metadata": {
        "id": "AKAeFUToQRHw",
        "colab_type": "text"
      },
      "source": [
        "**Creating and compiling the model**"
      ]
    },
    {
      "cell_type": "code",
      "metadata": {
        "id": "_84kpHtqNHXV",
        "colab_type": "code",
        "colab": {}
      },
      "source": [
        "### Creating the model\n",
        "CNN_model = Sequential();\n",
        "\n",
        "### Step 1: Convolution\n",
        "CNN_model.add(Conv2D(64,(3,3),input_shape=(64,64,3),activation='relu'))  ### 64 no of filters\n",
        "\n",
        "### Step 2: Pooling(max)\n",
        "CNN_model.add(MaxPooling2D(pool_size=(2,2)))\n",
        "\n",
        "### Step 1: Convolution\n",
        "CNN_model.add(Conv2D(128,(3,3),activation='relu'))  ### 128 no of filters(for better acc should be greater than 1st layer)\n",
        "\n",
        "### Step 2: Pooling(max)\n",
        "CNN_model.add(MaxPooling2D(pool_size=(2,2)))\n",
        "\n",
        "### Step 3: Flattening\n",
        "CNN_model.add(Flatten())\n",
        "\n",
        "### Step 4: Full Connection\n",
        "CNN_model.add(Dense(128, activation='relu'))  ### --->Hidden Layer\n",
        "CNN_model.add(Dense(1,activation='sigmoid'))  ### --->Output Layer"
      ],
      "execution_count": 5,
      "outputs": []
    },
    {
      "cell_type": "code",
      "metadata": {
        "id": "TcdS1dKHOBHt",
        "colab_type": "code",
        "colab": {}
      },
      "source": [
        "### Compiling the model\n",
        "CNN_model.compile(optimizer ='adam',loss='binary_crossentropy',metrics=['accuracy'])"
      ],
      "execution_count": 6,
      "outputs": []
    },
    {
      "cell_type": "markdown",
      "metadata": {
        "id": "8JkRv1SEQVV_",
        "colab_type": "text"
      },
      "source": [
        "**Pre-processing the image data**"
      ]
    },
    {
      "cell_type": "code",
      "metadata": {
        "id": "d-yf4fxQPUGk",
        "colab_type": "code",
        "colab": {}
      },
      "source": [
        "from keras.preprocessing.image import ImageDataGenerator\n",
        "\n",
        "train_datagen = ImageDataGenerator(rescale = 1./255,\n",
        "                                   shear_range = 0.2,\n",
        "                                   zoom_range = 0.2,\n",
        "                                   horizontal_flip = True)\n",
        "test_datagen = ImageDataGenerator(rescale = 1./255,\n",
        "                                  shear_range = 0.2,\n",
        "                                   zoom_range = 0.2,\n",
        "                                   horizontal_flip = True)"
      ],
      "execution_count": 7,
      "outputs": []
    },
    {
      "cell_type": "code",
      "metadata": {
        "id": "-r2YPkUZPV4d",
        "colab_type": "code",
        "colab": {
          "base_uri": "https://localhost:8080/",
          "height": 35
        },
        "outputId": "689d3ce5-fe35-4366-8641-551c42db6c0d"
      },
      "source": [
        "training_set = train_datagen.flow_from_directory('/content/dataset_new/training_set',\n",
        "                                                 target_size = (64, 64),\n",
        "                                                 batch_size = 32,\n",
        "                                                 class_mode = 'binary')"
      ],
      "execution_count": 8,
      "outputs": [
        {
          "output_type": "stream",
          "text": [
            "Found 2000 images belonging to 2 classes.\n"
          ],
          "name": "stdout"
        }
      ]
    },
    {
      "cell_type": "code",
      "metadata": {
        "id": "xvvo4rzNSTBk",
        "colab_type": "code",
        "colab": {
          "base_uri": "https://localhost:8080/",
          "height": 35
        },
        "outputId": "23fa35f2-2662-46bf-c95d-d378f8ff9565"
      },
      "source": [
        "test_set = test_datagen.flow_from_directory('/content/dataset_new/test_set',\n",
        "                                            target_size = (64, 64),\n",
        "                                            batch_size = 32,\n",
        "                                            class_mode = 'binary')"
      ],
      "execution_count": 9,
      "outputs": [
        {
          "output_type": "stream",
          "text": [
            "Found 500 images belonging to 2 classes.\n"
          ],
          "name": "stdout"
        }
      ]
    },
    {
      "cell_type": "markdown",
      "metadata": {
        "id": "_z6Qze-gSbKN",
        "colab_type": "text"
      },
      "source": [
        "**Training and Testing the model**"
      ]
    },
    {
      "cell_type": "code",
      "metadata": {
        "id": "Ti5r0mJbSZbh",
        "colab_type": "code",
        "colab": {
          "base_uri": "https://localhost:8080/",
          "height": 1000
        },
        "outputId": "c7633efa-5ded-432d-f69c-400698b9dabb"
      },
      "source": [
        "### Training and Testing the data at the sametime\n",
        "CNN_model.fit_generator(training_set,\n",
        "                         steps_per_epoch = 60,\n",
        "                         epochs = 100,\n",
        "                         validation_data = test_set,\n",
        "                         validation_steps = 15)"
      ],
      "execution_count": 10,
      "outputs": [
        {
          "output_type": "stream",
          "text": [
            "WARNING:tensorflow:From <ipython-input-10-8f8beaac86f5>:6: Model.fit_generator (from tensorflow.python.keras.engine.training) is deprecated and will be removed in a future version.\n",
            "Instructions for updating:\n",
            "Please use Model.fit, which supports generators.\n",
            "Epoch 1/100\n",
            "60/60 [==============================] - 9s 145ms/step - loss: 0.7036 - accuracy: 0.4974 - val_loss: 0.6974 - val_accuracy: 0.5063\n",
            "Epoch 2/100\n",
            "60/60 [==============================] - 9s 144ms/step - loss: 0.6938 - accuracy: 0.5310 - val_loss: 0.6812 - val_accuracy: 0.5354\n",
            "Epoch 3/100\n",
            "60/60 [==============================] - 9s 145ms/step - loss: 0.6759 - accuracy: 0.5657 - val_loss: 0.6501 - val_accuracy: 0.6313\n",
            "Epoch 4/100\n",
            "60/60 [==============================] - 9s 144ms/step - loss: 0.6297 - accuracy: 0.6429 - val_loss: 0.6664 - val_accuracy: 0.5750\n",
            "Epoch 5/100\n",
            "60/60 [==============================] - 9s 143ms/step - loss: 0.6271 - accuracy: 0.6439 - val_loss: 0.6150 - val_accuracy: 0.6854\n",
            "Epoch 6/100\n",
            "60/60 [==============================] - 9s 142ms/step - loss: 0.5962 - accuracy: 0.6886 - val_loss: 0.5854 - val_accuracy: 0.7021\n",
            "Epoch 7/100\n",
            "60/60 [==============================] - 9s 143ms/step - loss: 0.5863 - accuracy: 0.6854 - val_loss: 0.5915 - val_accuracy: 0.7000\n",
            "Epoch 8/100\n",
            "60/60 [==============================] - 9s 143ms/step - loss: 0.5519 - accuracy: 0.7243 - val_loss: 0.5747 - val_accuracy: 0.7021\n",
            "Epoch 9/100\n",
            "60/60 [==============================] - 9s 145ms/step - loss: 0.5478 - accuracy: 0.7274 - val_loss: 0.5653 - val_accuracy: 0.7125\n",
            "Epoch 10/100\n",
            "60/60 [==============================] - 9s 147ms/step - loss: 0.5282 - accuracy: 0.7421 - val_loss: 0.5812 - val_accuracy: 0.7042\n",
            "Epoch 11/100\n",
            "60/60 [==============================] - 9s 146ms/step - loss: 0.5197 - accuracy: 0.7495 - val_loss: 0.5601 - val_accuracy: 0.7063\n",
            "Epoch 12/100\n",
            "60/60 [==============================] - 9s 143ms/step - loss: 0.4932 - accuracy: 0.7574 - val_loss: 0.5367 - val_accuracy: 0.7437\n",
            "Epoch 13/100\n",
            "60/60 [==============================] - 9s 143ms/step - loss: 0.4747 - accuracy: 0.7768 - val_loss: 0.5522 - val_accuracy: 0.7271\n",
            "Epoch 14/100\n",
            "60/60 [==============================] - 8s 142ms/step - loss: 0.4594 - accuracy: 0.7836 - val_loss: 0.5336 - val_accuracy: 0.7396\n",
            "Epoch 15/100\n",
            "60/60 [==============================] - 9s 145ms/step - loss: 0.4500 - accuracy: 0.7868 - val_loss: 0.6228 - val_accuracy: 0.7333\n",
            "Epoch 16/100\n",
            "60/60 [==============================] - 9s 146ms/step - loss: 0.4205 - accuracy: 0.8078 - val_loss: 0.5271 - val_accuracy: 0.7479\n",
            "Epoch 17/100\n",
            "60/60 [==============================] - 9s 144ms/step - loss: 0.4208 - accuracy: 0.8046 - val_loss: 0.5378 - val_accuracy: 0.7521\n",
            "Epoch 18/100\n",
            "60/60 [==============================] - 9s 144ms/step - loss: 0.4029 - accuracy: 0.8209 - val_loss: 0.5197 - val_accuracy: 0.7312\n",
            "Epoch 19/100\n",
            "60/60 [==============================] - 9s 145ms/step - loss: 0.3763 - accuracy: 0.8346 - val_loss: 0.5252 - val_accuracy: 0.7771\n",
            "Epoch 20/100\n",
            "60/60 [==============================] - 9s 144ms/step - loss: 0.3643 - accuracy: 0.8304 - val_loss: 0.5497 - val_accuracy: 0.7729\n",
            "Epoch 21/100\n",
            "60/60 [==============================] - 8s 140ms/step - loss: 0.3409 - accuracy: 0.8519 - val_loss: 0.5786 - val_accuracy: 0.7354\n",
            "Epoch 22/100\n",
            "60/60 [==============================] - 8s 140ms/step - loss: 0.3318 - accuracy: 0.8550 - val_loss: 0.5713 - val_accuracy: 0.7333\n",
            "Epoch 23/100\n",
            "60/60 [==============================] - 8s 139ms/step - loss: 0.3172 - accuracy: 0.8582 - val_loss: 0.5812 - val_accuracy: 0.7479\n",
            "Epoch 24/100\n",
            "60/60 [==============================] - 8s 139ms/step - loss: 0.3116 - accuracy: 0.8640 - val_loss: 0.5861 - val_accuracy: 0.7437\n",
            "Epoch 25/100\n",
            "60/60 [==============================] - 8s 139ms/step - loss: 0.2807 - accuracy: 0.8854 - val_loss: 0.5915 - val_accuracy: 0.7708\n",
            "Epoch 26/100\n",
            "60/60 [==============================] - 8s 139ms/step - loss: 0.2751 - accuracy: 0.8855 - val_loss: 0.6313 - val_accuracy: 0.7479\n",
            "Epoch 27/100\n",
            "60/60 [==============================] - 8s 141ms/step - loss: 0.2710 - accuracy: 0.8902 - val_loss: 0.6268 - val_accuracy: 0.7292\n",
            "Epoch 28/100\n",
            "60/60 [==============================] - 8s 139ms/step - loss: 0.2437 - accuracy: 0.8955 - val_loss: 0.5729 - val_accuracy: 0.7542\n",
            "Epoch 29/100\n",
            "60/60 [==============================] - 8s 139ms/step - loss: 0.1981 - accuracy: 0.9265 - val_loss: 0.7040 - val_accuracy: 0.7479\n",
            "Epoch 30/100\n",
            "60/60 [==============================] - 8s 139ms/step - loss: 0.1967 - accuracy: 0.9280 - val_loss: 0.6426 - val_accuracy: 0.7667\n",
            "Epoch 31/100\n",
            "60/60 [==============================] - 8s 140ms/step - loss: 0.1946 - accuracy: 0.9217 - val_loss: 0.7183 - val_accuracy: 0.7500\n",
            "Epoch 32/100\n",
            "60/60 [==============================] - 8s 139ms/step - loss: 0.1988 - accuracy: 0.9139 - val_loss: 0.7160 - val_accuracy: 0.7437\n",
            "Epoch 33/100\n",
            "60/60 [==============================] - 8s 139ms/step - loss: 0.1965 - accuracy: 0.9228 - val_loss: 0.6274 - val_accuracy: 0.7583\n",
            "Epoch 34/100\n",
            "60/60 [==============================] - 8s 140ms/step - loss: 0.1803 - accuracy: 0.9286 - val_loss: 0.7263 - val_accuracy: 0.7542\n",
            "Epoch 35/100\n",
            "60/60 [==============================] - 8s 138ms/step - loss: 0.1671 - accuracy: 0.9317 - val_loss: 0.7256 - val_accuracy: 0.7583\n",
            "Epoch 36/100\n",
            "60/60 [==============================] - 8s 139ms/step - loss: 0.1477 - accuracy: 0.9454 - val_loss: 0.6873 - val_accuracy: 0.7417\n",
            "Epoch 37/100\n",
            "60/60 [==============================] - 8s 140ms/step - loss: 0.1337 - accuracy: 0.9438 - val_loss: 0.7724 - val_accuracy: 0.7583\n",
            "Epoch 38/100\n",
            "60/60 [==============================] - 8s 140ms/step - loss: 0.1323 - accuracy: 0.9459 - val_loss: 0.7131 - val_accuracy: 0.7417\n",
            "Epoch 39/100\n",
            "60/60 [==============================] - 8s 138ms/step - loss: 0.1297 - accuracy: 0.9522 - val_loss: 0.7960 - val_accuracy: 0.7479\n",
            "Epoch 40/100\n",
            "60/60 [==============================] - 9s 150ms/step - loss: 0.1444 - accuracy: 0.9422 - val_loss: 0.8436 - val_accuracy: 0.7417\n",
            "Epoch 41/100\n",
            "60/60 [==============================] - 8s 140ms/step - loss: 0.0894 - accuracy: 0.9716 - val_loss: 0.8799 - val_accuracy: 0.7500\n",
            "Epoch 42/100\n",
            "60/60 [==============================] - 8s 139ms/step - loss: 0.0829 - accuracy: 0.9722 - val_loss: 0.9099 - val_accuracy: 0.7396\n",
            "Epoch 43/100\n",
            "60/60 [==============================] - 8s 139ms/step - loss: 0.1032 - accuracy: 0.9622 - val_loss: 0.8054 - val_accuracy: 0.7542\n",
            "Epoch 44/100\n",
            "60/60 [==============================] - 8s 141ms/step - loss: 0.1077 - accuracy: 0.9632 - val_loss: 0.8425 - val_accuracy: 0.7479\n",
            "Epoch 45/100\n",
            "60/60 [==============================] - 8s 141ms/step - loss: 0.0825 - accuracy: 0.9732 - val_loss: 0.8759 - val_accuracy: 0.7563\n",
            "Epoch 46/100\n",
            "60/60 [==============================] - 8s 140ms/step - loss: 0.0646 - accuracy: 0.9764 - val_loss: 0.9326 - val_accuracy: 0.7333\n",
            "Epoch 47/100\n",
            "60/60 [==============================] - 8s 142ms/step - loss: 0.0674 - accuracy: 0.9800 - val_loss: 0.9300 - val_accuracy: 0.7417\n",
            "Epoch 48/100\n",
            "60/60 [==============================] - 8s 140ms/step - loss: 0.0837 - accuracy: 0.9727 - val_loss: 0.9319 - val_accuracy: 0.7437\n",
            "Epoch 49/100\n",
            "60/60 [==============================] - 8s 140ms/step - loss: 0.0604 - accuracy: 0.9806 - val_loss: 0.9658 - val_accuracy: 0.7500\n",
            "Epoch 50/100\n",
            "60/60 [==============================] - 8s 139ms/step - loss: 0.0718 - accuracy: 0.9716 - val_loss: 1.0317 - val_accuracy: 0.7312\n",
            "Epoch 51/100\n",
            "60/60 [==============================] - 8s 139ms/step - loss: 0.0834 - accuracy: 0.9716 - val_loss: 0.9604 - val_accuracy: 0.7375\n",
            "Epoch 52/100\n",
            "60/60 [==============================] - 8s 139ms/step - loss: 0.0851 - accuracy: 0.9716 - val_loss: 1.0507 - val_accuracy: 0.7521\n",
            "Epoch 53/100\n",
            "60/60 [==============================] - 8s 139ms/step - loss: 0.0801 - accuracy: 0.9732 - val_loss: 0.9705 - val_accuracy: 0.7333\n",
            "Epoch 54/100\n",
            "60/60 [==============================] - 8s 138ms/step - loss: 0.0573 - accuracy: 0.9827 - val_loss: 1.0058 - val_accuracy: 0.7333\n",
            "Epoch 55/100\n",
            "60/60 [==============================] - 8s 140ms/step - loss: 0.0654 - accuracy: 0.9774 - val_loss: 1.0083 - val_accuracy: 0.7354\n",
            "Epoch 56/100\n",
            "60/60 [==============================] - 9s 143ms/step - loss: 0.0603 - accuracy: 0.9779 - val_loss: 1.0508 - val_accuracy: 0.7229\n",
            "Epoch 57/100\n",
            "60/60 [==============================] - 8s 138ms/step - loss: 0.0544 - accuracy: 0.9837 - val_loss: 1.0200 - val_accuracy: 0.7521\n",
            "Epoch 58/100\n",
            "60/60 [==============================] - 8s 138ms/step - loss: 0.0523 - accuracy: 0.9821 - val_loss: 1.0740 - val_accuracy: 0.7542\n",
            "Epoch 59/100\n",
            "60/60 [==============================] - 8s 138ms/step - loss: 0.0330 - accuracy: 0.9895 - val_loss: 1.1066 - val_accuracy: 0.7312\n",
            "Epoch 60/100\n",
            "60/60 [==============================] - 8s 138ms/step - loss: 0.0371 - accuracy: 0.9884 - val_loss: 1.1925 - val_accuracy: 0.7375\n",
            "Epoch 61/100\n",
            "60/60 [==============================] - 8s 138ms/step - loss: 0.0502 - accuracy: 0.9806 - val_loss: 1.1989 - val_accuracy: 0.7500\n",
            "Epoch 62/100\n",
            "60/60 [==============================] - 8s 138ms/step - loss: 0.0613 - accuracy: 0.9790 - val_loss: 0.9536 - val_accuracy: 0.7500\n",
            "Epoch 63/100\n",
            "60/60 [==============================] - 8s 138ms/step - loss: 0.0379 - accuracy: 0.9901 - val_loss: 1.0358 - val_accuracy: 0.7625\n",
            "Epoch 64/100\n",
            "60/60 [==============================] - 8s 138ms/step - loss: 0.0416 - accuracy: 0.9848 - val_loss: 1.0629 - val_accuracy: 0.7563\n",
            "Epoch 65/100\n",
            "60/60 [==============================] - 8s 140ms/step - loss: 0.0360 - accuracy: 0.9891 - val_loss: 1.0283 - val_accuracy: 0.7521\n",
            "Epoch 66/100\n",
            "60/60 [==============================] - 8s 140ms/step - loss: 0.0506 - accuracy: 0.9806 - val_loss: 1.1560 - val_accuracy: 0.7312\n",
            "Epoch 67/100\n",
            "60/60 [==============================] - 8s 138ms/step - loss: 0.0498 - accuracy: 0.9848 - val_loss: 1.2005 - val_accuracy: 0.7417\n",
            "Epoch 68/100\n",
            "60/60 [==============================] - 8s 139ms/step - loss: 0.0450 - accuracy: 0.9828 - val_loss: 1.1462 - val_accuracy: 0.7354\n",
            "Epoch 69/100\n",
            "60/60 [==============================] - 8s 137ms/step - loss: 0.0352 - accuracy: 0.9890 - val_loss: 1.1285 - val_accuracy: 0.7104\n",
            "Epoch 70/100\n",
            "60/60 [==============================] - 8s 139ms/step - loss: 0.0254 - accuracy: 0.9921 - val_loss: 1.1003 - val_accuracy: 0.7667\n",
            "Epoch 71/100\n",
            "60/60 [==============================] - 8s 139ms/step - loss: 0.0529 - accuracy: 0.9816 - val_loss: 1.1021 - val_accuracy: 0.7437\n",
            "Epoch 72/100\n",
            "60/60 [==============================] - 8s 138ms/step - loss: 0.0656 - accuracy: 0.9764 - val_loss: 1.1631 - val_accuracy: 0.7521\n",
            "Epoch 73/100\n",
            "60/60 [==============================] - 8s 140ms/step - loss: 0.0462 - accuracy: 0.9879 - val_loss: 0.9766 - val_accuracy: 0.7646\n",
            "Epoch 74/100\n",
            "60/60 [==============================] - 8s 140ms/step - loss: 0.0319 - accuracy: 0.9905 - val_loss: 1.1457 - val_accuracy: 0.7500\n",
            "Epoch 75/100\n",
            "60/60 [==============================] - 8s 141ms/step - loss: 0.0294 - accuracy: 0.9895 - val_loss: 1.2668 - val_accuracy: 0.7542\n",
            "Epoch 76/100\n",
            "60/60 [==============================] - 8s 140ms/step - loss: 0.0444 - accuracy: 0.9827 - val_loss: 1.1557 - val_accuracy: 0.7396\n",
            "Epoch 77/100\n",
            "60/60 [==============================] - 8s 140ms/step - loss: 0.0252 - accuracy: 0.9916 - val_loss: 1.2177 - val_accuracy: 0.7417\n",
            "Epoch 78/100\n",
            "60/60 [==============================] - 8s 140ms/step - loss: 0.0323 - accuracy: 0.9895 - val_loss: 1.1034 - val_accuracy: 0.7688\n",
            "Epoch 79/100\n",
            "60/60 [==============================] - 8s 141ms/step - loss: 0.0510 - accuracy: 0.9863 - val_loss: 1.0759 - val_accuracy: 0.7646\n",
            "Epoch 80/100\n",
            "60/60 [==============================] - 8s 141ms/step - loss: 0.0202 - accuracy: 0.9937 - val_loss: 1.2243 - val_accuracy: 0.7312\n",
            "Epoch 81/100\n",
            "60/60 [==============================] - 8s 140ms/step - loss: 0.0219 - accuracy: 0.9926 - val_loss: 1.2315 - val_accuracy: 0.7375\n",
            "Epoch 82/100\n",
            "60/60 [==============================] - 9s 142ms/step - loss: 0.0405 - accuracy: 0.9869 - val_loss: 1.3731 - val_accuracy: 0.7312\n",
            "Epoch 83/100\n",
            "60/60 [==============================] - 8s 141ms/step - loss: 0.0449 - accuracy: 0.9875 - val_loss: 1.3868 - val_accuracy: 0.7417\n",
            "Epoch 84/100\n",
            "60/60 [==============================] - 8s 141ms/step - loss: 0.0319 - accuracy: 0.9900 - val_loss: 1.2833 - val_accuracy: 0.7437\n",
            "Epoch 85/100\n",
            "60/60 [==============================] - 8s 142ms/step - loss: 0.0210 - accuracy: 0.9942 - val_loss: 1.4549 - val_accuracy: 0.7521\n",
            "Epoch 86/100\n",
            "60/60 [==============================] - 8s 141ms/step - loss: 0.0166 - accuracy: 0.9947 - val_loss: 1.1975 - val_accuracy: 0.7896\n",
            "Epoch 87/100\n",
            "60/60 [==============================] - 8s 139ms/step - loss: 0.0248 - accuracy: 0.9926 - val_loss: 1.3890 - val_accuracy: 0.7563\n",
            "Epoch 88/100\n",
            "60/60 [==============================] - 8s 140ms/step - loss: 0.0236 - accuracy: 0.9932 - val_loss: 1.3270 - val_accuracy: 0.7458\n",
            "Epoch 89/100\n",
            "60/60 [==============================] - 8s 140ms/step - loss: 0.0369 - accuracy: 0.9926 - val_loss: 1.3876 - val_accuracy: 0.7271\n",
            "Epoch 90/100\n",
            "60/60 [==============================] - 8s 140ms/step - loss: 0.0303 - accuracy: 0.9905 - val_loss: 1.3198 - val_accuracy: 0.7458\n",
            "Epoch 91/100\n",
            "60/60 [==============================] - 9s 142ms/step - loss: 0.0296 - accuracy: 0.9890 - val_loss: 1.3068 - val_accuracy: 0.7229\n",
            "Epoch 92/100\n",
            "60/60 [==============================] - 9s 143ms/step - loss: 0.0239 - accuracy: 0.9916 - val_loss: 1.2470 - val_accuracy: 0.7521\n",
            "Epoch 93/100\n",
            "60/60 [==============================] - 8s 142ms/step - loss: 0.0174 - accuracy: 0.9958 - val_loss: 1.2906 - val_accuracy: 0.7417\n",
            "Epoch 94/100\n",
            "60/60 [==============================] - 8s 141ms/step - loss: 0.0132 - accuracy: 0.9974 - val_loss: 1.3039 - val_accuracy: 0.7500\n",
            "Epoch 95/100\n",
            "60/60 [==============================] - 9s 142ms/step - loss: 0.0106 - accuracy: 0.9968 - val_loss: 1.5325 - val_accuracy: 0.7333\n",
            "Epoch 96/100\n",
            "60/60 [==============================] - 8s 140ms/step - loss: 0.0127 - accuracy: 0.9963 - val_loss: 1.4952 - val_accuracy: 0.7563\n",
            "Epoch 97/100\n",
            "60/60 [==============================] - 8s 140ms/step - loss: 0.0088 - accuracy: 0.9968 - val_loss: 1.3981 - val_accuracy: 0.7500\n",
            "Epoch 98/100\n",
            "60/60 [==============================] - 8s 140ms/step - loss: 0.0329 - accuracy: 0.9890 - val_loss: 1.4853 - val_accuracy: 0.7271\n",
            "Epoch 99/100\n",
            "60/60 [==============================] - 8s 140ms/step - loss: 0.0358 - accuracy: 0.9879 - val_loss: 1.4512 - val_accuracy: 0.7354\n",
            "Epoch 100/100\n",
            "60/60 [==============================] - 8s 140ms/step - loss: 0.0254 - accuracy: 0.9942 - val_loss: 1.4743 - val_accuracy: 0.7437\n"
          ],
          "name": "stdout"
        },
        {
          "output_type": "execute_result",
          "data": {
            "text/plain": [
              "<tensorflow.python.keras.callbacks.History at 0x7f313a3a0550>"
            ]
          },
          "metadata": {
            "tags": []
          },
          "execution_count": 10
        }
      ]
    },
    {
      "cell_type": "markdown",
      "metadata": {
        "id": "KVdy3UNib4Na",
        "colab_type": "text"
      },
      "source": [
        "**Saving the model to drive**"
      ]
    },
    {
      "cell_type": "code",
      "metadata": {
        "id": "6-X9Ui23TrSh",
        "colab_type": "code",
        "colab": {}
      },
      "source": [
        "CNN_model.save(\"/content/drive/My Drive/cnn_cat_dog.model\")"
      ],
      "execution_count": null,
      "outputs": []
    },
    {
      "cell_type": "markdown",
      "metadata": {
        "id": "cMc6XDX6cAF4",
        "colab_type": "text"
      },
      "source": [
        "**Predicting on random downloaded images**"
      ]
    },
    {
      "cell_type": "code",
      "metadata": {
        "id": "D1Fmt39na7as",
        "colab_type": "code",
        "colab": {}
      },
      "source": [
        "import tensorflow.keras as tf\n",
        "mymodel = tf.models.load_model('/content/drive/My Drive/cnn_cat_dog.model')\n",
        "import numpy as np\n",
        "from keras.preprocessing import image \n"
      ],
      "execution_count": null,
      "outputs": []
    },
    {
      "cell_type": "code",
      "metadata": {
        "id": "KxFL14rfbdIG",
        "colab_type": "code",
        "colab": {
          "base_uri": "https://localhost:8080/",
          "height": 35
        },
        "outputId": "5a509da5-ad50-4bc0-a510-9bc897e7c36c"
      },
      "source": [
        "test_image = image.load_img('dog3.jfif',target_size=(64,64)) \n",
        "test_image = image.img_to_array(test_image)\n",
        "test_image = np.expand_dims(test_image,axis=0)   ### 1-d array\n",
        "result = mymodel.predict(test_image)\n",
        "if result[0][0] == 1:\n",
        "  prediction = 'dog'\n",
        "  print(prediction)\n",
        "else:\n",
        "  prediction = 'cat'\n",
        "  print(prediction)"
      ],
      "execution_count": 20,
      "outputs": [
        {
          "output_type": "stream",
          "text": [
            "dog\n"
          ],
          "name": "stdout"
        }
      ]
    }
  ]
}