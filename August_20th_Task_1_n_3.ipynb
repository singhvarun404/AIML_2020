{
  "nbformat": 4,
  "nbformat_minor": 0,
  "metadata": {
    "colab": {
      "name": "August_20th_Task_1_n_3.ipynb",
      "provenance": [],
      "authorship_tag": "ABX9TyO2vokgkg/j7uX+fVfwsNWQ",
      "include_colab_link": true
    },
    "kernelspec": {
      "name": "python3",
      "display_name": "Python 3"
    }
  },
  "cells": [
    {
      "cell_type": "markdown",
      "metadata": {
        "id": "view-in-github",
        "colab_type": "text"
      },
      "source": [
        "<a href=\"https://colab.research.google.com/github/singhvarun404/AIML_2020/blob/master/August_20th_Task_1_n_3.ipynb\" target=\"_parent\"><img src=\"https://colab.research.google.com/assets/colab-badge.svg\" alt=\"Open In Colab\"/></a>"
      ]
    },
    {
      "cell_type": "code",
      "metadata": {
        "id": "dboCpr-dgE1L",
        "colab_type": "code",
        "colab": {}
      },
      "source": [
        "import matplotlib.pyplot as plt\n",
        "import tensorflow.keras as tf\n",
        "import numpy as np\n",
        "import cv2"
      ],
      "execution_count": 1,
      "outputs": []
    },
    {
      "cell_type": "code",
      "metadata": {
        "id": "mr7GJA_ZgoS5",
        "colab_type": "code",
        "colab": {
          "base_uri": "https://localhost:8080/",
          "height": 53
        },
        "outputId": "7bb069ae-a610-45dc-a07b-b9db761c113e"
      },
      "source": [
        "mnist = tf.datasets.mnist\n",
        "(x_train,y_train),(x_test,y_test) = mnist.load_data() "
      ],
      "execution_count": 2,
      "outputs": [
        {
          "output_type": "stream",
          "text": [
            "Downloading data from https://storage.googleapis.com/tensorflow/tf-keras-datasets/mnist.npz\n",
            "11493376/11490434 [==============================] - 0s 0us/step\n"
          ],
          "name": "stdout"
        }
      ]
    },
    {
      "cell_type": "markdown",
      "metadata": {
        "id": "TfpeDnnvYWoM",
        "colab_type": "text"
      },
      "source": [
        "**Creating the model**"
      ]
    },
    {
      "cell_type": "code",
      "metadata": {
        "id": "GIeum12JgtY1",
        "colab_type": "code",
        "colab": {}
      },
      "source": [
        "### Creating the model\n",
        "model = tf.models.Sequential()\n",
        "\n",
        "### Adding layers to nn\n",
        "model.add(tf.layers.Flatten())   ###--->Input layer\n",
        "model.add(tf.layers.Dense(784,activation = 'relu'))  ###--->Hidden layer\n",
        "model.add(tf.layers.Dense(10,activation = 'softmax')) ###--->Output layer\n",
        "\n",
        "### Compile the model\n",
        "model.compile(loss = 'sparse_categorical_crossentropy', optimizer = 'adam', metrics = ['accuracy'])"
      ],
      "execution_count": 3,
      "outputs": []
    },
    {
      "cell_type": "code",
      "metadata": {
        "id": "R-UojXFngx2l",
        "colab_type": "code",
        "colab": {}
      },
      "source": [
        "### Scaling the data(Normalization)\n",
        "x_train = x_train/255\n",
        "x_test = x_test/255"
      ],
      "execution_count": 4,
      "outputs": []
    },
    {
      "cell_type": "markdown",
      "metadata": {
        "id": "IOI_q62mYnTq",
        "colab_type": "text"
      },
      "source": [
        "**Training and Testing the model**"
      ]
    },
    {
      "cell_type": "code",
      "metadata": {
        "id": "H5bZIEiKg0PV",
        "colab_type": "code",
        "colab": {
          "base_uri": "https://localhost:8080/",
          "height": 580
        },
        "outputId": "fa35b2a8-e510-4aba-f622-a6d791c9a442"
      },
      "source": [
        "### Training the model\n",
        "model.fit(x_train,y_train,epochs=15)   ### epochs: no. of iterations"
      ],
      "execution_count": 5,
      "outputs": [
        {
          "output_type": "stream",
          "text": [
            "Epoch 1/15\n",
            "1875/1875 [==============================] - 10s 5ms/step - loss: 0.1905 - accuracy: 0.9426\n",
            "Epoch 2/15\n",
            "1875/1875 [==============================] - 10s 5ms/step - loss: 0.0755 - accuracy: 0.9767\n",
            "Epoch 3/15\n",
            "1875/1875 [==============================] - 10s 5ms/step - loss: 0.0484 - accuracy: 0.9851\n",
            "Epoch 4/15\n",
            "1875/1875 [==============================] - 10s 5ms/step - loss: 0.0355 - accuracy: 0.9886\n",
            "Epoch 5/15\n",
            "1875/1875 [==============================] - 10s 5ms/step - loss: 0.0252 - accuracy: 0.9921\n",
            "Epoch 6/15\n",
            "1875/1875 [==============================] - 10s 5ms/step - loss: 0.0220 - accuracy: 0.9929\n",
            "Epoch 7/15\n",
            "1875/1875 [==============================] - 9s 5ms/step - loss: 0.0170 - accuracy: 0.9944\n",
            "Epoch 8/15\n",
            "1875/1875 [==============================] - 10s 5ms/step - loss: 0.0143 - accuracy: 0.9952\n",
            "Epoch 9/15\n",
            "1875/1875 [==============================] - 9s 5ms/step - loss: 0.0132 - accuracy: 0.9961\n",
            "Epoch 10/15\n",
            "1875/1875 [==============================] - 9s 5ms/step - loss: 0.0116 - accuracy: 0.9964\n",
            "Epoch 11/15\n",
            "1875/1875 [==============================] - 10s 5ms/step - loss: 0.0098 - accuracy: 0.9967\n",
            "Epoch 12/15\n",
            "1875/1875 [==============================] - 10s 5ms/step - loss: 0.0106 - accuracy: 0.9965\n",
            "Epoch 13/15\n",
            "1875/1875 [==============================] - 10s 5ms/step - loss: 0.0082 - accuracy: 0.9972\n",
            "Epoch 14/15\n",
            "1875/1875 [==============================] - 10s 5ms/step - loss: 0.0095 - accuracy: 0.9971\n",
            "Epoch 15/15\n",
            "1875/1875 [==============================] - 10s 6ms/step - loss: 0.0076 - accuracy: 0.9976\n"
          ],
          "name": "stdout"
        },
        {
          "output_type": "execute_result",
          "data": {
            "text/plain": [
              "<tensorflow.python.keras.callbacks.History at 0x7f1ee3b75b00>"
            ]
          },
          "metadata": {
            "tags": []
          },
          "execution_count": 5
        }
      ]
    },
    {
      "cell_type": "code",
      "metadata": {
        "id": "zG6hn06Ug2LV",
        "colab_type": "code",
        "colab": {}
      },
      "source": [
        "y_pred = model.predict(x_test)  ### Predicting on test set"
      ],
      "execution_count": 6,
      "outputs": []
    },
    {
      "cell_type": "markdown",
      "metadata": {
        "id": "VEG8pwZIuOwp",
        "colab_type": "text"
      },
      "source": [
        "**Task 3 : Confusion Matrix**"
      ]
    },
    {
      "cell_type": "code",
      "metadata": {
        "id": "ArxKrysJnyDH",
        "colab_type": "code",
        "colab": {}
      },
      "source": [
        "from tensorflow.math import confusion_matrix"
      ],
      "execution_count": 7,
      "outputs": []
    },
    {
      "cell_type": "code",
      "metadata": {
        "id": "C4ROdj-irBJm",
        "colab_type": "code",
        "colab": {}
      },
      "source": [
        "y_pred_cl = []\n",
        "for i in y_pred:\n",
        "  y_pred_cl.append(np.argmax(i))\n",
        "y_pred_class = np.array(y_pred_cl)"
      ],
      "execution_count": 8,
      "outputs": []
    },
    {
      "cell_type": "code",
      "metadata": {
        "id": "RFa_HlO3rfg-",
        "colab_type": "code",
        "colab": {
          "base_uri": "https://localhost:8080/",
          "height": 235
        },
        "outputId": "90bdf9c3-5c51-4b47-c1f5-5f2e48790cbc"
      },
      "source": [
        "conf = confusion_matrix(y_test,y_pred_class,num_classes=10)\n",
        "conf"
      ],
      "execution_count": 9,
      "outputs": [
        {
          "output_type": "execute_result",
          "data": {
            "text/plain": [
              "<tf.Tensor: shape=(10, 10), dtype=int32, numpy=\n",
              "array([[ 973,    0,    1,    0,    1,    2,    2,    1,    0,    0],\n",
              "       [   1, 1122,    5,    2,    0,    0,    2,    1,    2,    0],\n",
              "       [   2,    0, 1016,    6,    1,    0,    1,    2,    3,    1],\n",
              "       [   0,    0,    7,  992,    0,    3,    0,    2,    2,    4],\n",
              "       [   1,    0,    2,    1,  966,    1,    3,    1,    1,    6],\n",
              "       [   2,    0,    0,   17,    0,  867,    4,    0,    2,    0],\n",
              "       [   2,    3,    1,    1,    3,    3,  945,    0,    0,    0],\n",
              "       [   2,    1,   12,    2,    1,    0,    0, 1002,    2,    6],\n",
              "       [   5,    0,    6,   13,    1,    1,    4,    2,  938,    4],\n",
              "       [   1,    2,    1,    8,    7,    1,    1,    5,    2,  981]],\n",
              "      dtype=int32)>"
            ]
          },
          "metadata": {
            "tags": []
          },
          "execution_count": 9
        }
      ]
    },
    {
      "cell_type": "markdown",
      "metadata": {
        "id": "7WkdRVaRhwRf",
        "colab_type": "text"
      },
      "source": [
        "**Task 1: Testing two random images**"
      ]
    },
    {
      "cell_type": "code",
      "metadata": {
        "id": "m2k4gq-YhtlI",
        "colab_type": "code",
        "colab": {}
      },
      "source": [
        "### Loading images\n",
        "img_1 = cv2.imread('a.png',0)\n",
        "img_2 = cv2.imread('3.png',0)"
      ],
      "execution_count": 10,
      "outputs": []
    },
    {
      "cell_type": "code",
      "metadata": {
        "id": "0C_qfAu8h_SJ",
        "colab_type": "code",
        "colab": {
          "base_uri": "https://localhost:8080/",
          "height": 35
        },
        "outputId": "18885388-80b9-498b-ae32-7401cd367657"
      },
      "source": [
        "img_1.shape"
      ],
      "execution_count": 11,
      "outputs": [
        {
          "output_type": "execute_result",
          "data": {
            "text/plain": [
              "(422, 383)"
            ]
          },
          "metadata": {
            "tags": []
          },
          "execution_count": 11
        }
      ]
    },
    {
      "cell_type": "code",
      "metadata": {
        "id": "LciqyaybiDQE",
        "colab_type": "code",
        "colab": {
          "base_uri": "https://localhost:8080/",
          "height": 35
        },
        "outputId": "7ee5fc73-d636-457c-c49f-03795547f18a"
      },
      "source": [
        "img_2.shape"
      ],
      "execution_count": 12,
      "outputs": [
        {
          "output_type": "execute_result",
          "data": {
            "text/plain": [
              "(422, 383)"
            ]
          },
          "metadata": {
            "tags": []
          },
          "execution_count": 12
        }
      ]
    },
    {
      "cell_type": "code",
      "metadata": {
        "id": "UjHw8bTfiGpp",
        "colab_type": "code",
        "colab": {}
      },
      "source": [
        "img_ini = np.array([img_1,img_2])"
      ],
      "execution_count": 13,
      "outputs": []
    },
    {
      "cell_type": "code",
      "metadata": {
        "id": "JhSXEjrQiY7Z",
        "colab_type": "code",
        "colab": {
          "base_uri": "https://localhost:8080/",
          "height": 35
        },
        "outputId": "633a0d87-fbb5-488a-c7a2-2aebaa59f0c4"
      },
      "source": [
        "img_ini.shape"
      ],
      "execution_count": 14,
      "outputs": [
        {
          "output_type": "execute_result",
          "data": {
            "text/plain": [
              "(2, 422, 383)"
            ]
          },
          "metadata": {
            "tags": []
          },
          "execution_count": 14
        }
      ]
    },
    {
      "cell_type": "code",
      "metadata": {
        "id": "_J9YghKaiaQ8",
        "colab_type": "code",
        "colab": {}
      },
      "source": [
        "### Resizing the images to 28x28\n",
        "img_rez = []\n",
        "for i in range(len(img_ini)):\n",
        "  img_rez.append(cv2.resize(img_ini[i],(28,28)))"
      ],
      "execution_count": 15,
      "outputs": []
    },
    {
      "cell_type": "code",
      "metadata": {
        "id": "NA4Ka4NwyEdm",
        "colab_type": "code",
        "colab": {}
      },
      "source": [
        "### Inverting colors to fit the model inputs\n",
        "for i in range(len(img_rez)):\n",
        "  img_rez[i] = cv2.bitwise_not(img_rez[i])"
      ],
      "execution_count": 16,
      "outputs": []
    },
    {
      "cell_type": "code",
      "metadata": {
        "id": "aY930o9YjdpW",
        "colab_type": "code",
        "colab": {
          "base_uri": "https://localhost:8080/",
          "height": 35
        },
        "outputId": "a2c0bfcd-a906-41ba-80cc-0a744496302f"
      },
      "source": [
        "img_rez_arr = np.array(img_rez)   ### Creating a numpy array of resized images\n",
        "img_rez_arr.shape"
      ],
      "execution_count": 17,
      "outputs": [
        {
          "output_type": "execute_result",
          "data": {
            "text/plain": [
              "(2, 28, 28)"
            ]
          },
          "metadata": {
            "tags": []
          },
          "execution_count": 17
        }
      ]
    },
    {
      "cell_type": "code",
      "metadata": {
        "id": "wKO9A_pLjnqw",
        "colab_type": "code",
        "colab": {
          "base_uri": "https://localhost:8080/",
          "height": 265
        },
        "outputId": "54e0af9a-0757-4675-b4e2-3bd9939a8473"
      },
      "source": [
        "plt.imshow(img_rez_arr[0], cmap='gray')\n",
        "plt.show()"
      ],
      "execution_count": 18,
      "outputs": [
        {
          "output_type": "display_data",
          "data": {
            "image/png": "[encoded data removed]",
            "text/plain": [
              "<Figure size 432x288 with 1 Axes>"
            ]
          },
          "metadata": {
            "tags": [],
            "needs_background": "light"
          }
        }
      ]
    },
    {
      "cell_type": "code",
      "metadata": {
        "id": "yrAs_6WPkrN4",
        "colab_type": "code",
        "colab": {}
      },
      "source": [
        "### Predicting using model\n",
        "pred = model.predict(img_rez_arr)"
      ],
      "execution_count": 19,
      "outputs": []
    },
    {
      "cell_type": "code",
      "metadata": {
        "id": "ZGQ_zHFGupjo",
        "colab_type": "code",
        "colab": {}
      },
      "source": [
        "### Finding out predicted digit\n",
        "img1_pred = np.argmax(pred[0])\n",
        "img2_pred = np.argmax(pred[1])"
      ],
      "execution_count": 20,
      "outputs": []
    },
    {
      "cell_type": "code",
      "metadata": {
        "id": "VGNmX3nZvUvW",
        "colab_type": "code",
        "colab": {
          "base_uri": "https://localhost:8080/",
          "height": 283
        },
        "outputId": "ded45c8a-5b10-4383-80e1-465bca5f65ad"
      },
      "source": [
        "plt.imshow(img_rez_arr[0], cmap='gray')\n",
        "plt.show()\n",
        "print(\"Predicted value: {}\".format(img1_pred))"
      ],
      "execution_count": 21,
      "outputs": [
        {
          "output_type": "display_data",
          "data": {
            "image/png": "[encoded data removed]",
            "text/plain": [
              "<Figure size 432x288 with 1 Axes>"
            ]
          },
          "metadata": {
            "tags": [],
            "needs_background": "light"
          }
        },
        {
          "output_type": "stream",
          "text": [
            "Predicted value: 2\n"
          ],
          "name": "stdout"
        }
      ]
    },
    {
      "cell_type": "code",
      "metadata": {
        "id": "FAAZxhlFvX4I",
        "colab_type": "code",
        "colab": {
          "base_uri": "https://localhost:8080/",
          "height": 283
        },
        "outputId": "32c42769-52d5-4c3f-e0bd-992ddc37824f"
      },
      "source": [
        "plt.imshow(img_rez_arr[1], cmap='gray')\n",
        "plt.show()\n",
        "print(\"Predicted value: {}\".format(img2_pred))"
      ],
      "execution_count": 22,
      "outputs": [
        {
          "output_type": "display_data",
          "data": {
            "image/png": "[encoded data removed]",
            "text/plain": [
              "<Figure size 432x288 with 1 Axes>"
            ]
          },
          "metadata": {
            "tags": [],
            "needs_background": "light"
          }
        },
        {
          "output_type": "stream",
          "text": [
            "Predicted value: 3\n"
          ],
          "name": "stdout"
        }
      ]
    }
  ]
}